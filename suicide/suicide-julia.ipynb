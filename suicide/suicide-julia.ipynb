{
 "cells": [
  {
   "cell_type": "code",
   "execution_count": 62,
   "metadata": {},
   "outputs": [],
   "source": [
    "using DataFrames, CSV, PyPlot, Missings, Statistics, ScikitLearn, LinearAlgebra"
   ]
  },
  {
   "cell_type": "code",
   "execution_count": 2,
   "metadata": {},
   "outputs": [
    {
     "name": "stdout",
     "output_type": "stream",
     "text": [
      "DataFrame as 43776 rows\n"
     ]
    },
    {
     "data": {
      "text/html": [
       "<table class=\"data-frame\"><thead><tr><th></th><th>country</th><th>year</th><th>sex</th><th>age</th><th>suicides_no</th><th>population</th></tr><tr><th></th><th>String⍰</th><th>Int64⍰</th><th>String⍰</th><th>String⍰</th><th>Int64⍰</th><th>Int64⍰</th></tr></thead><tbody><p>5 rows × 6 columns</p><tr><th>1</th><td>Albania</td><td>1985</td><td>female</td><td>15-24 years</td><td>missing</td><td>277900</td></tr><tr><th>2</th><td>Albania</td><td>1985</td><td>female</td><td>25-34 years</td><td>missing</td><td>246800</td></tr><tr><th>3</th><td>Albania</td><td>1985</td><td>female</td><td>35-54 years</td><td>missing</td><td>267500</td></tr><tr><th>4</th><td>Albania</td><td>1985</td><td>female</td><td>5-14 years</td><td>missing</td><td>298300</td></tr><tr><th>5</th><td>Albania</td><td>1985</td><td>female</td><td>55-74 years</td><td>missing</td><td>138700</td></tr></tbody></table>"
      ],
      "text/latex": [
       "\\begin{tabular}{r|cccccc}\n",
       "\t& country & year & sex & age & suicides\\_no & population\\\\\n",
       "\t\\hline\n",
       "\t& String⍰ & Int64⍰ & String⍰ & String⍰ & Int64⍰ & Int64⍰\\\\\n",
       "\t\\hline\n",
       "\t1 & Albania & 1985 & female & 15-24 years &  & 277900 \\\\\n",
       "\t2 & Albania & 1985 & female & 25-34 years &  & 246800 \\\\\n",
       "\t3 & Albania & 1985 & female & 35-54 years &  & 267500 \\\\\n",
       "\t4 & Albania & 1985 & female & 5-14 years &  & 298300 \\\\\n",
       "\t5 & Albania & 1985 & female & 55-74 years &  & 138700 \\\\\n",
       "\\end{tabular}\n"
      ],
      "text/plain": [
       "5×6 DataFrame\n",
       "│ Row │ country │ year   │ sex     │ age         │ suicides_no │ population │\n",
       "│     │ \u001b[90mString⍰\u001b[39m │ \u001b[90mInt64⍰\u001b[39m │ \u001b[90mString⍰\u001b[39m │ \u001b[90mString⍰\u001b[39m     │ \u001b[90mInt64⍰\u001b[39m      │ \u001b[90mInt64⍰\u001b[39m     │\n",
       "├─────┼─────────┼────────┼─────────┼─────────────┼─────────────┼────────────┤\n",
       "│ 1   │ Albania │ 1985   │ female  │ 15-24 years │ \u001b[90mmissing\u001b[39m     │ 277900     │\n",
       "│ 2   │ Albania │ 1985   │ female  │ 25-34 years │ \u001b[90mmissing\u001b[39m     │ 246800     │\n",
       "│ 3   │ Albania │ 1985   │ female  │ 35-54 years │ \u001b[90mmissing\u001b[39m     │ 267500     │\n",
       "│ 4   │ Albania │ 1985   │ female  │ 5-14 years  │ \u001b[90mmissing\u001b[39m     │ 298300     │\n",
       "│ 5   │ Albania │ 1985   │ female  │ 55-74 years │ \u001b[90mmissing\u001b[39m     │ 138700     │"
      ]
     },
     "execution_count": 2,
     "metadata": {},
     "output_type": "execute_result"
    }
   ],
   "source": [
    "suicide_raw = CSV.read(\"who_suicide.csv\")\n",
    "println(\"DataFrame as $(size(suicide_raw, 1)) rows\")\n",
    "first(suicide_raw, 5)"
   ]
  },
  {
   "cell_type": "code",
   "execution_count": 3,
   "metadata": {},
   "outputs": [
    {
     "data": {
      "text/html": [
       "<table class=\"data-frame\"><thead><tr><th></th><th>country</th><th>year</th><th>sex</th><th>age</th><th>suicides_no</th><th>population</th></tr><tr><th></th><th>String⍰</th><th>Int64⍰</th><th>String⍰</th><th>String⍰</th><th>Int64</th><th>Int64</th></tr></thead><tbody><p>5 rows × 6 columns</p><tr><th>1</th><td>Albania</td><td>1987</td><td>female</td><td>15-24 years</td><td>14</td><td>289700</td></tr><tr><th>2</th><td>Albania</td><td>1987</td><td>female</td><td>25-34 years</td><td>4</td><td>257200</td></tr><tr><th>3</th><td>Albania</td><td>1987</td><td>female</td><td>35-54 years</td><td>6</td><td>278800</td></tr><tr><th>4</th><td>Albania</td><td>1987</td><td>female</td><td>5-14 years</td><td>0</td><td>311000</td></tr><tr><th>5</th><td>Albania</td><td>1987</td><td>female</td><td>55-74 years</td><td>0</td><td>144600</td></tr></tbody></table>"
      ],
      "text/latex": [
       "\\begin{tabular}{r|cccccc}\n",
       "\t& country & year & sex & age & suicides\\_no & population\\\\\n",
       "\t\\hline\n",
       "\t& String⍰ & Int64⍰ & String⍰ & String⍰ & Int64 & Int64\\\\\n",
       "\t\\hline\n",
       "\t1 & Albania & 1987 & female & 15-24 years & 14 & 289700 \\\\\n",
       "\t2 & Albania & 1987 & female & 25-34 years & 4 & 257200 \\\\\n",
       "\t3 & Albania & 1987 & female & 35-54 years & 6 & 278800 \\\\\n",
       "\t4 & Albania & 1987 & female & 5-14 years & 0 & 311000 \\\\\n",
       "\t5 & Albania & 1987 & female & 55-74 years & 0 & 144600 \\\\\n",
       "\\end{tabular}\n"
      ],
      "text/plain": [
       "5×6 DataFrame\n",
       "│ Row │ country │ year   │ sex     │ age         │ suicides_no │ population │\n",
       "│     │ \u001b[90mString⍰\u001b[39m │ \u001b[90mInt64⍰\u001b[39m │ \u001b[90mString⍰\u001b[39m │ \u001b[90mString⍰\u001b[39m     │ \u001b[90mInt64\u001b[39m       │ \u001b[90mInt64\u001b[39m      │\n",
       "├─────┼─────────┼────────┼─────────┼─────────────┼─────────────┼────────────┤\n",
       "│ 1   │ Albania │ 1987   │ female  │ 15-24 years │ 14          │ 289700     │\n",
       "│ 2   │ Albania │ 1987   │ female  │ 25-34 years │ 4           │ 257200     │\n",
       "│ 3   │ Albania │ 1987   │ female  │ 35-54 years │ 6           │ 278800     │\n",
       "│ 4   │ Albania │ 1987   │ female  │ 5-14 years  │ 0           │ 311000     │\n",
       "│ 5   │ Albania │ 1987   │ female  │ 55-74 years │ 0           │ 144600     │"
      ]
     },
     "execution_count": 3,
     "metadata": {},
     "output_type": "execute_result"
    }
   ],
   "source": [
    "suicide = dropmissing(suicide_raw, [:suicides_no, :population], disallowmissing=true)\n",
    "first(suicide, 5)"
   ]
  },
  {
   "cell_type": "code",
   "execution_count": 4,
   "metadata": {},
   "outputs": [],
   "source": [
    "suicide[:proportion] = suicide[:suicides_no] ./ suicide[:population];"
   ]
  },
  {
   "cell_type": "code",
   "execution_count": 52,
   "metadata": {},
   "outputs": [
    {
     "data": {
      "image/png": "[encoded data removed]",
      "text/plain": [
       "Figure(PyObject <Figure size 640x480 with 1 Axes>)"
      ]
     },
     "metadata": {},
     "output_type": "display_data"
    },
    {
     "data": {
      "text/plain": [
       "(0.0, 0.0004)"
      ]
     },
     "execution_count": 52,
     "metadata": {},
     "output_type": "execute_result"
    }
   ],
   "source": [
    "prop_by_year = by(suicide, :year, mean_prop = :proportion => mean)\n",
    "scatter(prop_by_year[:year], prop_by_year[:mean_prop])\n",
    "ylim([0, 0.0004])"
   ]
  },
  {
   "cell_type": "code",
   "execution_count": 6,
   "metadata": {},
   "outputs": [
    {
     "data": {
      "text/plain": [
       "(0.0030075187969924814, 0.0)"
      ]
     },
     "execution_count": 6,
     "metadata": {},
     "output_type": "execute_result"
    }
   ],
   "source": [
    "function maxmin(arr)\n",
    "    return maximum(arr), minimum(arr)\n",
    "end\n",
    "\n",
    "maxmin(suicide[:proportion])"
   ]
  },
  {
   "cell_type": "code",
   "execution_count": 7,
   "metadata": {},
   "outputs": [],
   "source": [
    "function Base.length(s::Symbol)\n",
    "    return 1\n",
    "end\n",
    "\n",
    "function Base.getindex(s::Symbol, i)\n",
    "    return s\n",
    "end"
   ]
  },
  {
   "cell_type": "code",
   "execution_count": 8,
   "metadata": {},
   "outputs": [
    {
     "data": {
      "text/plain": [
       "one_hot_encode! (generic function with 2 methods)"
      ]
     },
     "execution_count": 8,
     "metadata": {},
     "output_type": "execute_result"
    }
   ],
   "source": [
    "function one_hot_encode!(df::DataFrame, cols, drop=false)\n",
    "    for i = 1:length(cols)\n",
    "        col = cols[i]\n",
    "        values = unique(df[col])\n",
    "        for val in values\n",
    "            is_val = Int32.(df[col] .== val)\n",
    "            label = Symbol(\"$(col)_$val\")\n",
    "            df[label] = is_val\n",
    "        end\n",
    "    end\n",
    "    if drop\n",
    "        deletecols!(df, cols)\n",
    "    end\n",
    "end"
   ]
  },
  {
   "cell_type": "code",
   "execution_count": 9,
   "metadata": {},
   "outputs": [
    {
     "data": {
      "text/html": [
       "<table class=\"data-frame\"><thead><tr><th></th><th>country</th><th>year</th><th>suicides_no</th><th>population</th><th>proportion</th><th>sex_female</th><th>sex_male</th><th>age_15-24 years</th><th>age_25-34 years</th><th>age_35-54 years</th><th>age_5-14 years</th><th>age_55-74 years</th><th>age_75+ years</th></tr><tr><th></th><th>String⍰</th><th>Int64⍰</th><th>Int64</th><th>Int64</th><th>Float64</th><th>Int32</th><th>Int32</th><th>Int32</th><th>Int32</th><th>Int32</th><th>Int32</th><th>Int32</th><th>Int32</th></tr></thead><tbody><p>5 rows × 13 columns</p><tr><th>1</th><td>Albania</td><td>1987</td><td>14</td><td>289700</td><td>4.83259e-5</td><td>1</td><td>0</td><td>1</td><td>0</td><td>0</td><td>0</td><td>0</td><td>0</td></tr><tr><th>2</th><td>Albania</td><td>1987</td><td>4</td><td>257200</td><td>1.55521e-5</td><td>1</td><td>0</td><td>0</td><td>1</td><td>0</td><td>0</td><td>0</td><td>0</td></tr><tr><th>3</th><td>Albania</td><td>1987</td><td>6</td><td>278800</td><td>2.15208e-5</td><td>1</td><td>0</td><td>0</td><td>0</td><td>1</td><td>0</td><td>0</td><td>0</td></tr><tr><th>4</th><td>Albania</td><td>1987</td><td>0</td><td>311000</td><td>0.0</td><td>1</td><td>0</td><td>0</td><td>0</td><td>0</td><td>1</td><td>0</td><td>0</td></tr><tr><th>5</th><td>Albania</td><td>1987</td><td>0</td><td>144600</td><td>0.0</td><td>1</td><td>0</td><td>0</td><td>0</td><td>0</td><td>0</td><td>1</td><td>0</td></tr></tbody></table>"
      ],
      "text/latex": [
       "\\begin{tabular}{r|ccccccccccccc}\n",
       "\t& country & year & suicides\\_no & population & proportion & sex\\_female & sex\\_male & age\\_15-24 years & age\\_25-34 years & age\\_35-54 years & age\\_5-14 years & age\\_55-74 years & age\\_75+ years\\\\\n",
       "\t\\hline\n",
       "\t& String⍰ & Int64⍰ & Int64 & Int64 & Float64 & Int32 & Int32 & Int32 & Int32 & Int32 & Int32 & Int32 & Int32\\\\\n",
       "\t\\hline\n",
       "\t1 & Albania & 1987 & 14 & 289700 & 4.83259e-5 & 1 & 0 & 1 & 0 & 0 & 0 & 0 & 0 \\\\\n",
       "\t2 & Albania & 1987 & 4 & 257200 & 1.55521e-5 & 1 & 0 & 0 & 1 & 0 & 0 & 0 & 0 \\\\\n",
       "\t3 & Albania & 1987 & 6 & 278800 & 2.15208e-5 & 1 & 0 & 0 & 0 & 1 & 0 & 0 & 0 \\\\\n",
       "\t4 & Albania & 1987 & 0 & 311000 & 0.0 & 1 & 0 & 0 & 0 & 0 & 1 & 0 & 0 \\\\\n",
       "\t5 & Albania & 1987 & 0 & 144600 & 0.0 & 1 & 0 & 0 & 0 & 0 & 0 & 1 & 0 \\\\\n",
       "\\end{tabular}\n"
      ],
      "text/plain": [
       "5×13 DataFrame. Omitted printing of 7 columns\n",
       "│ Row │ country │ year   │ suicides_no │ population │ proportion │ sex_female │\n",
       "│     │ \u001b[90mString⍰\u001b[39m │ \u001b[90mInt64⍰\u001b[39m │ \u001b[90mInt64\u001b[39m       │ \u001b[90mInt64\u001b[39m      │ \u001b[90mFloat64\u001b[39m    │ \u001b[90mInt32\u001b[39m      │\n",
       "├─────┼─────────┼────────┼─────────────┼────────────┼────────────┼────────────┤\n",
       "│ 1   │ Albania │ 1987   │ 14          │ 289700     │ 4.83259e-5 │ 1          │\n",
       "│ 2   │ Albania │ 1987   │ 4           │ 257200     │ 1.55521e-5 │ 1          │\n",
       "│ 3   │ Albania │ 1987   │ 6           │ 278800     │ 2.15208e-5 │ 1          │\n",
       "│ 4   │ Albania │ 1987   │ 0           │ 311000     │ 0.0        │ 1          │\n",
       "│ 5   │ Albania │ 1987   │ 0           │ 144600     │ 0.0        │ 1          │"
      ]
     },
     "execution_count": 9,
     "metadata": {},
     "output_type": "execute_result"
    }
   ],
   "source": [
    "one_hot_encode!(suicide, [:sex, :age], true)\n",
    "first(suicide, 5)"
   ]
  },
  {
   "cell_type": "code",
   "execution_count": 33,
   "metadata": {},
   "outputs": [],
   "source": [
    "X = suicide[4:end]\n",
    "y = suicide[:suicides_no];"
   ]
  },
  {
   "cell_type": "code",
   "execution_count": 34,
   "metadata": {},
   "outputs": [
    {
     "data": {
      "text/plain": [
       "36060×10 Array{Float64,2}:\n",
       " 289700.0  4.83259e-5   1.0  0.0  1.0  0.0  0.0  0.0  0.0  0.0\n",
       " 257200.0  1.55521e-5   1.0  0.0  0.0  1.0  0.0  0.0  0.0  0.0\n",
       " 278800.0  2.15208e-5   1.0  0.0  0.0  0.0  1.0  0.0  0.0  0.0\n",
       " 311000.0  0.0          1.0  0.0  0.0  0.0  0.0  1.0  0.0  0.0\n",
       " 144600.0  0.0          1.0  0.0  0.0  0.0  0.0  0.0  1.0  0.0\n",
       "  35600.0  2.80899e-5   1.0  0.0  0.0  0.0  0.0  0.0  0.0  1.0\n",
       " 312900.0  6.71141e-5   0.0  1.0  1.0  0.0  0.0  0.0  0.0  0.0\n",
       " 274300.0  3.28108e-5   0.0  1.0  0.0  1.0  0.0  0.0  0.0  0.0\n",
       " 308000.0  5.19481e-5   0.0  1.0  0.0  0.0  1.0  0.0  0.0  0.0\n",
       " 338200.0  0.0          0.0  1.0  0.0  0.0  0.0  1.0  0.0  0.0\n",
       " 137500.0  7.27273e-6   0.0  1.0  0.0  0.0  0.0  0.0  1.0  0.0\n",
       "  21800.0  4.58716e-5   0.0  1.0  0.0  0.0  0.0  0.0  0.0  1.0\n",
       " 295600.0  2.70636e-5   1.0  0.0  1.0  0.0  0.0  0.0  0.0  0.0\n",
       "      ⋮                                ⋮                      \n",
       "   6675.0  0.0          1.0  0.0  1.0  0.0  0.0  0.0  0.0  0.0\n",
       "   5662.0  0.0          1.0  0.0  0.0  1.0  0.0  0.0  0.0  0.0\n",
       "  14278.0  0.0          1.0  0.0  0.0  0.0  1.0  0.0  0.0  0.0\n",
       "   7099.0  0.0          1.0  0.0  0.0  0.0  0.0  1.0  0.0  0.0\n",
       "  14269.0  0.0          1.0  0.0  0.0  0.0  0.0  0.0  1.0  0.0\n",
       "   3508.0  0.0          1.0  0.0  0.0  0.0  0.0  0.0  0.0  1.0\n",
       "   6933.0  0.0          0.0  1.0  1.0  0.0  0.0  0.0  0.0  0.0\n",
       "   4609.0  0.000433934  0.0  1.0  0.0  1.0  0.0  0.0  0.0  0.0\n",
       "  12516.0  7.98977e-5   0.0  1.0  0.0  0.0  1.0  0.0  0.0  0.0\n",
       "   7291.0  0.0          0.0  1.0  0.0  0.0  0.0  1.0  0.0  0.0\n",
       "  12615.0  0.0          0.0  1.0  0.0  0.0  0.0  0.0  1.0  0.0\n",
       "   2496.0  0.0          0.0  1.0  0.0  0.0  0.0  0.0  0.0  1.0"
      ]
     },
     "execution_count": 34,
     "metadata": {},
     "output_type": "execute_result"
    }
   ],
   "source": [
    "mapper = DataFrameMapper([(names(X), nothing)])\n",
    "X = fit_transform!(mapper, X)"
   ]
  },
  {
   "cell_type": "code",
   "execution_count": 36,
   "metadata": {},
   "outputs": [
    {
     "name": "stderr",
     "output_type": "stream",
     "text": [
      "┌ Warning: `getindex(o::PyObject, s::Symbol)` is deprecated in favor of dot overloading (`getproperty`) so elements should now be accessed as e.g. `o.s` instead of `o[:s]`.\n",
      "│   caller = import_sklearn() at Skcore.jl:120\n",
      "└ @ ScikitLearn.Skcore /Users/chrispyles/.julia/packages/ScikitLearn/HK6Vs/src/Skcore.jl:120\n",
      "┌ Warning: `getindex(o::PyObject, s::Symbol)` is deprecated in favor of dot overloading (`getproperty`) so elements should now be accessed as e.g. `o.s` instead of `o[:s]`.\n",
      "│   caller = top-level scope at Skcore.jl:158\n",
      "└ @ Core /Users/chrispyles/.julia/packages/ScikitLearn/HK6Vs/src/Skcore.jl:158\n"
     ]
    },
    {
     "data": {
      "text/plain": [
       "PyObject <class 'sklearn.linear_model.base.LinearRegression'>"
      ]
     },
     "execution_count": 36,
     "metadata": {},
     "output_type": "execute_result"
    }
   ],
   "source": [
    "@sk_import linear_model: LinearRegression"
   ]
  },
  {
   "cell_type": "code",
   "execution_count": 38,
   "metadata": {},
   "outputs": [
    {
     "data": {
      "text/plain": [
       "PyObject LinearRegression(copy_X=True, fit_intercept=True, n_jobs=None,\n",
       "         normalize=False)"
      ]
     },
     "execution_count": 38,
     "metadata": {},
     "output_type": "execute_result"
    }
   ],
   "source": [
    "model = LinearRegression()"
   ]
  },
  {
   "cell_type": "code",
   "execution_count": 39,
   "metadata": {},
   "outputs": [
    {
     "name": "stderr",
     "output_type": "stream",
     "text": [
      "┌ Warning: `getindex(o::PyObject, s::Symbol)` is deprecated in favor of dot overloading (`getproperty`) so elements should now be accessed as e.g. `o.s` instead of `o[:s]`.\n",
      "│   caller = #fit!#31(::Base.Iterators.Pairs{Union{},Union{},Tuple{},NamedTuple{(),Tuple{}}}, ::Function, ::PyCall.PyObject, ::Array{Float64,2}, ::Vararg{Any,N} where N) at Skcore.jl:100\n",
      "└ @ ScikitLearn.Skcore /Users/chrispyles/.julia/packages/ScikitLearn/HK6Vs/src/Skcore.jl:100\n",
      "┌ Warning: `getindex(o::PyObject, s::Symbol)` is deprecated in favor of dot overloading (`getproperty`) so elements should now be accessed as e.g. `o.s` instead of `o[:s]`.\n",
      "│   caller = tweak_rval(::PyCall.PyObject) at Skcore.jl:92\n",
      "└ @ ScikitLearn.Skcore /Users/chrispyles/.julia/packages/ScikitLearn/HK6Vs/src/Skcore.jl:92\n"
     ]
    },
    {
     "data": {
      "text/plain": [
       "PyObject LinearRegression(copy_X=True, fit_intercept=True, n_jobs=None,\n",
       "         normalize=False)"
      ]
     },
     "execution_count": 39,
     "metadata": {},
     "output_type": "execute_result"
    }
   ],
   "source": [
    "fit!(model, X, y)"
   ]
  },
  {
   "cell_type": "code",
   "execution_count": 41,
   "metadata": {},
   "outputs": [
    {
     "data": {
      "text/plain": [
       "36060-element Array{Float64,1}:\n",
       " -126.2126686292282  \n",
       " -135.99936447108922 \n",
       "  -60.539724480215796\n",
       " -233.8883731362949  \n",
       " -122.00783440219233 \n",
       " -229.8174754057066  \n",
       "  -26.675659036261123\n",
       "  -39.05967616810541 \n",
       "   53.11097726354242 \n",
       " -155.22109112910937 \n",
       "  -39.84086035045581 \n",
       " -136.60119450686724 \n",
       " -149.63851117430826 \n",
       "    ⋮                \n",
       " -220.89831209567376 \n",
       " -188.9029268847225  \n",
       " -122.06608929877972 \n",
       " -276.37445100114286 \n",
       " -140.22841615152353 \n",
       " -266.34194962558047 \n",
       " -145.99758534771655 \n",
       "  380.73773432624273 \n",
       "   43.67963758699889 \n",
       " -201.48295120913207 \n",
       "  -65.59499152128748 \n",
       " -191.61877187841088 "
      ]
     },
     "execution_count": 41,
     "metadata": {},
     "output_type": "execute_result"
    }
   ],
   "source": [
    "y_fitted = predict(model, X)"
   ]
  },
  {
   "cell_type": "code",
   "execution_count": 60,
   "metadata": {},
   "outputs": [
    {
     "data": {
      "text/plain": [
       "119070.73830958827"
      ]
     },
     "execution_count": 60,
     "metadata": {},
     "output_type": "execute_result"
    }
   ],
   "source": [
    "function rmse(y, y_hat)\n",
    "    return sqrt(sum((y - y_hat).^2))\n",
    "end\n",
    "\n",
    "rmse(y, y_fitted)"
   ]
  },
  {
   "cell_type": "code",
   "execution_count": 67,
   "metadata": {},
   "outputs": [
    {
     "data": {
      "text/plain": [
       "SVD{Float64,Float64,Array{Float64,2}}([-0.000374853 0.00536141 … -0.00115984 0.283556; -0.0003328 0.00539759 … 0.000998807 0.0446626; … ; -1.6323e-5 0.00599003 … 0.0074882 -0.0012485; -3.22966e-6 0.00630108 … 0.0101125 -0.00379554], [7.72837e8, 141.057, 134.255, 77.5242, 77.5242, 77.5242, 77.5242, 76.1688, 0.0320263, 1.56213e-14], [-1.0 -1.33916e-11 … -1.71615e-8 -5.03811e-9; -8.2544e-8 0.000167045 … 0.203373 0.246413; … ; 1.62017e-12 -1.0 … 6.8466e-5 0.000152528; -2.14157e-24 -1.83858e-13 … -0.353553 -0.353553])"
      ]
     },
     "execution_count": 67,
     "metadata": {},
     "output_type": "execute_result"
    }
   ],
   "source": [
    "U, Σ, VT = svd(X)"
   ]
  },
  {
   "cell_type": "code",
   "execution_count": 73,
   "metadata": {},
   "outputs": [
    {
     "data": {
      "image/png": "[encoded data removed]",
      "text/plain": [
       "Figure(PyObject <Figure size 640x480 with 1 Axes>)"
      ]
     },
     "metadata": {},
     "output_type": "display_data"
    },
    {
     "data": {
      "text/plain": [
       "1-element Array{PyCall.PyObject,1}:\n",
       " PyObject <matplotlib.lines.Line2D object at 0x14885c1d0>"
      ]
     },
     "execution_count": 73,
     "metadata": {},
     "output_type": "execute_result"
    }
   ],
   "source": [
    "# scree plot\n",
    "plot(1:size(Σ, 1), Σ.^2)"
   ]
  },
  {
   "cell_type": "code",
   "execution_count": 72,
   "metadata": {},
   "outputs": [
    {
     "data": {
      "text/plain": [
       "10-element Array{Float64,1}:\n",
       "   7.728368150645667e8   \n",
       " 141.05746682488362      \n",
       " 134.25529743855708      \n",
       "  77.5241908457474       \n",
       "  77.52418977325722      \n",
       "  77.52418977325722      \n",
       "  77.5241897732572       \n",
       "  76.1688468856059       \n",
       "   0.0320262747266237    \n",
       "   1.5621345400168433e-14"
      ]
     },
     "execution_count": 72,
     "metadata": {},
     "output_type": "execute_result"
    }
   ],
   "source": [
    "Σ"
   ]
  },
  {
   "cell_type": "code",
   "execution_count": 78,
   "metadata": {},
   "outputs": [
    {
     "data": {
      "text/plain": [
       "3-element Array{Float64,1}:\n",
       " -0.8728715609439697\n",
       " -0.2182178902359925\n",
       "  1.0910894511799618"
      ]
     },
     "execution_count": 78,
     "metadata": {},
     "output_type": "execute_result"
    }
   ],
   "source": [
    "function pca_normalize(a):\n",
    "    return (a .- mean(a))/sqrt(length(a))\n",
    "end\n",
    "\n"
   ]
  },
  {
   "cell_type": "code",
   "execution_count": null,
   "metadata": {},
   "outputs": [],
   "source": []
  }
 ],
 "metadata": {
  "@webio": {
   "lastCommId": null,
   "lastKernelId": null
  },
  "kernelspec": {
   "display_name": "Julia 1.1.0",
   "language": "julia",
   "name": "julia-1.1"
  },
  "language_info": {
   "file_extension": ".jl",
   "mimetype": "application/julia",
   "name": "julia",
   "version": "1.1.0"
  }
 },
 "nbformat": 4,
 "nbformat_minor": 2
}
