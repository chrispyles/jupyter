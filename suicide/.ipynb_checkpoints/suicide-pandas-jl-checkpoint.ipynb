{
 "cells": [
  {
   "cell_type": "code",
   "execution_count": 9,
   "metadata": {},
   "outputs": [],
   "source": [
    "using Pandas, Statistics, PyPlot, Seaborn, ScikitLearn, DataFrames"
   ]
  },
  {
   "cell_type": "code",
   "execution_count": 14,
   "metadata": {},
   "outputs": [
    {
     "data": {
      "text/plain": [
       "                    country  year     sex          age  suicides_no  population\n",
       "0                   Albania  1985  female  15-24 years          NaN    277900.0\n",
       "1                   Albania  1985  female  25-34 years          NaN    246800.0\n",
       "2                   Albania  1985  female  35-54 years          NaN    267500.0\n",
       "3                   Albania  1985  female   5-14 years          NaN    298300.0\n",
       "4                   Albania  1985  female  55-74 years          NaN    138700.0\n",
       "5                   Albania  1985  female    75+ years          NaN     34200.0\n",
       "6                   Albania  1985    male  15-24 years          NaN    301400.0\n",
       "7                   Albania  1985    male  25-34 years          NaN    264200.0\n",
       "8                   Albania  1985    male  35-54 years          NaN    296700.0\n",
       "9                   Albania  1985    male   5-14 years          NaN    325800.0\n",
       "10                  Albania  1985    male  55-74 years          NaN    132500.0\n",
       "11                  Albania  1985    male    75+ years          NaN     21100.0\n",
       "12                  Albania  1986  female  15-24 years          NaN    283900.0\n",
       "13                  Albania  1986  female  25-34 years          NaN    252100.0\n",
       "14                  Albania  1986  female  35-54 years          NaN    273200.0\n",
       "15                  Albania  1986  female   5-14 years          NaN    304700.0\n",
       "16                  Albania  1986  female  55-74 years          NaN    141700.0\n",
       "17                  Albania  1986  female    75+ years          NaN     34900.0\n",
       "18                  Albania  1986    male  15-24 years          NaN    306700.0\n",
       "19                  Albania  1986    male  25-34 years          NaN    269000.0\n",
       "20                  Albania  1986    male  35-54 years          NaN    302000.0\n",
       "21                  Albania  1986    male   5-14 years          NaN    331600.0\n",
       "22                  Albania  1986    male  55-74 years          NaN    134800.0\n",
       "23                  Albania  1986    male    75+ years          NaN     21400.0\n",
       "24                  Albania  1987  female  15-24 years         14.0    289700.0\n",
       "25                  Albania  1987  female  25-34 years          4.0    257200.0\n",
       "26                  Albania  1987  female  35-54 years          6.0    278800.0\n",
       "27                  Albania  1987  female   5-14 years          0.0    311000.0\n",
       "28                  Albania  1987  female  55-74 years          0.0    144600.0\n",
       "29                  Albania  1987  female    75+ years          1.0     35600.0\n",
       "...                     ...   ...     ...          ...          ...         ...\n",
       "43746  Virgin Islands (USA)  2012    male  15-24 years          2.0      6663.0\n",
       "43747  Virgin Islands (USA)  2012    male  25-34 years          2.0      5061.0\n",
       "43748  Virgin Islands (USA)  2012    male  35-54 years          2.0     13542.0\n",
       "43749  Virgin Islands (USA)  2012    male   5-14 years          0.0      7334.0\n",
       "43750  Virgin Islands (USA)  2012    male  55-74 years          0.0     11957.0\n",
       "43751  Virgin Islands (USA)  2012    male    75+ years          0.0      2135.0\n",
       "43752  Virgin Islands (USA)  2015  female  15-24 years          0.0      6675.0\n",
       "43753  Virgin Islands (USA)  2015  female  25-34 years          0.0      5662.0\n",
       "43754  Virgin Islands (USA)  2015  female  35-54 years          0.0     14278.0\n",
       "43755  Virgin Islands (USA)  2015  female   5-14 years          0.0      7099.0\n",
       "43756  Virgin Islands (USA)  2015  female  55-74 years          0.0     14269.0\n",
       "43757  Virgin Islands (USA)  2015  female    75+ years          0.0      3508.0\n",
       "43758  Virgin Islands (USA)  2015    male  15-24 years          0.0      6933.0\n",
       "43759  Virgin Islands (USA)  2015    male  25-34 years          2.0      4609.0\n",
       "43760  Virgin Islands (USA)  2015    male  35-54 years          1.0     12516.0\n",
       "43761  Virgin Islands (USA)  2015    male   5-14 years          0.0      7291.0\n",
       "43762  Virgin Islands (USA)  2015    male  55-74 years          0.0     12615.0\n",
       "43763  Virgin Islands (USA)  2015    male    75+ years          0.0      2496.0\n",
       "43764              Zimbabwe  1990  female  15-24 years        124.0         NaN\n",
       "43765              Zimbabwe  1990  female  25-34 years         59.0         NaN\n",
       "43766              Zimbabwe  1990  female  35-54 years         45.0         NaN\n",
       "43767              Zimbabwe  1990  female   5-14 years          6.0         NaN\n",
       "43768              Zimbabwe  1990  female  55-74 years         20.0         NaN\n",
       "43769              Zimbabwe  1990  female    75+ years          3.0         NaN\n",
       "43770              Zimbabwe  1990    male  15-24 years        132.0         NaN\n",
       "43771              Zimbabwe  1990    male  25-34 years        150.0         NaN\n",
       "43772              Zimbabwe  1990    male  35-54 years        132.0         NaN\n",
       "43773              Zimbabwe  1990    male   5-14 years          6.0         NaN\n",
       "43774              Zimbabwe  1990    male  55-74 years         74.0         NaN\n",
       "43775              Zimbabwe  1990    male    75+ years         13.0         NaN\n",
       "\n",
       "[43776 rows x 6 columns]\n"
      ]
     },
     "execution_count": 14,
     "metadata": {},
     "output_type": "execute_result"
    }
   ],
   "source": [
    "read_csv(\"who_suicide.csv\")"
   ]
  },
  {
   "cell_type": "code",
   "execution_count": null,
   "metadata": {},
   "outputs": [],
   "source": []
  }
 ],
 "metadata": {
  "kernelspec": {
   "display_name": "Julia 1.1.0",
   "language": "julia",
   "name": "julia-1.1"
  },
  "language_info": {
   "file_extension": ".jl",
   "mimetype": "application/julia",
   "name": "julia",
   "version": "1.1.0"
  }
 },
 "nbformat": 4,
 "nbformat_minor": 2
}
