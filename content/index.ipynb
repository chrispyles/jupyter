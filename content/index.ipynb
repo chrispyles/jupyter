{
 "cells": [
  {
   "cell_type": "markdown",
   "metadata": {},
   "source": [
    "# Projects and Jupyter Notebooks\n",
    "\n",
    "<left>[![Binder](https://mybinder.org/badge_logo.svg)](https://mybinder.org/v2/gh/chrispyles/jupyter/master?filepath=content%2Fnotebooks)</left>\n",
    "\n",
    "One of my favorite passtimes is to hone my computing and data-analysis skills by doing some projects of my own that utilize the concepts I learned in my data science courses to answer real-world questions. While some of them are kind-of frivolous (lookin' at you, avocado classifier), they all serve to underpin the skills that I have been learning and to keep my expertise fresh and active.\n",
    "\n",
    "| Notebook | Summary |\n",
    "|-----|-----|\n",
    "| insurance.ipynb | This notebook focuses on an insurance data set that has information about premiums, BMI, sex, and smoker vs. non-smoker, among other things. In this notebook, I looked for linear relationships between BMI and insurance premiums using the correlation coefficient and I ran an A/B test to determine whether or not smokers are charged more in insurance premiums than are non-smokers. |\n",
    "| avocado.ipynb | This notebook, written in R and Python, has a $k$-nearest neighbors classifier that classified avocados as organic or conventional using their average price, volume sold, and number of bags used. I then used the test set to determine the optimum value of $k$, which was 35 (with an accuracy of 94.4%). It also contains a principal component analysis of the data set. |\n",
    "| movies.ipynb | **\\[IN PROGRESS\\]** In this notebook, I am building a $k$-NN classifier that determines a movie's genre by analyzing the frequency of words in its synopsis. |\n",
    "| graduate-admissions.ipynb | **\\[IN PROGRESS\\]** This notebook focuses on graduate program admissions data. While I haven't completed my EDA for this data set (and so I don't know where my analysis will go), I decided to practice running principal component analysis on it. |"
   ]
  }
 ],
 "metadata": {
  "kernelspec": {
   "display_name": "Python 3",
   "language": "python",
   "name": "python3"
  },
  "language_info": {
   "codemirror_mode": {
    "name": "ipython",
    "version": 3
   },
   "file_extension": ".py",
   "mimetype": "text/x-python",
   "name": "python",
   "nbconvert_exporter": "python",
   "pygments_lexer": "ipython3",
   "version": "3.6.5"
  }
 },
 "nbformat": 4,
 "nbformat_minor": 2
}
