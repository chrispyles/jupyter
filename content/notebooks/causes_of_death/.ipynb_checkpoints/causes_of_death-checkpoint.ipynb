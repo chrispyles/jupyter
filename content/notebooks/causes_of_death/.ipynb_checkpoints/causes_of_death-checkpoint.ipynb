{
 "cells": [
  {
   "cell_type": "code",
   "execution_count": 3,
   "metadata": {},
   "outputs": [
    {
     "data": {
      "text/html": [
       "<div>\n",
       "<style scoped>\n",
       "    .dataframe tbody tr th:only-of-type {\n",
       "        vertical-align: middle;\n",
       "    }\n",
       "\n",
       "    .dataframe tbody tr th {\n",
       "        vertical-align: top;\n",
       "    }\n",
       "\n",
       "    .dataframe thead th {\n",
       "        text-align: right;\n",
       "    }\n",
       "</style>\n",
       "<table border=\"1\" class=\"dataframe\">\n",
       "  <thead>\n",
       "    <tr style=\"text-align: right;\">\n",
       "      <th></th>\n",
       "      <th>Year</th>\n",
       "      <th>113 Cause Name</th>\n",
       "      <th>Cause Name</th>\n",
       "      <th>State</th>\n",
       "      <th>Deaths</th>\n",
       "      <th>Age-adjusted Death Rate</th>\n",
       "    </tr>\n",
       "  </thead>\n",
       "  <tbody>\n",
       "    <tr>\n",
       "      <th>0</th>\n",
       "      <td>1999</td>\n",
       "      <td>Accidents (unintentional injuries) (V01-X59,Y8...</td>\n",
       "      <td>Unintentional Injuries</td>\n",
       "      <td>Alabama</td>\n",
       "      <td>2313.0</td>\n",
       "      <td>52.2</td>\n",
       "    </tr>\n",
       "    <tr>\n",
       "      <th>1</th>\n",
       "      <td>1999</td>\n",
       "      <td>Accidents (unintentional injuries) (V01-X59,Y8...</td>\n",
       "      <td>Unintentional Injuries</td>\n",
       "      <td>Alaska</td>\n",
       "      <td>294.0</td>\n",
       "      <td>55.9</td>\n",
       "    </tr>\n",
       "    <tr>\n",
       "      <th>2</th>\n",
       "      <td>1999</td>\n",
       "      <td>Accidents (unintentional injuries) (V01-X59,Y8...</td>\n",
       "      <td>Unintentional Injuries</td>\n",
       "      <td>Arizona</td>\n",
       "      <td>2214.0</td>\n",
       "      <td>44.8</td>\n",
       "    </tr>\n",
       "    <tr>\n",
       "      <th>3</th>\n",
       "      <td>1999</td>\n",
       "      <td>Accidents (unintentional injuries) (V01-X59,Y8...</td>\n",
       "      <td>Unintentional Injuries</td>\n",
       "      <td>Arkansas</td>\n",
       "      <td>1287.0</td>\n",
       "      <td>47.6</td>\n",
       "    </tr>\n",
       "    <tr>\n",
       "      <th>4</th>\n",
       "      <td>1999</td>\n",
       "      <td>Accidents (unintentional injuries) (V01-X59,Y8...</td>\n",
       "      <td>Unintentional Injuries</td>\n",
       "      <td>California</td>\n",
       "      <td>9198.0</td>\n",
       "      <td>28.7</td>\n",
       "    </tr>\n",
       "  </tbody>\n",
       "</table>\n",
       "</div>"
      ],
      "text/plain": [
       "   Year                                     113 Cause Name  \\\n",
       "0  1999  Accidents (unintentional injuries) (V01-X59,Y8...   \n",
       "1  1999  Accidents (unintentional injuries) (V01-X59,Y8...   \n",
       "2  1999  Accidents (unintentional injuries) (V01-X59,Y8...   \n",
       "3  1999  Accidents (unintentional injuries) (V01-X59,Y8...   \n",
       "4  1999  Accidents (unintentional injuries) (V01-X59,Y8...   \n",
       "\n",
       "               Cause Name       State  Deaths  Age-adjusted Death Rate  \n",
       "0  Unintentional Injuries     Alabama  2313.0                     52.2  \n",
       "1  Unintentional Injuries      Alaska   294.0                     55.9  \n",
       "2  Unintentional Injuries     Arizona  2214.0                     44.8  \n",
       "3  Unintentional Injuries    Arkansas  1287.0                     47.6  \n",
       "4  Unintentional Injuries  California  9198.0                     28.7  "
      ]
     },
     "execution_count": 3,
     "metadata": {},
     "output_type": "execute_result"
    }
   ],
   "source": [
    "import pandas as pd\n",
    "import numpy as np\n",
    "\n",
    "import matplotlib.pyplot as plt\n",
    "%matplotlib inline\n",
    "plt.style.use('ggplot')\n",
    "\n",
    "standard_units = lambda arr: (arr - np.mean(arr)) / np.std(arr)\n",
    "correlation = lambda x, y: np.mean(standard_units(x) * standard_units(y))\n",
    "slope = lambda x, y: correlation(x, y) * np.std(y) / np.std(x)\n",
    "intercept = lambda x, y: np.mean(y) - slope(x, y) * np.mean(x)\n",
    "\n",
    "causes = pd.read_csv('causes.csv')\n",
    "causes.head()"
   ]
  },
  {
   "cell_type": "code",
   "execution_count": 2,
   "metadata": {},
   "outputs": [
    {
     "data": {
      "text/html": [
       "<table border=\"1\" class=\"dataframe\">\n",
       "    <thead>\n",
       "        <tr>\n",
       "            <th>Cause Name</th> <th>count</th>\n",
       "        </tr>\n",
       "    </thead>\n",
       "    <tbody>\n",
       "        <tr>\n",
       "            <td>All Causes                                           </td> <td>884  </td>\n",
       "        </tr>\n",
       "        <tr>\n",
       "            <td>Alzheimer's disease                                  </td> <td>884  </td>\n",
       "        </tr>\n",
       "        <tr>\n",
       "            <td>CLRD                                                 </td> <td>884  </td>\n",
       "        </tr>\n",
       "        <tr>\n",
       "            <td>Cancer                                               </td> <td>884  </td>\n",
       "        </tr>\n",
       "        <tr>\n",
       "            <td>Chronic liver disease and cirrhosis                  </td> <td>884  </td>\n",
       "        </tr>\n",
       "        <tr>\n",
       "            <td>Diabetes                                             </td> <td>884  </td>\n",
       "        </tr>\n",
       "        <tr>\n",
       "            <td>Diseases of Heart                                    </td> <td>884  </td>\n",
       "        </tr>\n",
       "        <tr>\n",
       "            <td>Essential hypertension and hypertensive renal disease</td> <td>884  </td>\n",
       "        </tr>\n",
       "        <tr>\n",
       "            <td>Homicide                                             </td> <td>884  </td>\n",
       "        </tr>\n",
       "        <tr>\n",
       "            <td>Influenza and pneumonia                              </td> <td>884  </td>\n",
       "        </tr>\n",
       "    </tbody>\n",
       "</table>\n",
       "<p>... (7 rows omitted)</p>"
      ],
      "text/plain": [
       "Cause Name                                            | count\n",
       "All Causes                                            | 884\n",
       "Alzheimer's disease                                   | 884\n",
       "CLRD                                                  | 884\n",
       "Cancer                                                | 884\n",
       "Chronic liver disease and cirrhosis                   | 884\n",
       "Diabetes                                              | 884\n",
       "Diseases of Heart                                     | 884\n",
       "Essential hypertension and hypertensive renal disease | 884\n",
       "Homicide                                              | 884\n",
       "Influenza and pneumonia                               | 884\n",
       "... (7 rows omitted)"
      ]
     },
     "execution_count": 2,
     "metadata": {},
     "output_type": "execute_result"
    }
   ],
   "source": [
    "causes = causes_of_death.drop(1).group(1)\n",
    "cod = causes_of_death.drop(1)\n",
    "causes"
   ]
  },
  {
   "cell_type": "code",
   "execution_count": 3,
   "metadata": {},
   "outputs": [
    {
     "data": {
      "text/html": [
       "<table border=\"1\" class=\"dataframe\">\n",
       "    <thead>\n",
       "        <tr>\n",
       "            <th>Year</th> <th>Cause Name</th> <th>State</th> <th>Deaths</th> <th>Age-adjusted Death Rate</th>\n",
       "        </tr>\n",
       "    </thead>\n",
       "    <tbody>\n",
       "        <tr>\n",
       "            <td>1999</td> <td>Unintentional Injuries</td> <td>Alabama             </td> <td>2313  </td> <td>52.2                   </td>\n",
       "        </tr>\n",
       "        <tr>\n",
       "            <td>1999</td> <td>Unintentional Injuries</td> <td>Alaska              </td> <td>294   </td> <td>55.9                   </td>\n",
       "        </tr>\n",
       "        <tr>\n",
       "            <td>1999</td> <td>Unintentional Injuries</td> <td>Arizona             </td> <td>2214  </td> <td>44.8                   </td>\n",
       "        </tr>\n",
       "        <tr>\n",
       "            <td>1999</td> <td>Unintentional Injuries</td> <td>Arkansas            </td> <td>1287  </td> <td>47.6                   </td>\n",
       "        </tr>\n",
       "        <tr>\n",
       "            <td>1999</td> <td>Unintentional Injuries</td> <td>California          </td> <td>9198  </td> <td>28.7                   </td>\n",
       "        </tr>\n",
       "        <tr>\n",
       "            <td>1999</td> <td>Unintentional Injuries</td> <td>Colorado            </td> <td>1519  </td> <td>39                     </td>\n",
       "        </tr>\n",
       "        <tr>\n",
       "            <td>1999</td> <td>Unintentional Injuries</td> <td>Connecticut         </td> <td>1034  </td> <td>29.3                   </td>\n",
       "        </tr>\n",
       "        <tr>\n",
       "            <td>1999</td> <td>Unintentional Injuries</td> <td>Delaware            </td> <td>267   </td> <td>35.3                   </td>\n",
       "        </tr>\n",
       "        <tr>\n",
       "            <td>1999</td> <td>Unintentional Injuries</td> <td>District of Columbia</td> <td>161   </td> <td>28.4                   </td>\n",
       "        </tr>\n",
       "        <tr>\n",
       "            <td>1999</td> <td>Unintentional Injuries</td> <td>Florida             </td> <td>5961  </td> <td>35.7                   </td>\n",
       "        </tr>\n",
       "    </tbody>\n",
       "</table>\n",
       "<p>... (15018 rows omitted)</p>"
      ],
      "text/plain": [
       "Year | Cause Name             | State                | Deaths | Age-adjusted Death Rate\n",
       "1999 | Unintentional Injuries | Alabama              | 2313   | 52.2\n",
       "1999 | Unintentional Injuries | Alaska               | 294    | 55.9\n",
       "1999 | Unintentional Injuries | Arizona              | 2214   | 44.8\n",
       "1999 | Unintentional Injuries | Arkansas             | 1287   | 47.6\n",
       "1999 | Unintentional Injuries | California           | 9198   | 28.7\n",
       "1999 | Unintentional Injuries | Colorado             | 1519   | 39\n",
       "1999 | Unintentional Injuries | Connecticut          | 1034   | 29.3\n",
       "1999 | Unintentional Injuries | Delaware             | 267    | 35.3\n",
       "1999 | Unintentional Injuries | District of Columbia | 161    | 28.4\n",
       "1999 | Unintentional Injuries | Florida              | 5961   | 35.7\n",
       "... (15018 rows omitted)"
      ]
     },
     "execution_count": 3,
     "metadata": {},
     "output_type": "execute_result"
    }
   ],
   "source": [
    "cod"
   ]
  },
  {
   "cell_type": "code",
   "execution_count": 4,
   "metadata": {},
   "outputs": [
    {
     "data": {
      "image/png": "[encoded data removed]",
      "text/plain": [
       "<Figure size 432x288 with 1 Axes>"
      ]
     },
     "metadata": {},
     "output_type": "display_data"
    }
   ],
   "source": [
    "causes_ca = cod.where(2, 'California')\n",
    "causes_ca_all = causes_ca.where(1, 'All Causes')\n",
    "causes_ca_all.plot(0, 3)"
   ]
  }
 ],
 "metadata": {
  "kernelspec": {
   "display_name": "Python 3",
   "language": "python",
   "name": "python3"
  },
  "language_info": {
   "codemirror_mode": {
    "name": "ipython",
    "version": 3
   },
   "file_extension": ".py",
   "mimetype": "text/x-python",
   "name": "python",
   "nbconvert_exporter": "python",
   "pygments_lexer": "ipython3",
   "version": "3.6.5"
  }
 },
 "nbformat": 4,
 "nbformat_minor": 2
}
