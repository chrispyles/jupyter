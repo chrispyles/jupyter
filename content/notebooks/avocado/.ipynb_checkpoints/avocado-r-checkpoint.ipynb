{
 "cells": [
  {
   "cell_type": "markdown",
   "metadata": {},
   "source": [
    "# Avocado Classifier\n",
    "This Jupyter Notebook contains the code that takes in a table with information about avocados (average price, total volumne, total bags) and classifies them as either `conventional` or `organic`. This classifier is a $k$-nearest neighbors classifier using the cartesian distance between the point in question and the points in the training set. The data set is from Kaggle (https://www.kaggle.com/neuromusic/avocado-prices)."
   ]
  },
  {
   "cell_type": "code",
   "execution_count": 2,
   "metadata": {},
   "outputs": [
    {
     "data": {
      "text/html": [
       "<table>\n",
       "<thead><tr><th scope=col>Date</th><th scope=col>AveragePrice</th><th scope=col>Total.Volume</th><th scope=col>X4046</th><th scope=col>X4225</th><th scope=col>X4770</th><th scope=col>Total.Bags</th><th scope=col>Small.Bags</th><th scope=col>Large.Bags</th><th scope=col>XLarge.Bags</th><th scope=col>type</th><th scope=col>year</th><th scope=col>region</th></tr></thead>\n",
       "<tbody>\n",
       "\t<tr><td>2015-12-27  </td><td>1.33        </td><td> 64236.62   </td><td>1036.74     </td><td> 54454.85   </td><td> 48.16      </td><td>8696.87     </td><td>8603.62     </td><td> 93.25      </td><td>0           </td><td>conventional</td><td>2015        </td><td>Albany      </td></tr>\n",
       "\t<tr><td>2015-12-20  </td><td>1.35        </td><td> 54876.98   </td><td> 674.28     </td><td> 44638.81   </td><td> 58.33      </td><td>9505.56     </td><td>9408.07     </td><td> 97.49      </td><td>0           </td><td>conventional</td><td>2015        </td><td>Albany      </td></tr>\n",
       "\t<tr><td>2015-12-13  </td><td>0.93        </td><td>118220.22   </td><td> 794.70     </td><td>109149.67   </td><td>130.50      </td><td>8145.35     </td><td>8042.21     </td><td>103.14      </td><td>0           </td><td>conventional</td><td>2015        </td><td>Albany      </td></tr>\n",
       "\t<tr><td>2015-12-06  </td><td>1.08        </td><td> 78992.15   </td><td>1132.00     </td><td> 71976.41   </td><td> 72.58      </td><td>5811.16     </td><td>5677.40     </td><td>133.76      </td><td>0           </td><td>conventional</td><td>2015        </td><td>Albany      </td></tr>\n",
       "\t<tr><td>2015-11-29  </td><td>1.28        </td><td> 51039.60   </td><td> 941.48     </td><td> 43838.39   </td><td> 75.78      </td><td>6183.95     </td><td>5986.26     </td><td>197.69      </td><td>0           </td><td>conventional</td><td>2015        </td><td>Albany      </td></tr>\n",
       "\t<tr><td>2015-11-22  </td><td>1.26        </td><td> 55979.78   </td><td>1184.27     </td><td> 48067.99   </td><td> 43.61      </td><td>6683.91     </td><td>6556.47     </td><td>127.44      </td><td>0           </td><td>conventional</td><td>2015        </td><td>Albany      </td></tr>\n",
       "</tbody>\n",
       "</table>\n"
      ],
      "text/latex": [
       "\\begin{tabular}{r|lllllllllllll}\n",
       " Date & AveragePrice & Total.Volume & X4046 & X4225 & X4770 & Total.Bags & Small.Bags & Large.Bags & XLarge.Bags & type & year & region\\\\\n",
       "\\hline\n",
       "\t 2015-12-27   & 1.33         &  64236.62    & 1036.74      &  54454.85    &  48.16       & 8696.87      & 8603.62      &  93.25       & 0            & conventional & 2015         & Albany      \\\\\n",
       "\t 2015-12-20   & 1.35         &  54876.98    &  674.28      &  44638.81    &  58.33       & 9505.56      & 9408.07      &  97.49       & 0            & conventional & 2015         & Albany      \\\\\n",
       "\t 2015-12-13   & 0.93         & 118220.22    &  794.70      & 109149.67    & 130.50       & 8145.35      & 8042.21      & 103.14       & 0            & conventional & 2015         & Albany      \\\\\n",
       "\t 2015-12-06   & 1.08         &  78992.15    & 1132.00      &  71976.41    &  72.58       & 5811.16      & 5677.40      & 133.76       & 0            & conventional & 2015         & Albany      \\\\\n",
       "\t 2015-11-29   & 1.28         &  51039.60    &  941.48      &  43838.39    &  75.78       & 6183.95      & 5986.26      & 197.69       & 0            & conventional & 2015         & Albany      \\\\\n",
       "\t 2015-11-22   & 1.26         &  55979.78    & 1184.27      &  48067.99    &  43.61       & 6683.91      & 6556.47      & 127.44       & 0            & conventional & 2015         & Albany      \\\\\n",
       "\\end{tabular}\n"
      ],
      "text/markdown": [
       "\n",
       "| Date | AveragePrice | Total.Volume | X4046 | X4225 | X4770 | Total.Bags | Small.Bags | Large.Bags | XLarge.Bags | type | year | region |\n",
       "|---|---|---|---|---|---|---|---|---|---|---|---|---|\n",
       "| 2015-12-27   | 1.33         |  64236.62    | 1036.74      |  54454.85    |  48.16       | 8696.87      | 8603.62      |  93.25       | 0            | conventional | 2015         | Albany       |\n",
       "| 2015-12-20   | 1.35         |  54876.98    |  674.28      |  44638.81    |  58.33       | 9505.56      | 9408.07      |  97.49       | 0            | conventional | 2015         | Albany       |\n",
       "| 2015-12-13   | 0.93         | 118220.22    |  794.70      | 109149.67    | 130.50       | 8145.35      | 8042.21      | 103.14       | 0            | conventional | 2015         | Albany       |\n",
       "| 2015-12-06   | 1.08         |  78992.15    | 1132.00      |  71976.41    |  72.58       | 5811.16      | 5677.40      | 133.76       | 0            | conventional | 2015         | Albany       |\n",
       "| 2015-11-29   | 1.28         |  51039.60    |  941.48      |  43838.39    |  75.78       | 6183.95      | 5986.26      | 197.69       | 0            | conventional | 2015         | Albany       |\n",
       "| 2015-11-22   | 1.26         |  55979.78    | 1184.27      |  48067.99    |  43.61       | 6683.91      | 6556.47      | 127.44       | 0            | conventional | 2015         | Albany       |\n",
       "\n"
      ],
      "text/plain": [
       "  Date       AveragePrice Total.Volume X4046   X4225     X4770  Total.Bags\n",
       "1 2015-12-27 1.33          64236.62    1036.74  54454.85  48.16 8696.87   \n",
       "2 2015-12-20 1.35          54876.98     674.28  44638.81  58.33 9505.56   \n",
       "3 2015-12-13 0.93         118220.22     794.70 109149.67 130.50 8145.35   \n",
       "4 2015-12-06 1.08          78992.15    1132.00  71976.41  72.58 5811.16   \n",
       "5 2015-11-29 1.28          51039.60     941.48  43838.39  75.78 6183.95   \n",
       "6 2015-11-22 1.26          55979.78    1184.27  48067.99  43.61 6683.91   \n",
       "  Small.Bags Large.Bags XLarge.Bags type         year region\n",
       "1 8603.62     93.25     0           conventional 2015 Albany\n",
       "2 9408.07     97.49     0           conventional 2015 Albany\n",
       "3 8042.21    103.14     0           conventional 2015 Albany\n",
       "4 5677.40    133.76     0           conventional 2015 Albany\n",
       "5 5986.26    197.69     0           conventional 2015 Albany\n",
       "6 6556.47    127.44     0           conventional 2015 Albany"
      ]
     },
     "metadata": {},
     "output_type": "display_data"
    }
   ],
   "source": [
    "library(tidyverse)\n",
    "\n",
    "avocado <- read.csv('avocado.csv')\n",
    "head(avocado)"
   ]
  },
  {
   "cell_type": "markdown",
   "metadata": {},
   "source": [
    "## 2. Divide the Kaggle data set into the training and test sets\n",
    "This cell selects the 4 columns we will use from the original table (three data point columns and the type column) and shuffles the rows of the csv file and separates them into a training set, to which the avocado to be classified will be compared, and a test set, to test the accuracy of the classifer once it is built. The test set will retain its `type` column so that we know what proportion of avocados the classifier gets correct. The training set has 18,000 rows and the test set has 249."
   ]
  },
  {
   "cell_type": "code",
   "execution_count": 3,
   "metadata": {},
   "outputs": [
    {
     "data": {
      "text/html": [
       "TRUE"
      ],
      "text/latex": [
       "TRUE"
      ],
      "text/markdown": [
       "TRUE"
      ],
      "text/plain": [
       "[1] TRUE"
      ]
     },
     "metadata": {},
     "output_type": "display_data"
    }
   ],
   "source": [
    "av <- avocado %>%\n",
    "    select(AveragePrice, Total.Volume, Total.Bags, type) %>%\n",
    "    sample_frac(1)\n",
    "av_train <- av[1:18000,]\n",
    "av_test <- av[-(1:18000),]\n",
    "\n",
    "# ensuring all rows are capture in av_test and av_train\n",
    "dim(av)[1] == dim(av_train)[1] + dim(av_test)[1]"
   ]
  },
  {
   "cell_type": "markdown",
   "metadata": {},
   "source": [
    "## 3. Define a function to find the cartesian distances\n",
    "In this section, I will define a function that finds the 3-dimensional cartesian distant between two points. This is an application of the Pythagorean Theorem. The distance between two points $(x_1, y_1, z_1)$ and $(x_2, y_2, z_2)$ is\n",
    "\n",
    "$$d = \\sqrt{(x_2-x_1)^2 + (y_2-y_1)^2 + (z_2-z_1)^2}$$\n",
    "\n",
    "The function defined takes as arguments a table whose first 3 columns are data points and an array containing the corresponding values for the point that is being compared. It returns the table with a new column that has the distance between each row in the table and the point in the array."
   ]
  },
  {
   "cell_type": "code",
   "execution_count": 4,
   "metadata": {},
   "outputs": [],
   "source": [
    "dist <- function (df, vec) {\n",
    "    new_df <- data.frame(df)\n",
    "    dists <- c()\n",
    "    for (i in 1:dim(df)[1]) {\n",
    "        dist <- sqrt((df[i, 1] - vec[1])^2 + (df[i, 2] - vec[2])^2 + (df[i, 3] - vec[3])^2)\n",
    "        dists <- c(dists, dist)\n",
    "    }\n",
    "    new_df$distances = unlist(dists)\n",
    "    new_df\n",
    "}"
   ]
  },
  {
   "cell_type": "code",
   "execution_count": 5,
   "metadata": {},
   "outputs": [
    {
     "data": {
      "text/html": [
       "<table>\n",
       "<thead><tr><th scope=col>AveragePrice</th><th scope=col>Total.Volume</th><th scope=col>Total.Bags</th><th scope=col>type</th><th scope=col>distances</th></tr></thead>\n",
       "<tbody>\n",
       "\t<tr><td>0.83        </td><td>1104682.52  </td><td>345923.79   </td><td>conventional</td><td>1148933.020 </td></tr>\n",
       "\t<tr><td>1.30        </td><td> 302596.77  </td><td>107071.19   </td><td>conventional</td><td> 312280.829 </td></tr>\n",
       "\t<tr><td>0.78        </td><td>1062071.65  </td><td>152918.86   </td><td>conventional</td><td>1064769.460 </td></tr>\n",
       "\t<tr><td>1.91        </td><td>   4366.74  </td><td>  2661.17   </td><td>organic     </td><td>   3716.762 </td></tr>\n",
       "\t<tr><td>1.27        </td><td>   8471.24  </td><td>  8052.74   </td><td>organic     </td><td>   3889.732 </td></tr>\n",
       "\t<tr><td>1.91        </td><td>  12382.57  </td><td>  6631.11   </td><td>organic     </td><td>   5229.984 </td></tr>\n",
       "</tbody>\n",
       "</table>\n"
      ],
      "text/latex": [
       "\\begin{tabular}{r|lllll}\n",
       " AveragePrice & Total.Volume & Total.Bags & type & distances\\\\\n",
       "\\hline\n",
       "\t 0.83         & 1104682.52   & 345923.79    & conventional & 1148933.020 \\\\\n",
       "\t 1.30         &  302596.77   & 107071.19    & conventional &  312280.829 \\\\\n",
       "\t 0.78         & 1062071.65   & 152918.86    & conventional & 1064769.460 \\\\\n",
       "\t 1.91         &    4366.74   &   2661.17    & organic      &    3716.762 \\\\\n",
       "\t 1.27         &    8471.24   &   8052.74    & organic      &    3889.732 \\\\\n",
       "\t 1.91         &   12382.57   &   6631.11    & organic      &    5229.984 \\\\\n",
       "\\end{tabular}\n"
      ],
      "text/markdown": [
       "\n",
       "| AveragePrice | Total.Volume | Total.Bags | type | distances |\n",
       "|---|---|---|---|---|\n",
       "| 0.83         | 1104682.52   | 345923.79    | conventional | 1148933.020  |\n",
       "| 1.30         |  302596.77   | 107071.19    | conventional |  312280.829  |\n",
       "| 0.78         | 1062071.65   | 152918.86    | conventional | 1064769.460  |\n",
       "| 1.91         |    4366.74   |   2661.17    | organic      |    3716.762  |\n",
       "| 1.27         |    8471.24   |   8052.74    | organic      |    3889.732  |\n",
       "| 1.91         |   12382.57   |   6631.11    | organic      |    5229.984  |\n",
       "\n"
      ],
      "text/plain": [
       "  AveragePrice Total.Volume Total.Bags type         distances  \n",
       "1 0.83         1104682.52   345923.79  conventional 1148933.020\n",
       "2 1.30          302596.77   107071.19  conventional  312280.829\n",
       "3 0.78         1062071.65   152918.86  conventional 1064769.460\n",
       "4 1.91            4366.74     2661.17  organic         3716.762\n",
       "5 1.27            8471.24     8052.74  organic         3889.732\n",
       "6 1.91           12382.57     6631.11  organic         5229.984"
      ]
     },
     "metadata": {},
     "output_type": "display_data"
    }
   ],
   "source": [
    "head(dist(av_train, av_test[1, 1:3]))"
   ]
  },
  {
   "cell_type": "markdown",
   "metadata": {},
   "source": [
    "## 4. Define a function to find the majority classification\n",
    "$k$-NN classifiers work by determining what classification a majority of the $k$ points closest to a point in question have. The function `find_majority` defined below runs the `dist` function on a table and returns that output sorted by increasing distance. The function `knn` below that selects the top $k$ rows and returns the majority classification."
   ]
  },
  {
   "cell_type": "code",
   "execution_count": 6,
   "metadata": {},
   "outputs": [],
   "source": [
    "find_majority <- function (df, df2, row_index) {\n",
    "    test <- df2[row_index, 1:3]\n",
    "    d <- df %>%\n",
    "        dist(test) %>%\n",
    "        arrange(distances)\n",
    "    d\n",
    "}"
   ]
  },
  {
   "cell_type": "code",
   "execution_count": null,
   "metadata": {},
   "outputs": [],
   "source": [
    "head(find_majority(av_train, av_test, 1))"
   ]
  },
  {
   "cell_type": "code",
   "execution_count": null,
   "metadata": {},
   "outputs": [],
   "source": [
    "knn <- function (df, df2, row, k) {\n",
    "    sort <- find_majority(df, df2, row)\n",
    "    new_df <- sort[1:k,] %>%\n",
    "        count(type) %>%\n",
    "        arrange(desc(n))\n",
    "    new_df[1, 1]\n",
    "}"
   ]
  },
  {
   "cell_type": "code",
   "execution_count": null,
   "metadata": {},
   "outputs": [],
   "source": [
    "knn(av_train, av_test, 1, 7)"
   ]
  },
  {
   "cell_type": "markdown",
   "metadata": {},
   "source": [
    "## 5. Test the accuracy of the 7-NN classifier\n",
    "For an example, I will text how accurate the 7-nearest neighbors classifer is. The `test_accuracy` function defined below runs the classifier on all rows of the `av_test` table (the entire test set), and then returns the proportion of rows that were correctly classified."
   ]
  },
  {
   "cell_type": "code",
   "execution_count": null,
   "metadata": {},
   "outputs": [],
   "source": [
    "test_accuracy <- function (train, test, k) {\n",
    "    classed <- c()\n",
    "    for (i in 1:dim(test)[1]) {\n",
    "        cl = knn(train, test, i, k)\n",
    "        classed <- c(classed, cl)\n",
    "    }\n",
    "    classed_test <- data.frame(test)\n",
    "    classed_test$kNN.class = classed\n",
    "    sum(classed_test$kNN.class == classed_test$type) / dim(classed_test)[1] \n",
    "}"
   ]
  },
  {
   "cell_type": "code",
   "execution_count": null,
   "metadata": {},
   "outputs": [],
   "source": [
    "test_accuracy(av_train, av_test, 7)"
   ]
  },
  {
   "cell_type": "markdown",
   "metadata": {},
   "source": [
    "## 6. Determining the optimal value of $k$\n",
    "In order to determine how many nearest neigbors would be best to run on a random avocado, this second determines the optimal value of $k$ based on the training set. It will run through the classifier for odd integer values 1 through 99, and return a table with the accuracy of each value."
   ]
  },
  {
   "cell_type": "code",
   "execution_count": null,
   "metadata": {},
   "outputs": [],
   "source": [
    "results <- c()\n",
    "for (i in seq(1, 100, by=2)) {\n",
    "    result = test_accuracy(av_train, av_test, i)\n",
    "    results <- c(results, result)\n",
    "}\n",
    "\n",
    "optimal_k = data.frame(\n",
    "    k = seq(1, 100, by=2),\n",
    "    Accuracy = results\n",
    ")"
   ]
  }
 ],
 "metadata": {
  "kernelspec": {
   "display_name": "R",
   "language": "R",
   "name": "ir"
  },
  "language_info": {
   "codemirror_mode": "r",
   "file_extension": ".r",
   "mimetype": "text/x-r-source",
   "name": "R",
   "pygments_lexer": "r",
   "version": "3.5.1"
  }
 },
 "nbformat": 4,
 "nbformat_minor": 2
}
