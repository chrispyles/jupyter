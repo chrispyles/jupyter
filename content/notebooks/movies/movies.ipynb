{
 "cells": [
  {
   "cell_type": "markdown",
   "metadata": {},
   "source": [
    "# Movie Genre Predictor\n",
    "\n",
    "[![Binder](https://mybinder.org/badge_logo.svg)](https://mybinder.org/v2/gh/chrispyles/jupyter/master?filepath=content%2Fnotebooks%2Fmovies%2Fmovies.ipynb)\n",
    "\n",
    "In this Jupyter Notebook, I will build a $k$-nearest neighbors classifier that will determine the genre of a movie based on its synopsis. The [Wikipedia Movie Plots data set](https://www.kaggle.com/jrobischon/wikipedia-movie-plots) is used in order to generate the training set for the classifier, and I will build my own test set from [IMDB](https://imdb.com). The classifier will work by looking at the frequencies of words in the synposes of movies from each genre.\n",
    "\n",
    "1. [The Question](#question)\n",
    "2. [Data Preprocessing](#preprocessing)\n",
    "3. [Grouping Plots & Word Recurrence](#grouping)"
   ]
  },
  {
   "cell_type": "code",
   "execution_count": 1,
   "metadata": {
    "scrolled": true
   },
   "outputs": [
    {
     "data": {
      "text/html": [
       "<div>\n",
       "<style scoped>\n",
       "    .dataframe tbody tr th:only-of-type {\n",
       "        vertical-align: middle;\n",
       "    }\n",
       "\n",
       "    .dataframe tbody tr th {\n",
       "        vertical-align: top;\n",
       "    }\n",
       "\n",
       "    .dataframe thead th {\n",
       "        text-align: right;\n",
       "    }\n",
       "</style>\n",
       "<table border=\"1\" class=\"dataframe\">\n",
       "  <thead>\n",
       "    <tr style=\"text-align: right;\">\n",
       "      <th></th>\n",
       "      <th>Release Year</th>\n",
       "      <th>Title</th>\n",
       "      <th>Origin/Ethnicity</th>\n",
       "      <th>Director</th>\n",
       "      <th>Cast</th>\n",
       "      <th>Genre</th>\n",
       "      <th>Wiki Page</th>\n",
       "      <th>Plot</th>\n",
       "    </tr>\n",
       "  </thead>\n",
       "  <tbody>\n",
       "    <tr>\n",
       "      <th>0</th>\n",
       "      <td>1901</td>\n",
       "      <td>Kansas Saloon Smashers</td>\n",
       "      <td>American</td>\n",
       "      <td>Unknown</td>\n",
       "      <td>NaN</td>\n",
       "      <td>unknown</td>\n",
       "      <td>https://en.wikipedia.org/wiki/Kansas_Saloon_Sm...</td>\n",
       "      <td>A bartender is working at a saloon, serving dr...</td>\n",
       "    </tr>\n",
       "    <tr>\n",
       "      <th>1</th>\n",
       "      <td>1901</td>\n",
       "      <td>Love by the Light of the Moon</td>\n",
       "      <td>American</td>\n",
       "      <td>Unknown</td>\n",
       "      <td>NaN</td>\n",
       "      <td>unknown</td>\n",
       "      <td>https://en.wikipedia.org/wiki/Love_by_the_Ligh...</td>\n",
       "      <td>The moon, painted with a smiling face hangs ov...</td>\n",
       "    </tr>\n",
       "    <tr>\n",
       "      <th>2</th>\n",
       "      <td>1901</td>\n",
       "      <td>The Martyred Presidents</td>\n",
       "      <td>American</td>\n",
       "      <td>Unknown</td>\n",
       "      <td>NaN</td>\n",
       "      <td>unknown</td>\n",
       "      <td>https://en.wikipedia.org/wiki/The_Martyred_Pre...</td>\n",
       "      <td>The film, just over a minute long, is composed...</td>\n",
       "    </tr>\n",
       "    <tr>\n",
       "      <th>3</th>\n",
       "      <td>1901</td>\n",
       "      <td>Terrible Teddy, the Grizzly King</td>\n",
       "      <td>American</td>\n",
       "      <td>Unknown</td>\n",
       "      <td>NaN</td>\n",
       "      <td>unknown</td>\n",
       "      <td>https://en.wikipedia.org/wiki/Terrible_Teddy,_...</td>\n",
       "      <td>Lasting just 61 seconds and consisting of two ...</td>\n",
       "    </tr>\n",
       "    <tr>\n",
       "      <th>4</th>\n",
       "      <td>1902</td>\n",
       "      <td>Jack and the Beanstalk</td>\n",
       "      <td>American</td>\n",
       "      <td>George S. Fleming, Edwin S. Porter</td>\n",
       "      <td>NaN</td>\n",
       "      <td>unknown</td>\n",
       "      <td>https://en.wikipedia.org/wiki/Jack_and_the_Bea...</td>\n",
       "      <td>The earliest known adaptation of the classic f...</td>\n",
       "    </tr>\n",
       "  </tbody>\n",
       "</table>\n",
       "</div>"
      ],
      "text/plain": [
       "   Release Year                             Title Origin/Ethnicity  \\\n",
       "0          1901            Kansas Saloon Smashers         American   \n",
       "1          1901     Love by the Light of the Moon         American   \n",
       "2          1901           The Martyred Presidents         American   \n",
       "3          1901  Terrible Teddy, the Grizzly King         American   \n",
       "4          1902            Jack and the Beanstalk         American   \n",
       "\n",
       "                             Director Cast    Genre  \\\n",
       "0                             Unknown  NaN  unknown   \n",
       "1                             Unknown  NaN  unknown   \n",
       "2                             Unknown  NaN  unknown   \n",
       "3                             Unknown  NaN  unknown   \n",
       "4  George S. Fleming, Edwin S. Porter  NaN  unknown   \n",
       "\n",
       "                                           Wiki Page  \\\n",
       "0  https://en.wikipedia.org/wiki/Kansas_Saloon_Sm...   \n",
       "1  https://en.wikipedia.org/wiki/Love_by_the_Ligh...   \n",
       "2  https://en.wikipedia.org/wiki/The_Martyred_Pre...   \n",
       "3  https://en.wikipedia.org/wiki/Terrible_Teddy,_...   \n",
       "4  https://en.wikipedia.org/wiki/Jack_and_the_Bea...   \n",
       "\n",
       "                                                Plot  \n",
       "0  A bartender is working at a saloon, serving dr...  \n",
       "1  The moon, painted with a smiling face hangs ov...  \n",
       "2  The film, just over a minute long, is composed...  \n",
       "3  Lasting just 61 seconds and consisting of two ...  \n",
       "4  The earliest known adaptation of the classic f...  "
      ]
     },
     "execution_count": 1,
     "metadata": {},
     "output_type": "execute_result"
    }
   ],
   "source": [
    "import numpy as np\n",
    "import pandas as pd\n",
    "import string\n",
    "from IPython.display import display\n",
    "\n",
    "import matplotlib.pyplot as plt\n",
    "%matplotlib inline\n",
    "plt.style.use('ggplot')\n",
    "import warnings\n",
    "warnings.simplefilter('ignore', FutureWarning)\n",
    "\n",
    "# read table\n",
    "movies = pd.read_csv('movie_plots.csv')\n",
    "movies.head()"
   ]
  },
  {
   "cell_type": "markdown",
   "metadata": {},
   "source": [
    "<div id=\"question\"></div>\n",
    "\n",
    "## The Question \n",
    "The first part of developing a data-driven project is to decide what question you want to answer. The question needs to be specific, and it needs to be something you can develop a step-by-step approach for. With this notebook, I am going to use the `movies` DataFrame to answer the following question:\n",
    "> Can we predict the genre of a movie based on its plot?\n",
    "\n",
    "It will take a few steps to answer this question. The over-arching workflow will look something like this:\n",
    "1. Data preprocessing\n",
    "2. Group movies by genre and look for recurring words in plots\n",
    "3. Write a $k$-nearest neighbor classifier\n",
    "4. Test the classifier and determine its accuracy"
   ]
  },
  {
   "cell_type": "markdown",
   "metadata": {},
   "source": [
    "<div id=\"preprocessing\"></div>\n",
    "\n",
    "## Data Preprocessing\n",
    "Currently, the `movies` DataFrame contains details of movies (year, title, country of origin, director, cast, genre, Wiki link, and plot). In order to get meaningful results, the data need to be \"cleaned;\" that is, we need to edit values that we can't work with. ince we're focusing on the genre and plot, we can remove columns with irrelevant information:"
   ]
  },
  {
   "cell_type": "code",
   "execution_count": 2,
   "metadata": {},
   "outputs": [
    {
     "data": {
      "text/html": [
       "<div>\n",
       "<style scoped>\n",
       "    .dataframe tbody tr th:only-of-type {\n",
       "        vertical-align: middle;\n",
       "    }\n",
       "\n",
       "    .dataframe tbody tr th {\n",
       "        vertical-align: top;\n",
       "    }\n",
       "\n",
       "    .dataframe thead th {\n",
       "        text-align: right;\n",
       "    }\n",
       "</style>\n",
       "<table border=\"1\" class=\"dataframe\">\n",
       "  <thead>\n",
       "    <tr style=\"text-align: right;\">\n",
       "      <th></th>\n",
       "      <th>Genre</th>\n",
       "      <th>Plot</th>\n",
       "    </tr>\n",
       "  </thead>\n",
       "  <tbody>\n",
       "    <tr>\n",
       "      <th>0</th>\n",
       "      <td>unknown</td>\n",
       "      <td>A bartender is working at a saloon, serving dr...</td>\n",
       "    </tr>\n",
       "    <tr>\n",
       "      <th>1</th>\n",
       "      <td>unknown</td>\n",
       "      <td>The moon, painted with a smiling face hangs ov...</td>\n",
       "    </tr>\n",
       "    <tr>\n",
       "      <th>2</th>\n",
       "      <td>unknown</td>\n",
       "      <td>The film, just over a minute long, is composed...</td>\n",
       "    </tr>\n",
       "    <tr>\n",
       "      <th>3</th>\n",
       "      <td>unknown</td>\n",
       "      <td>Lasting just 61 seconds and consisting of two ...</td>\n",
       "    </tr>\n",
       "    <tr>\n",
       "      <th>4</th>\n",
       "      <td>unknown</td>\n",
       "      <td>The earliest known adaptation of the classic f...</td>\n",
       "    </tr>\n",
       "  </tbody>\n",
       "</table>\n",
       "</div>"
      ],
      "text/plain": [
       "     Genre                                               Plot\n",
       "0  unknown  A bartender is working at a saloon, serving dr...\n",
       "1  unknown  The moon, painted with a smiling face hangs ov...\n",
       "2  unknown  The film, just over a minute long, is composed...\n",
       "3  unknown  Lasting just 61 seconds and consisting of two ...\n",
       "4  unknown  The earliest known adaptation of the classic f..."
      ]
     },
     "execution_count": 2,
     "metadata": {},
     "output_type": "execute_result"
    }
   ],
   "source": [
    "movies = movies[['Genre', 'Plot']]\n",
    "movies.head()"
   ]
  },
  {
   "cell_type": "markdown",
   "metadata": {},
   "source": [
    "The data set, which contains 34,885 entries, has lots of rows that contain `NaN` values (\"not a number\"), which means that we can't work with them. The `pandas` library allows you to remove the rows that contain `NaN` values:"
   ]
  },
  {
   "cell_type": "code",
   "execution_count": 3,
   "metadata": {},
   "outputs": [
    {
     "name": "stdout",
     "output_type": "stream",
     "text": [
      "There are now 34886 rows in the table.\n"
     ]
    },
    {
     "data": {
      "text/html": [
       "<div>\n",
       "<style scoped>\n",
       "    .dataframe tbody tr th:only-of-type {\n",
       "        vertical-align: middle;\n",
       "    }\n",
       "\n",
       "    .dataframe tbody tr th {\n",
       "        vertical-align: top;\n",
       "    }\n",
       "\n",
       "    .dataframe thead th {\n",
       "        text-align: right;\n",
       "    }\n",
       "</style>\n",
       "<table border=\"1\" class=\"dataframe\">\n",
       "  <thead>\n",
       "    <tr style=\"text-align: right;\">\n",
       "      <th></th>\n",
       "      <th>Genre</th>\n",
       "      <th>Plot</th>\n",
       "    </tr>\n",
       "  </thead>\n",
       "  <tbody>\n",
       "    <tr>\n",
       "      <th>0</th>\n",
       "      <td>unknown</td>\n",
       "      <td>A bartender is working at a saloon, serving dr...</td>\n",
       "    </tr>\n",
       "    <tr>\n",
       "      <th>1</th>\n",
       "      <td>unknown</td>\n",
       "      <td>The moon, painted with a smiling face hangs ov...</td>\n",
       "    </tr>\n",
       "    <tr>\n",
       "      <th>2</th>\n",
       "      <td>unknown</td>\n",
       "      <td>The film, just over a minute long, is composed...</td>\n",
       "    </tr>\n",
       "    <tr>\n",
       "      <th>3</th>\n",
       "      <td>unknown</td>\n",
       "      <td>Lasting just 61 seconds and consisting of two ...</td>\n",
       "    </tr>\n",
       "    <tr>\n",
       "      <th>4</th>\n",
       "      <td>unknown</td>\n",
       "      <td>The earliest known adaptation of the classic f...</td>\n",
       "    </tr>\n",
       "  </tbody>\n",
       "</table>\n",
       "</div>"
      ],
      "text/plain": [
       "     Genre                                               Plot\n",
       "0  unknown  A bartender is working at a saloon, serving dr...\n",
       "1  unknown  The moon, painted with a smiling face hangs ov...\n",
       "2  unknown  The film, just over a minute long, is composed...\n",
       "3  unknown  Lasting just 61 seconds and consisting of two ...\n",
       "4  unknown  The earliest known adaptation of the classic f..."
      ]
     },
     "execution_count": 3,
     "metadata": {},
     "output_type": "execute_result"
    }
   ],
   "source": [
    "movies = movies.dropna().reset_index(drop=True)\n",
    "print(f\"There are now {movies.shape[0]} rows in the table.\")\n",
    "movies.head()"
   ]
  },
  {
   "cell_type": "markdown",
   "metadata": {},
   "source": [
    "In the above cell, we also reset the row indices to make slicing the table easier. We now have 34,886 rows, so we lost about 1,400 entries. The next thing to look at is what kinds of values we have in the DataFrame."
   ]
  },
  {
   "cell_type": "markdown",
   "metadata": {},
   "source": [
    "#### Data Exploration and Accptable Genres\n",
    "Now we need to see what kinds of data we have in the set. We begin by showing what the values in the `Genre` column of the DataFrame are:"
   ]
  },
  {
   "cell_type": "code",
   "execution_count": 4,
   "metadata": {},
   "outputs": [
    {
     "data": {
      "text/plain": [
       "array(['unknown', 'western', 'comedy', ...,\n",
       "       'adventure, romance, fantasy film', 'ero',\n",
       "       'horror romantic comedy'], dtype=object)"
      ]
     },
     "execution_count": 4,
     "metadata": {},
     "output_type": "execute_result"
    }
   ],
   "source": [
    "movies['Genre'].unique()"
   ]
  },
  {
   "cell_type": "markdown",
   "metadata": {},
   "source": [
    "It looks like there's lots of different values in the column (2,210 to be exact). But for this question, we're really only interested in the basic genres of movies: action, adventure, comedy, drama, fantasy, historical, horror, romance, science fiction, and thriller.\n",
    "\n",
    "To this end, we will define a function that will read through the `Genre` entry in each row and categorize them as one of the above. This process has a few steps:\n",
    "1. Define a function that will determine if any of the above words are present in the entry\n",
    "2. Filter `movies` for such rows\n",
    "3. Change the entry for `Genre` to one of the above for each row left if entry is not one of the above"
   ]
  },
  {
   "cell_type": "code",
   "execution_count": 5,
   "metadata": {},
   "outputs": [
    {
     "data": {
      "text/html": [
       "<div>\n",
       "<style scoped>\n",
       "    .dataframe tbody tr th:only-of-type {\n",
       "        vertical-align: middle;\n",
       "    }\n",
       "\n",
       "    .dataframe tbody tr th {\n",
       "        vertical-align: top;\n",
       "    }\n",
       "\n",
       "    .dataframe thead th {\n",
       "        text-align: right;\n",
       "    }\n",
       "</style>\n",
       "<table border=\"1\" class=\"dataframe\">\n",
       "  <thead>\n",
       "    <tr style=\"text-align: right;\">\n",
       "      <th></th>\n",
       "      <th>Genre</th>\n",
       "      <th>Plot</th>\n",
       "    </tr>\n",
       "  </thead>\n",
       "  <tbody>\n",
       "    <tr>\n",
       "      <th>0</th>\n",
       "      <td>comedy</td>\n",
       "      <td>The film is about a family who move to the sub...</td>\n",
       "    </tr>\n",
       "    <tr>\n",
       "      <th>1</th>\n",
       "      <td>short action/crime western</td>\n",
       "      <td>The film features a train traveling through th...</td>\n",
       "    </tr>\n",
       "    <tr>\n",
       "      <th>2</th>\n",
       "      <td>comedy</td>\n",
       "      <td>Before heading out to a baseball game at a nea...</td>\n",
       "    </tr>\n",
       "    <tr>\n",
       "      <th>3</th>\n",
       "      <td>comedy</td>\n",
       "      <td>The plot is that of a black woman going to the...</td>\n",
       "    </tr>\n",
       "    <tr>\n",
       "      <th>4</th>\n",
       "      <td>drama</td>\n",
       "      <td>On a beautiful summer day a father and mother ...</td>\n",
       "    </tr>\n",
       "  </tbody>\n",
       "</table>\n",
       "</div>"
      ],
      "text/plain": [
       "                        Genre  \\\n",
       "0                      comedy   \n",
       "1  short action/crime western   \n",
       "2                      comedy   \n",
       "3                      comedy   \n",
       "4                       drama   \n",
       "\n",
       "                                                Plot  \n",
       "0  The film is about a family who move to the sub...  \n",
       "1  The film features a train traveling through th...  \n",
       "2  Before heading out to a baseball game at a nea...  \n",
       "3  The plot is that of a black woman going to the...  \n",
       "4  On a beautiful summer day a father and mother ...  "
      ]
     },
     "execution_count": 5,
     "metadata": {},
     "output_type": "execute_result"
    }
   ],
   "source": [
    "# Step 1:\n",
    "def contains_acceptable_genre(entry):\n",
    "    acceptable_genres = ['action', 'adventure', 'comedy', 'drama', 'fantasy', 'historical', 'horror', \n",
    "                        'romance', 'science fiction', 'thriller']\n",
    "    for genre in acceptable_genres:\n",
    "        if genre in entry['Genre']:\n",
    "            return True\n",
    "    return False\n",
    "\n",
    "# Step 2:\n",
    "filtered_movies = movies[movies.apply(contains_acceptable_genre, axis=1)].reset_index(drop=True)\n",
    "filtered_movies.head()"
   ]
  },
  {
   "cell_type": "markdown",
   "metadata": {},
   "source": [
    "In order to accomplish Step 3, we need to develop a few helper functions. Mainly, we need to comb each `Genre` entry in `filtered_movies` do the following:\n",
    "1. Check if it is an exact match for something in `acceptable_genres`\n",
    "2. If it is not, then use a heuristic to determine which genre it is a part of\n",
    "3. Apply this function to each row of the DataFrame\n",
    "\n",
    "For Step 3.1, we define the function `superfluous_text` which returns a Boolean value corresponding to whether or not there are extra characters beyond an entry in `accaptable_genres`."
   ]
  },
  {
   "cell_type": "code",
   "execution_count": 6,
   "metadata": {},
   "outputs": [],
   "source": [
    "# Step 3.1:\n",
    "def superfluous_text(entry):\n",
    "    \"\"\"\n",
    "    Determines if the string entry is in acceptable_genres\n",
    "    \"\"\"\n",
    "    acceptable_genres = ['action', 'adventure', 'comedy', 'drama', 'fantasy', 'historical', 'horror', \n",
    "                        'romance', 'science fiction', 'thriller']\n",
    "    for genre in acceptable_genres:\n",
    "        if genre == entry:\n",
    "            return False\n",
    "    return True"
   ]
  },
  {
   "cell_type": "markdown",
   "metadata": {},
   "source": [
    "For Step 3.2, we take entries for which `superfluous_text` returns `True` and use a heuristic to determine which is the most accurate genre they fall under. The heuristic that we use is that the last word is likely the most general genre (i.e. the noun without any modifiers). In this way, `'historical drama'` would become `'drama'` and `'action comedy'` would become `'comedy'`.\n",
    "\n",
    "The function `determine_genre` looks for words starting from the last word and going to the first until it finds an entry in `acceptable_genres`. If no such word exists, then an empty string, `''`, is inserted instead."
   ]
  },
  {
   "cell_type": "code",
   "execution_count": 7,
   "metadata": {},
   "outputs": [],
   "source": [
    "# Step 3.2:\n",
    "def determine_genre(entry):\n",
    "    \"\"\"\n",
    "    Takes a string entry and returns the word closest to the end that is in acceptable_genres\n",
    "    \"\"\"\n",
    "    acceptable_genres = ['action', 'adventure', 'comedy', 'drama', 'fantasy', 'historical', 'horror', \n",
    "                        'romance', 'science fiction', 'thriller']\n",
    "\n",
    "    if not superfluous_text(entry):\n",
    "        return entry\n",
    "    for c in entry:\n",
    "        if c not in string.ascii_lowercase:\n",
    "            genre = entry.replace(c, '')\n",
    "    try:\n",
    "        genre = genre.split(' ')\n",
    "    except UnboundLocalError:\n",
    "        genre = entry.split(' ')\n",
    "\n",
    "    i = -1\n",
    "    new_genre = ''\n",
    "    while new_genre not in acceptable_genres:\n",
    "        try:\n",
    "            new_genre = genre[i]\n",
    "        except IndexError:\n",
    "            new_genre = ''\n",
    "            return new_genre\n",
    "        if genre not in acceptable_genres:\n",
    "            i -= 1\n",
    "\n",
    "    return new_genre"
   ]
  },
  {
   "cell_type": "markdown",
   "metadata": {},
   "source": [
    "Finally, for Step 3.3, the function `change_genres` takes a DataFrame as its argument and goes through the `Genre` column to replace the original `Genre` with the result of `determine_genre`. Then a new DataFrame is generated by copying the one passed as the argument and dropping the original `Genre` column and replacing it with a new `Genre` column. Then it filters out rows where the empty string `''` was inserted instead of a genre."
   ]
  },
  {
   "cell_type": "code",
   "execution_count": 8,
   "metadata": {},
   "outputs": [
    {
     "name": "stdout",
     "output_type": "stream",
     "text": [
      "The table now has 15852 rows.\n"
     ]
    },
    {
     "data": {
      "text/html": [
       "<div>\n",
       "<style scoped>\n",
       "    .dataframe tbody tr th:only-of-type {\n",
       "        vertical-align: middle;\n",
       "    }\n",
       "\n",
       "    .dataframe tbody tr th {\n",
       "        vertical-align: top;\n",
       "    }\n",
       "\n",
       "    .dataframe thead th {\n",
       "        text-align: right;\n",
       "    }\n",
       "</style>\n",
       "<table border=\"1\" class=\"dataframe\">\n",
       "  <thead>\n",
       "    <tr style=\"text-align: right;\">\n",
       "      <th></th>\n",
       "      <th>Plot</th>\n",
       "      <th>Genre</th>\n",
       "    </tr>\n",
       "  </thead>\n",
       "  <tbody>\n",
       "    <tr>\n",
       "      <th>0</th>\n",
       "      <td>The film is about a family who move to the sub...</td>\n",
       "      <td>comedy</td>\n",
       "    </tr>\n",
       "    <tr>\n",
       "      <th>1</th>\n",
       "      <td>Before heading out to a baseball game at a nea...</td>\n",
       "      <td>comedy</td>\n",
       "    </tr>\n",
       "    <tr>\n",
       "      <th>2</th>\n",
       "      <td>The plot is that of a black woman going to the...</td>\n",
       "      <td>comedy</td>\n",
       "    </tr>\n",
       "    <tr>\n",
       "      <th>3</th>\n",
       "      <td>On a beautiful summer day a father and mother ...</td>\n",
       "      <td>drama</td>\n",
       "    </tr>\n",
       "    <tr>\n",
       "      <th>4</th>\n",
       "      <td>A thug accosts a girl as she leaves her workpl...</td>\n",
       "      <td>drama</td>\n",
       "    </tr>\n",
       "  </tbody>\n",
       "</table>\n",
       "</div>"
      ],
      "text/plain": [
       "                                                Plot   Genre\n",
       "0  The film is about a family who move to the sub...  comedy\n",
       "1  Before heading out to a baseball game at a nea...  comedy\n",
       "2  The plot is that of a black woman going to the...  comedy\n",
       "3  On a beautiful summer day a father and mother ...   drama\n",
       "4  A thug accosts a girl as she leaves her workpl...   drama"
      ]
     },
     "execution_count": 8,
     "metadata": {},
     "output_type": "execute_result"
    }
   ],
   "source": [
    "# Step 3.3:\n",
    "def change_genres(df):\n",
    "    new_genres = np.array([])\n",
    "    for entry in df['Genre']:\n",
    "        new_genre = determine_genre(entry)\n",
    "        new_genres = np.append(new_genres, new_genre)\n",
    "    \n",
    "    new_df = df.drop(columns=['Genre']).assign(Genre=new_genres)\n",
    "    new_df = new_df[new_df['Genre'] != ''].reset_index(drop=True)\n",
    "    \n",
    "    return new_df\n",
    "\n",
    "filtered_genres = change_genres(filtered_movies)\n",
    "print(f\"The table now has {filtered_genres.shape[0]} rows.\")\n",
    "filtered_genres.head()"
   ]
  },
  {
   "cell_type": "markdown",
   "metadata": {},
   "source": [
    "#### Cleaning Plot Strings\n",
    "Now that we have sorted the genres of each movie in the DataFrame, we look now to format the `Plot` column so that it can be more easily analyzed. In the cell below, the function `clean_string` is defined, which removes all characters that are not letters from a string and makes all letters lowercase. Then the function `words_in_dict` is defined which takes in a string and returns a string containing words in the file [dict.csv](#dict). Finally, `clean_plots` is defined, which takes a DataFrame as its parameter and goes through each `Plot` entry and cleans the string there, returning a new DataFrame with cleaned plot strings.\n",
    "\n",
    "Because the function `clean_plots` takes a while to run on the data set, I ran it once and then exported it as `movies_with_cleaned_plots.csv`. The commented out code at the bottom of the cell shows how the function was run and exported. Instead of running it again, we just import the cleaned data using `pd.read_csv()`."
   ]
  },
  {
   "cell_type": "code",
   "execution_count": 11,
   "metadata": {
    "scrolled": false
   },
   "outputs": [
    {
     "data": {
      "text/html": [
       "<div>\n",
       "<style scoped>\n",
       "    .dataframe tbody tr th:only-of-type {\n",
       "        vertical-align: middle;\n",
       "    }\n",
       "\n",
       "    .dataframe tbody tr th {\n",
       "        vertical-align: top;\n",
       "    }\n",
       "\n",
       "    .dataframe thead th {\n",
       "        text-align: right;\n",
       "    }\n",
       "</style>\n",
       "<table border=\"1\" class=\"dataframe\">\n",
       "  <thead>\n",
       "    <tr style=\"text-align: right;\">\n",
       "      <th></th>\n",
       "      <th>Genre</th>\n",
       "      <th>Plot</th>\n",
       "    </tr>\n",
       "  </thead>\n",
       "  <tbody>\n",
       "    <tr>\n",
       "      <th>0</th>\n",
       "      <td>comedy</td>\n",
       "      <td>film about a family hoping for a life go leadi...</td>\n",
       "    </tr>\n",
       "    <tr>\n",
       "      <th>1</th>\n",
       "      <td>comedy</td>\n",
       "      <td>heading a game a fan he watch game has game hi...</td>\n",
       "    </tr>\n",
       "    <tr>\n",
       "      <th>2</th>\n",
       "      <td>comedy</td>\n",
       "      <td>a going for a given laughing gas her walking h...</td>\n",
       "    </tr>\n",
       "    <tr>\n",
       "      <th>3</th>\n",
       "      <td>drama</td>\n",
       "      <td>a a father take river a wares gypsy rob father...</td>\n",
       "    </tr>\n",
       "    <tr>\n",
       "      <th>4</th>\n",
       "      <td>drama</td>\n",
       "      <td>a a girl leaves her a her revenge help girl he...</td>\n",
       "    </tr>\n",
       "  </tbody>\n",
       "</table>\n",
       "</div>"
      ],
      "text/plain": [
       "    Genre                                               Plot\n",
       "0  comedy  film about a family hoping for a life go leadi...\n",
       "1  comedy  heading a game a fan he watch game has game hi...\n",
       "2  comedy  a going for a given laughing gas her walking h...\n",
       "3   drama  a a father take river a wares gypsy rob father...\n",
       "4   drama  a a girl leaves her a her revenge help girl he..."
      ]
     },
     "execution_count": 11,
     "metadata": {},
     "output_type": "execute_result"
    }
   ],
   "source": [
    "dictionary = list(pd.read_csv('dict.csv')['dictionary'])\n",
    "\n",
    "def clean_string(s):\n",
    "    for c in s:\n",
    "        if c not in string.ascii_letters + ' ':\n",
    "            s = s.replace(c, '')\n",
    "        elif c in string.ascii_uppercase:\n",
    "            i = string.ascii_uppercase.index(c)\n",
    "            s = s.replace(c, string.ascii_lowercase[i])\n",
    "            \n",
    "    return s\n",
    "\n",
    "def words_in_dict(s):\n",
    "    s = s.split(' ')\n",
    "    \n",
    "    words_to_delete = []\n",
    "    for word in s:\n",
    "        if word not in dictionary:\n",
    "            words_to_delete += [word]\n",
    "            \n",
    "    for word in words_to_delete:\n",
    "        s.remove(word)\n",
    "        \n",
    "    return ' '.join(s)\n",
    "\n",
    "def clean_plots(df):\n",
    "    plots = list(df['Plot'])\n",
    "    \n",
    "    cleaned_plots = []\n",
    "    for plot in plots:\n",
    "        cleaned_plot = clean_string(plot)\n",
    "        cleaned_plot = words_in_dict(cleaned_plot)\n",
    "        cleaned_plots += [cleaned_plot]\n",
    "        \n",
    "    new_df = df.drop(['Plot'], axis=1).assign(Plot=cleaned_plots)\n",
    "    return new_df\n",
    "\n",
    "# # Commented out below lines to save time when running this code later:\n",
    "# movies_with_cleaned_plots = clean_plots(filtered_genres)\n",
    "# movies_with_cleaned_plots.to_csv('movies_with_cleaned_plots.csv', index=False)\n",
    "\n",
    "# Importing the csv with the data that would have been created by running the code above:\n",
    "movies_with_cleaned_plots = pd.read_csv('movies_with_cleaned_plots.csv')\n",
    "movies_with_cleaned_plots.head()"
   ]
  },
  {
   "cell_type": "markdown",
   "metadata": {},
   "source": [
    "<div id=\"grouping\"></div>\n",
    "\n",
    "## Grouping Plots & Word Recurrence\n",
    "Before going on, I think it's a good idea to see how prevalent the different genres are in our classifier. To that end, I will plot a histogram of this data using matplotlib."
   ]
  },
  {
   "cell_type": "code",
   "execution_count": 18,
   "metadata": {},
   "outputs": [
    {
     "data": {
      "image/png": "[encoded data removed]",
      "text/plain": [
       "<Figure size 1080x720 with 1 Axes>"
      ]
     },
     "metadata": {},
     "output_type": "display_data"
    }
   ],
   "source": [
    "genre_counts = movies_with_cleaned_plots.groupby('Genre').count()\n",
    "\n",
    "plt.figure(figsize=[15,10])\n",
    "plt.bar(genre_counts.index.values, genre_counts['Plot'], width=0.5)\n",
    "plt.title('Histogram of Genres in movies_with_cleaned_genres')\n",
    "plt.xlabel('Genre')\n",
    "plt.ylabel('Count');"
   ]
  },
  {
   "cell_type": "markdown",
   "metadata": {},
   "source": [
    "Obviously, there is a wide variance of the frequency of each genre. This will likely affect the accuracy of the classifier, but we will test that in the last section of this notebook.\n",
    "\n",
    "Now we can begin look at recurrent words within genres. To begin, we group the `movies_with_cleaned_plots` table by genre and aggregate the `Plot` column into lists."
   ]
  },
  {
   "cell_type": "code",
   "execution_count": 23,
   "metadata": {},
   "outputs": [
    {
     "data": {
      "text/html": [
       "<div>\n",
       "<style scoped>\n",
       "    .dataframe tbody tr th:only-of-type {\n",
       "        vertical-align: middle;\n",
       "    }\n",
       "\n",
       "    .dataframe tbody tr th {\n",
       "        vertical-align: top;\n",
       "    }\n",
       "\n",
       "    .dataframe thead th {\n",
       "        text-align: right;\n",
       "    }\n",
       "</style>\n",
       "<table border=\"1\" class=\"dataframe\">\n",
       "  <thead>\n",
       "    <tr style=\"text-align: right;\">\n",
       "      <th></th>\n",
       "      <th>Plot</th>\n",
       "    </tr>\n",
       "    <tr>\n",
       "      <th>Genre</th>\n",
       "      <th></th>\n",
       "    </tr>\n",
       "  </thead>\n",
       "  <tbody>\n",
       "    <tr>\n",
       "      <th>action</th>\n",
       "      <td>[in world war i american pilots mal andrews ch...</td>\n",
       "    </tr>\n",
       "    <tr>\n",
       "      <th>adventure</th>\n",
       "      <td>[a white girl florence lawrence rejects a prop...</td>\n",
       "    </tr>\n",
       "    <tr>\n",
       "      <th>comedy</th>\n",
       "      <td>[before heading out to a baseball game at a ne...</td>\n",
       "    </tr>\n",
       "    <tr>\n",
       "      <th>drama</th>\n",
       "      <td>[on a beautiful summer day a father and mother...</td>\n",
       "    </tr>\n",
       "    <tr>\n",
       "      <th>fantasy</th>\n",
       "      <td>[the daughter of king neptune takes on human f...</td>\n",
       "    </tr>\n",
       "  </tbody>\n",
       "</table>\n",
       "</div>"
      ],
      "text/plain": [
       "                                                        Plot\n",
       "Genre                                                       \n",
       "action     [in world war i american pilots mal andrews ch...\n",
       "adventure  [a white girl florence lawrence rejects a prop...\n",
       "comedy     [before heading out to a baseball game at a ne...\n",
       "drama      [on a beautiful summer day a father and mother...\n",
       "fantasy    [the daughter of king neptune takes on human f..."
      ]
     },
     "execution_count": 23,
     "metadata": {},
     "output_type": "execute_result"
    }
   ],
   "source": [
    "plot_lists = movies_with_cleaned_plots.groupby('Genre').agg(list)\n",
    "plot_lists.head()"
   ]
  },
  {
   "cell_type": "code",
   "execution_count": 29,
   "metadata": {},
   "outputs": [],
   "source": [
    "words_by_genre = {}\n",
    "for genre in plot_lists.index.values:\n",
    "    plots = plot_lists.loc[genre,].values[0]\n",
    "    \n",
    "    word_counts = {}\n",
    "    for plot in plots:\n",
    "        plot = plot.split(' ')\n",
    "        for word in plot:\n",
    "            try:\n",
    "                word_counts[word] += 1\n",
    "            except KeyError:\n",
    "                word_counts[word] = 1\n",
    "    words_by_genre[genre] = word_counts"
   ]
  },
  {
   "cell_type": "code",
   "execution_count": null,
   "metadata": {},
   "outputs": [],
   "source": []
  },
  {
   "cell_type": "markdown",
   "metadata": {},
   "source": [
    "## Notes\n",
    "\n",
    "<div id=\"dict\"></div>\n",
    "\n",
    "`dict.csv`: This CSV file contains (almost) all the words in the English language, transformed to lowercase and with any punctuation removed. The file is from [this Github repo](https://github.com/manassharma07/English-Dictionary-CSV), and it exists in its original format in the file [dictionary.csv](./dictionary.csv). To see the code that I used to transform the dictionary to lower case and remove punctuation, see [editing_dictionary.ipynb](./editing_dictionary)."
   ]
  }
 ],
 "metadata": {
  "kernelspec": {
   "display_name": "Python 3",
   "language": "python",
   "name": "python3"
  },
  "language_info": {
   "codemirror_mode": {
    "name": "ipython",
    "version": 3
   },
   "file_extension": ".py",
   "mimetype": "text/x-python",
   "name": "python",
   "nbconvert_exporter": "python",
   "pygments_lexer": "ipython3",
   "version": "3.6.5"
  }
 },
 "nbformat": 4,
 "nbformat_minor": 2
}
