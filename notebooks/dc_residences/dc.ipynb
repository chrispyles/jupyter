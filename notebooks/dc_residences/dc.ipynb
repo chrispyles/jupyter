{
 "cells": [
  {
   "cell_type": "code",
   "execution_count": 1,
   "metadata": {},
   "outputs": [
    {
     "name": "stderr",
     "output_type": "stream",
     "text": [
      "/anaconda3/lib/python3.6/site-packages/IPython/core/interactiveshell.py:2903: DtypeWarning: Columns (18,19,20,21,22,23,24,33,34,35,37,43,45) have mixed types. Specify dtype option on import or set low_memory=False.\n",
      "  if self.run_code(code, result):\n"
     ]
    }
   ],
   "source": [
    "from datascience import *\n",
    "import numpy as np\n",
    "\n",
    "import matplotlib\n",
    "%matplotlib inline\n",
    "import matplotlib.pyplot as plt\n",
    "plt.style.use('ggplot')\n",
    "import warnings\n",
    "warnings.simplefilter('ignore', FutureWarning)\n",
    "\n",
    "# regression functions\n",
    "def standard_units(arr):\n",
    "    return (arr - np.mean(arr)) / np.std(arr)\n",
    "\n",
    "def correlation(x, y):\n",
    "    return np.mean(standard_units(x) * standard_units(y))\n",
    "\n",
    "def slope(x, y):\n",
    "    r = correlation(x, y)\n",
    "    return r * np.std(y) / np.std(x)\n",
    "\n",
    "def intercept(x, y):\n",
    "    m = slope(x, y)\n",
    "    return np.mean(y) - m * np.mean(x)\n",
    "\n",
    "# read table\n",
    "dc = Table.read_table('dc_properties.csv')"
   ]
  },
  {
   "cell_type": "code",
   "execution_count": 2,
   "metadata": {},
   "outputs": [
    {
     "data": {
      "text/html": [
       "<table border=\"1\" class=\"dataframe\">\n",
       "    <thead>\n",
       "        <tr>\n",
       "            <th>Unnamed: 0</th> <th>BATHRM</th> <th>HF_BATHRM</th> <th>HEAT</th> <th>AC</th> <th>NUM_UNITS</th> <th>ROOMS</th> <th>BEDRM</th> <th>AYB</th> <th>YR_RMDL</th> <th>EYB</th> <th>STORIES</th> <th>SALEDATE</th> <th>PRICE</th> <th>QUALIFIED</th> <th>SALE_NUM</th> <th>GBA</th> <th>BLDG_NUM</th> <th>STYLE</th> <th>STRUCT</th> <th>GRADE</th> <th>CNDTN</th> <th>EXTWALL</th> <th>ROOF</th> <th>INTWALL</th> <th>KITCHENS</th> <th>FIREPLACES</th> <th>USECODE</th> <th>LANDAREA</th> <th>GIS_LAST_MOD_DTTM</th> <th>SOURCE</th> <th>CMPLX_NUM</th> <th>LIVING_GBA</th> <th>FULLADDRESS</th> <th>CITY</th> <th>STATE</th> <th>ZIPCODE</th> <th>NATIONALGRID</th> <th>LATITUDE</th> <th>LONGITUDE</th> <th>ASSESSMENT_NBHD</th> <th>ASSESSMENT_SUBNBHD</th> <th>CENSUS_TRACT</th> <th>CENSUS_BLOCK</th> <th>WARD</th> <th>SQUARE</th> <th>X</th> <th>Y</th> <th>QUADRANT</th>\n",
       "        </tr>\n",
       "    </thead>\n",
       "    <tbody>\n",
       "        <tr>\n",
       "            <td>0         </td> <td>4     </td> <td>0        </td> <td>Warm Cool    </td> <td>Y   </td> <td>2        </td> <td>8    </td> <td>4    </td> <td>1910</td> <td>1988   </td> <td>1972</td> <td>3      </td> <td>2003-11-25 00:00:00</td> <td>1.095e+06</td> <td>Q        </td> <td>1       </td> <td>2522</td> <td>1       </td> <td>3 Story</td> <td>Row Inside   </td> <td>Very Good    </td> <td>Good     </td> <td>Common Brick</td> <td>Metal- Sms</td> <td>Hardwood</td> <td>2       </td> <td>5         </td> <td>24     </td> <td>1680    </td> <td>2018-07-22 18:01:43</td> <td>Residential</td> <td>nan      </td> <td>nan       </td> <td>1748 SWANN STREET NW        </td> <td>WASHINGTON</td> <td>DC   </td> <td>20009  </td> <td>18S UJ 23061 09289</td> <td>38.9147 </td> <td>-77.0408 </td> <td>Old City 2     </td> <td>040 D Old City 2  </td> <td>4201        </td> <td>004201 2006 </td> <td>Ward 2</td> <td>152   </td> <td>-77.0404</td> <td>38.9149</td> <td>NW      </td>\n",
       "        </tr>\n",
       "        <tr>\n",
       "            <td>1         </td> <td>3     </td> <td>1        </td> <td>Warm Cool    </td> <td>Y   </td> <td>2        </td> <td>11   </td> <td>5    </td> <td>1898</td> <td>2007   </td> <td>1972</td> <td>3      </td> <td>2000-08-17 00:00:00</td> <td>nan      </td> <td>U        </td> <td>1       </td> <td>2567</td> <td>1       </td> <td>3 Story</td> <td>Row Inside   </td> <td>Very Good    </td> <td>Good     </td> <td>Common Brick</td> <td>Built Up  </td> <td>Hardwood</td> <td>2       </td> <td>4         </td> <td>24     </td> <td>1680    </td> <td>2018-07-22 18:01:43</td> <td>Residential</td> <td>nan      </td> <td>nan       </td> <td>1746 SWANN STREET NW        </td> <td>WASHINGTON</td> <td>DC   </td> <td>20009  </td> <td>18S UJ 23067 09289</td> <td>38.9147 </td> <td>-77.0408 </td> <td>Old City 2     </td> <td>040 D Old City 2  </td> <td>4201        </td> <td>004201 2006 </td> <td>Ward 2</td> <td>152   </td> <td>-77.0404</td> <td>38.9149</td> <td>NW      </td>\n",
       "        </tr>\n",
       "        <tr>\n",
       "            <td>2         </td> <td>3     </td> <td>1        </td> <td>Hot Water Rad</td> <td>Y   </td> <td>2        </td> <td>9    </td> <td>5    </td> <td>1910</td> <td>2009   </td> <td>1984</td> <td>3      </td> <td>2016-06-21 00:00:00</td> <td>2.1e+06  </td> <td>Q        </td> <td>3       </td> <td>2522</td> <td>1       </td> <td>3 Story</td> <td>Row Inside   </td> <td>Very Good    </td> <td>Very Good</td> <td>Common Brick</td> <td>Built Up  </td> <td>Hardwood</td> <td>2       </td> <td>4         </td> <td>24     </td> <td>1680    </td> <td>2018-07-22 18:01:43</td> <td>Residential</td> <td>nan      </td> <td>nan       </td> <td>1744 SWANN STREET NW        </td> <td>WASHINGTON</td> <td>DC   </td> <td>20009  </td> <td>18S UJ 23074 09289</td> <td>38.9147 </td> <td>-77.0407 </td> <td>Old City 2     </td> <td>040 D Old City 2  </td> <td>4201        </td> <td>004201 2006 </td> <td>Ward 2</td> <td>152   </td> <td>-77.0404</td> <td>38.9149</td> <td>NW      </td>\n",
       "        </tr>\n",
       "        <tr>\n",
       "            <td>3         </td> <td>3     </td> <td>1        </td> <td>Hot Water Rad</td> <td>Y   </td> <td>2        </td> <td>8    </td> <td>5    </td> <td>1900</td> <td>2003   </td> <td>1984</td> <td>3      </td> <td>2006-07-12 00:00:00</td> <td>1.602e+06</td> <td>Q        </td> <td>1       </td> <td>2484</td> <td>1       </td> <td>3 Story</td> <td>Row Inside   </td> <td>Very Good    </td> <td>Good     </td> <td>Common Brick</td> <td>Built Up  </td> <td>Hardwood</td> <td>2       </td> <td>3         </td> <td>24     </td> <td>1680    </td> <td>2018-07-22 18:01:43</td> <td>Residential</td> <td>nan      </td> <td>nan       </td> <td>1742 SWANN STREET NW        </td> <td>WASHINGTON</td> <td>DC   </td> <td>20009  </td> <td>18S UJ 23078 09288</td> <td>38.9147 </td> <td>-77.0406 </td> <td>Old City 2     </td> <td>040 D Old City 2  </td> <td>4201        </td> <td>004201 2006 </td> <td>Ward 2</td> <td>152   </td> <td>-77.0404</td> <td>38.9149</td> <td>NW      </td>\n",
       "        </tr>\n",
       "        <tr>\n",
       "            <td>4         </td> <td>2     </td> <td>1        </td> <td>Warm Cool    </td> <td>Y   </td> <td>1        </td> <td>11   </td> <td>3    </td> <td>1913</td> <td>2012   </td> <td>1985</td> <td>3      </td> <td>nan                </td> <td>nan      </td> <td>U        </td> <td>1       </td> <td>5255</td> <td>1       </td> <td>3 Story</td> <td>Semi-Detached</td> <td>Very Good    </td> <td>Good     </td> <td>Common Brick</td> <td>Neopren   </td> <td>Hardwood</td> <td>1       </td> <td>0         </td> <td>13     </td> <td>2032    </td> <td>2018-07-22 18:01:43</td> <td>Residential</td> <td>nan      </td> <td>nan       </td> <td>1804 NEW HAMPSHIRE AVENUE NW</td> <td>WASHINGTON</td> <td>DC   </td> <td>20009  </td> <td>18S UJ 23188 09253</td> <td>38.9144 </td> <td>-77.0394 </td> <td>Old City 2     </td> <td>040 D Old City 2  </td> <td>4201        </td> <td>004201 2006 </td> <td>Ward 2</td> <td>152   </td> <td>-77.0404</td> <td>38.9149</td> <td>NW      </td>\n",
       "        </tr>\n",
       "        <tr>\n",
       "            <td>5         </td> <td>3     </td> <td>2        </td> <td>Hot Water Rad</td> <td>Y   </td> <td>1        </td> <td>10   </td> <td>5    </td> <td>1913</td> <td>nan    </td> <td>1972</td> <td>4      </td> <td>2010-02-26 00:00:00</td> <td>1.95e+06 </td> <td>Q        </td> <td>1       </td> <td>5344</td> <td>1       </td> <td>4 Story</td> <td>Row Inside   </td> <td>Very Good    </td> <td>Good     </td> <td>Common Brick</td> <td>Built Up  </td> <td>Hardwood</td> <td>1       </td> <td>4         </td> <td>11     </td> <td>2196    </td> <td>2018-07-22 18:01:43</td> <td>Residential</td> <td>nan      </td> <td>nan       </td> <td>1709 S STREET NW            </td> <td>WASHINGTON</td> <td>DC   </td> <td>20009  </td> <td>18S UJ 23157 09248</td> <td>38.9143 </td> <td>-77.0397 </td> <td>Old City 2     </td> <td>040 D Old City 2  </td> <td>4201        </td> <td>004201 2006 </td> <td>Ward 2</td> <td>152   </td> <td>-77.0404</td> <td>38.9149</td> <td>NW      </td>\n",
       "        </tr>\n",
       "        <tr>\n",
       "            <td>6         </td> <td>1     </td> <td>0        </td> <td>Warm Cool    </td> <td>Y   </td> <td>2        </td> <td>5    </td> <td>2    </td> <td>1917</td> <td>1988   </td> <td>1957</td> <td>2      </td> <td>2011-05-02 00:00:00</td> <td>nan      </td> <td>U        </td> <td>1       </td> <td>1260</td> <td>1       </td> <td>2 Story</td> <td>Row Inside   </td> <td>Above Average</td> <td>Average  </td> <td>Common Brick</td> <td>Metal- Sms</td> <td>Hardwood</td> <td>2       </td> <td>0         </td> <td>24     </td> <td>1261    </td> <td>2018-07-22 18:01:43</td> <td>Residential</td> <td>nan      </td> <td>nan       </td> <td>1769 SWANN STREET NW        </td> <td>WASHINGTON</td> <td>DC   </td> <td>20009  </td> <td>18S UJ 23042 09323</td> <td>38.915  </td> <td>-77.0411 </td> <td>Old City 2     </td> <td>040 D Old City 2  </td> <td>4201        </td> <td>004201 2005 </td> <td>Ward 2</td> <td>152   </td> <td>-77.0404</td> <td>38.9149</td> <td>NW      </td>\n",
       "        </tr>\n",
       "        <tr>\n",
       "            <td>7         </td> <td>3     </td> <td>1        </td> <td>Hot Water Rad</td> <td>Y   </td> <td>2        </td> <td>8    </td> <td>4    </td> <td>1906</td> <td>2011   </td> <td>1972</td> <td>3      </td> <td>2011-09-29 00:00:00</td> <td>1.05e+06 </td> <td>Q        </td> <td>1       </td> <td>2401</td> <td>1       </td> <td>3 Story</td> <td>Row Inside   </td> <td>Very Good    </td> <td>Average  </td> <td>Common Brick</td> <td>Metal- Sms</td> <td>Hardwood</td> <td>2       </td> <td>1         </td> <td>24     </td> <td>1627    </td> <td>2018-07-22 18:01:43</td> <td>Residential</td> <td>nan      </td> <td>nan       </td> <td>1746 1/2 T STREET NW        </td> <td>WASHINGTON</td> <td>DC   </td> <td>20009  </td> <td>18S UJ 23124 09368</td> <td>38.9154 </td> <td>-77.0401 </td> <td>Old City 2     </td> <td>040 D Old City 2  </td> <td>4201        </td> <td>004201 2005 </td> <td>Ward 2</td> <td>152   </td> <td>-77.0404</td> <td>38.9149</td> <td>NW      </td>\n",
       "        </tr>\n",
       "        <tr>\n",
       "            <td>8         </td> <td>3     </td> <td>1        </td> <td>Warm Cool    </td> <td>Y   </td> <td>2        </td> <td>7    </td> <td>3    </td> <td>1908</td> <td>2008   </td> <td>1967</td> <td>2      </td> <td>2018-05-03 00:00:00</td> <td>1.43e+06 </td> <td>Q        </td> <td>4       </td> <td>1488</td> <td>1       </td> <td>2 Story</td> <td>Row Inside   </td> <td>Above Average</td> <td>Very Good</td> <td>Common Brick</td> <td>Built Up  </td> <td>Hardwood</td> <td>2       </td> <td>1         </td> <td>24     </td> <td>1424    </td> <td>2018-07-22 18:01:43</td> <td>Residential</td> <td>nan      </td> <td>nan       </td> <td>1727 SWANN STREET NW        </td> <td>WASHINGTON</td> <td>DC   </td> <td>20009  </td> <td>18S UJ 23142 09324</td> <td>38.915  </td> <td>-77.0399 </td> <td>Old City 2     </td> <td>040 D Old City 2  </td> <td>4201        </td> <td>004201 2005 </td> <td>Ward 2</td> <td>152   </td> <td>-77.0404</td> <td>38.9149</td> <td>NW      </td>\n",
       "        </tr>\n",
       "        <tr>\n",
       "            <td>9         </td> <td>1     </td> <td>1        </td> <td>Hot Water Rad</td> <td>Y   </td> <td>1        </td> <td>6    </td> <td>2    </td> <td>1908</td> <td>1979   </td> <td>1950</td> <td>2      </td> <td>2008-12-05 00:00:00</td> <td>nan      </td> <td>U        </td> <td>1       </td> <td>1590</td> <td>1       </td> <td>2 Story</td> <td>Row Inside   </td> <td>Good Quality </td> <td>Average  </td> <td>Common Brick</td> <td>Built Up  </td> <td>Hardwood</td> <td>1       </td> <td>0         </td> <td>11     </td> <td>1424    </td> <td>2018-07-22 18:01:43</td> <td>Residential</td> <td>nan      </td> <td>nan       </td> <td>1733 SWANN STREET NW        </td> <td>WASHINGTON</td> <td>DC   </td> <td>20009  </td> <td>18S UJ 23127 09324</td> <td>38.915  </td> <td>-77.0401 </td> <td>Old City 2     </td> <td>040 D Old City 2  </td> <td>4201        </td> <td>004201 2005 </td> <td>Ward 2</td> <td>152   </td> <td>-77.0404</td> <td>38.9149</td> <td>NW      </td>\n",
       "        </tr>\n",
       "    </tbody>\n",
       "</table>\n",
       "<p>... (158947 rows omitted)</p>"
      ],
      "text/plain": [
       "Unnamed: 0 | BATHRM | HF_BATHRM | HEAT          | AC   | NUM_UNITS | ROOMS | BEDRM | AYB  | YR_RMDL | EYB  | STORIES | SALEDATE            | PRICE     | QUALIFIED | SALE_NUM | GBA  | BLDG_NUM | STYLE   | STRUCT        | GRADE         | CNDTN     | EXTWALL      | ROOF       | INTWALL  | KITCHENS | FIREPLACES | USECODE | LANDAREA | GIS_LAST_MOD_DTTM   | SOURCE      | CMPLX_NUM | LIVING_GBA | FULLADDRESS                  | CITY       | STATE | ZIPCODE | NATIONALGRID       | LATITUDE | LONGITUDE | ASSESSMENT_NBHD | ASSESSMENT_SUBNBHD | CENSUS_TRACT | CENSUS_BLOCK | WARD   | SQUARE | X        | Y       | QUADRANT\n",
       "0          | 4      | 0         | Warm Cool     | Y    | 2         | 8     | 4     | 1910 | 1988    | 1972 | 3       | 2003-11-25 00:00:00 | 1.095e+06 | Q         | 1        | 2522 | 1        | 3 Story | Row Inside    | Very Good     | Good      | Common Brick | Metal- Sms | Hardwood | 2        | 5          | 24      | 1680     | 2018-07-22 18:01:43 | Residential | nan       | nan        | 1748 SWANN STREET NW         | WASHINGTON | DC    | 20009   | 18S UJ 23061 09289 | 38.9147  | -77.0408  | Old City 2      | 040 D Old City 2   | 4201         | 004201 2006  | Ward 2 | 152    | -77.0404 | 38.9149 | NW\n",
       "1          | 3      | 1         | Warm Cool     | Y    | 2         | 11    | 5     | 1898 | 2007    | 1972 | 3       | 2000-08-17 00:00:00 | nan       | U         | 1        | 2567 | 1        | 3 Story | Row Inside    | Very Good     | Good      | Common Brick | Built Up   | Hardwood | 2        | 4          | 24      | 1680     | 2018-07-22 18:01:43 | Residential | nan       | nan        | 1746 SWANN STREET NW         | WASHINGTON | DC    | 20009   | 18S UJ 23067 09289 | 38.9147  | -77.0408  | Old City 2      | 040 D Old City 2   | 4201         | 004201 2006  | Ward 2 | 152    | -77.0404 | 38.9149 | NW\n",
       "2          | 3      | 1         | Hot Water Rad | Y    | 2         | 9     | 5     | 1910 | 2009    | 1984 | 3       | 2016-06-21 00:00:00 | 2.1e+06   | Q         | 3        | 2522 | 1        | 3 Story | Row Inside    | Very Good     | Very Good | Common Brick | Built Up   | Hardwood | 2        | 4          | 24      | 1680     | 2018-07-22 18:01:43 | Residential | nan       | nan        | 1744 SWANN STREET NW         | WASHINGTON | DC    | 20009   | 18S UJ 23074 09289 | 38.9147  | -77.0407  | Old City 2      | 040 D Old City 2   | 4201         | 004201 2006  | Ward 2 | 152    | -77.0404 | 38.9149 | NW\n",
       "3          | 3      | 1         | Hot Water Rad | Y    | 2         | 8     | 5     | 1900 | 2003    | 1984 | 3       | 2006-07-12 00:00:00 | 1.602e+06 | Q         | 1        | 2484 | 1        | 3 Story | Row Inside    | Very Good     | Good      | Common Brick | Built Up   | Hardwood | 2        | 3          | 24      | 1680     | 2018-07-22 18:01:43 | Residential | nan       | nan        | 1742 SWANN STREET NW         | WASHINGTON | DC    | 20009   | 18S UJ 23078 09288 | 38.9147  | -77.0406  | Old City 2      | 040 D Old City 2   | 4201         | 004201 2006  | Ward 2 | 152    | -77.0404 | 38.9149 | NW\n",
       "4          | 2      | 1         | Warm Cool     | Y    | 1         | 11    | 3     | 1913 | 2012    | 1985 | 3       | nan                 | nan       | U         | 1        | 5255 | 1        | 3 Story | Semi-Detached | Very Good     | Good      | Common Brick | Neopren    | Hardwood | 1        | 0          | 13      | 2032     | 2018-07-22 18:01:43 | Residential | nan       | nan        | 1804 NEW HAMPSHIRE AVENUE NW | WASHINGTON | DC    | 20009   | 18S UJ 23188 09253 | 38.9144  | -77.0394  | Old City 2      | 040 D Old City 2   | 4201         | 004201 2006  | Ward 2 | 152    | -77.0404 | 38.9149 | NW\n",
       "5          | 3      | 2         | Hot Water Rad | Y    | 1         | 10    | 5     | 1913 | nan     | 1972 | 4       | 2010-02-26 00:00:00 | 1.95e+06  | Q         | 1        | 5344 | 1        | 4 Story | Row Inside    | Very Good     | Good      | Common Brick | Built Up   | Hardwood | 1        | 4          | 11      | 2196     | 2018-07-22 18:01:43 | Residential | nan       | nan        | 1709 S STREET NW             | WASHINGTON | DC    | 20009   | 18S UJ 23157 09248 | 38.9143  | -77.0397  | Old City 2      | 040 D Old City 2   | 4201         | 004201 2006  | Ward 2 | 152    | -77.0404 | 38.9149 | NW\n",
       "6          | 1      | 0         | Warm Cool     | Y    | 2         | 5     | 2     | 1917 | 1988    | 1957 | 2       | 2011-05-02 00:00:00 | nan       | U         | 1        | 1260 | 1        | 2 Story | Row Inside    | Above Average | Average   | Common Brick | Metal- Sms | Hardwood | 2        | 0          | 24      | 1261     | 2018-07-22 18:01:43 | Residential | nan       | nan        | 1769 SWANN STREET NW         | WASHINGTON | DC    | 20009   | 18S UJ 23042 09323 | 38.915   | -77.0411  | Old City 2      | 040 D Old City 2   | 4201         | 004201 2005  | Ward 2 | 152    | -77.0404 | 38.9149 | NW\n",
       "7          | 3      | 1         | Hot Water Rad | Y    | 2         | 8     | 4     | 1906 | 2011    | 1972 | 3       | 2011-09-29 00:00:00 | 1.05e+06  | Q         | 1        | 2401 | 1        | 3 Story | Row Inside    | Very Good     | Average   | Common Brick | Metal- Sms | Hardwood | 2        | 1          | 24      | 1627     | 2018-07-22 18:01:43 | Residential | nan       | nan        | 1746 1/2 T STREET NW         | WASHINGTON | DC    | 20009   | 18S UJ 23124 09368 | 38.9154  | -77.0401  | Old City 2      | 040 D Old City 2   | 4201         | 004201 2005  | Ward 2 | 152    | -77.0404 | 38.9149 | NW\n",
       "8          | 3      | 1         | Warm Cool     | Y    | 2         | 7     | 3     | 1908 | 2008    | 1967 | 2       | 2018-05-03 00:00:00 | 1.43e+06  | Q         | 4        | 1488 | 1        | 2 Story | Row Inside    | Above Average | Very Good | Common Brick | Built Up   | Hardwood | 2        | 1          | 24      | 1424     | 2018-07-22 18:01:43 | Residential | nan       | nan        | 1727 SWANN STREET NW         | WASHINGTON | DC    | 20009   | 18S UJ 23142 09324 | 38.915   | -77.0399  | Old City 2      | 040 D Old City 2   | 4201         | 004201 2005  | Ward 2 | 152    | -77.0404 | 38.9149 | NW\n",
       "9          | 1      | 1         | Hot Water Rad | Y    | 1         | 6     | 2     | 1908 | 1979    | 1950 | 2       | 2008-12-05 00:00:00 | nan       | U         | 1        | 1590 | 1        | 2 Story | Row Inside    | Good Quality  | Average   | Common Brick | Built Up   | Hardwood | 1        | 0          | 11      | 1424     | 2018-07-22 18:01:43 | Residential | nan       | nan        | 1733 SWANN STREET NW         | WASHINGTON | DC    | 20009   | 18S UJ 23127 09324 | 38.915   | -77.0401  | Old City 2      | 040 D Old City 2   | 4201         | 004201 2005  | Ward 2 | 152    | -77.0404 | 38.9149 | NW\n",
       "... (158947 rows omitted)"
      ]
     },
     "execution_count": 2,
     "metadata": {},
     "output_type": "execute_result"
    }
   ],
   "source": [
    "dc"
   ]
  },
  {
   "cell_type": "code",
   "execution_count": null,
   "metadata": {},
   "outputs": [],
   "source": []
  }
 ],
 "metadata": {
  "kernelspec": {
   "display_name": "Python 3",
   "language": "python",
   "name": "python3"
  },
  "language_info": {
   "codemirror_mode": {
    "name": "ipython",
    "version": 3
   },
   "file_extension": ".py",
   "mimetype": "text/x-python",
   "name": "python",
   "nbconvert_exporter": "python",
   "pygments_lexer": "ipython3",
   "version": "3.6.5"
  }
 },
 "nbformat": 4,
 "nbformat_minor": 2
}
