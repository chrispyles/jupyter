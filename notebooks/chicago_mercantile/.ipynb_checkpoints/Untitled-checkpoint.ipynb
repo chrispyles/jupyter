{
 "cells": [
  {
   "cell_type": "code",
   "execution_count": 4,
   "metadata": {},
   "outputs": [
    {
     "data": {
      "text/html": [
       "<table border=\"1\" class=\"dataframe\">\n",
       "    <thead>\n",
       "        <tr>\n",
       "            <th>description</th>\n",
       "        </tr>\n",
       "    </thead>\n",
       "    <tbody>\n",
       "        <tr>\n",
       "            <td>For contract details, please see <a href=http://www.cmeg ...</td>\n",
       "        </tr>\n",
       "        <tr>\n",
       "            <td>For contract details, please see <a href=http://www.cmeg ...</td>\n",
       "        </tr>\n",
       "        <tr>\n",
       "            <td>For contract details, please see <a href=http://www.cmeg ...</td>\n",
       "        </tr>\n",
       "        <tr>\n",
       "            <td>For contract details, please see <a href=http://www.cmeg ...</td>\n",
       "        </tr>\n",
       "        <tr>\n",
       "            <td>For contract details, please see <a href=http://www.cmeg ...</td>\n",
       "        </tr>\n",
       "        <tr>\n",
       "            <td>For contract details, please see <a href=http://www.cmeg ...</td>\n",
       "        </tr>\n",
       "        <tr>\n",
       "            <td>For contract details, please see <a href=http://www.cmeg ...</td>\n",
       "        </tr>\n",
       "        <tr>\n",
       "            <td>For contract details, please see <a href=http://www.cmeg ...</td>\n",
       "        </tr>\n",
       "        <tr>\n",
       "            <td>For contract details, please see <a href=http://www.cmeg ...</td>\n",
       "        </tr>\n",
       "        <tr>\n",
       "            <td>For contract details, please see <a href=http://www.cmeg ...</td>\n",
       "        </tr>\n",
       "    </tbody>\n",
       "</table>\n",
       "<p>... (164469 rows omitted)</p>"
      ],
      "text/plain": [
       "description\n",
       "For contract details, please see <a href=http://www.cmeg ...\n",
       "For contract details, please see <a href=http://www.cmeg ...\n",
       "For contract details, please see <a href=http://www.cmeg ...\n",
       "For contract details, please see <a href=http://www.cmeg ...\n",
       "For contract details, please see <a href=http://www.cmeg ...\n",
       "For contract details, please see <a href=http://www.cmeg ...\n",
       "For contract details, please see <a href=http://www.cmeg ...\n",
       "For contract details, please see <a href=http://www.cmeg ...\n",
       "For contract details, please see <a href=http://www.cmeg ...\n",
       "For contract details, please see <a href=http://www.cmeg ...\n",
       "... (164469 rows omitted)"
      ]
     },
     "execution_count": 4,
     "metadata": {},
     "output_type": "execute_result"
    }
   ],
   "source": [
    "from datascience import *\n",
    "import numpy as np\n",
    "\n",
    "cme = Table.read_table('cme.csv')\n",
    "cme.select(2)"
   ]
  },
  {
   "cell_type": "code",
   "execution_count": null,
   "metadata": {},
   "outputs": [],
   "source": []
  }
 ],
 "metadata": {
  "kernelspec": {
   "display_name": "Python 3",
   "language": "python",
   "name": "python3"
  },
  "language_info": {
   "codemirror_mode": {
    "name": "ipython",
    "version": 3
   },
   "file_extension": ".py",
   "mimetype": "text/x-python",
   "name": "python",
   "nbconvert_exporter": "python",
   "pygments_lexer": "ipython3",
   "version": "3.6.5"
  }
 },
 "nbformat": 4,
 "nbformat_minor": 2
}
