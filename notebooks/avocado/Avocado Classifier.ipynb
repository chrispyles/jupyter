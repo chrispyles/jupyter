{
 "cells": [
  {
   "cell_type": "markdown",
   "metadata": {},
   "source": [
    "# Avocado Classifier\n",
    "This Jupyter Notebook contains the code that takes in a table with information about avocados (average price, total volumne, total bags) and classifies them as either `conventional` or `organic`. This classifier is a $k$-nearest neighbors classifier using the cartesian distance between the point in question and the points in the training set. The data set is from Kaggle (https://www.kaggle.com/neuromusic/avocado-prices)."
   ]
  },
  {
   "cell_type": "markdown",
   "metadata": {},
   "source": [
    "## 1. Import datascience, numpy, and the table\n",
    "The cell below imports the `datascience` and `numpy` libraries of Python, as well as opens the csv file as a `datascience` Table object."
   ]
  },
  {
   "cell_type": "code",
   "execution_count": 1,
   "metadata": {},
   "outputs": [
    {
     "data": {
      "text/html": [
       "<table border=\"1\" class=\"dataframe\">\n",
       "    <thead>\n",
       "        <tr>\n",
       "            <th>Unnamed: 0</th> <th>Date</th> <th>AveragePrice</th> <th>Total Volume</th> <th>4046</th> <th>4225</th> <th>4770</th> <th>Total Bags</th> <th>Small Bags</th> <th>Large Bags</th> <th>XLarge Bags</th> <th>type</th> <th>year</th> <th>region</th>\n",
       "        </tr>\n",
       "    </thead>\n",
       "    <tbody>\n",
       "        <tr>\n",
       "            <td>0         </td> <td>2015-12-27</td> <td>1.33        </td> <td>64236.6     </td> <td>1036.74</td> <td>54454.8</td> <td>48.16</td> <td>8696.87   </td> <td>8603.62   </td> <td>93.25     </td> <td>0          </td> <td>conventional</td> <td>2015</td> <td>Albany</td>\n",
       "        </tr>\n",
       "        <tr>\n",
       "            <td>1         </td> <td>2015-12-20</td> <td>1.35        </td> <td>54877       </td> <td>674.28 </td> <td>44638.8</td> <td>58.33</td> <td>9505.56   </td> <td>9408.07   </td> <td>97.49     </td> <td>0          </td> <td>conventional</td> <td>2015</td> <td>Albany</td>\n",
       "        </tr>\n",
       "        <tr>\n",
       "            <td>2         </td> <td>2015-12-13</td> <td>0.93        </td> <td>118220      </td> <td>794.7  </td> <td>109150 </td> <td>130.5</td> <td>8145.35   </td> <td>8042.21   </td> <td>103.14    </td> <td>0          </td> <td>conventional</td> <td>2015</td> <td>Albany</td>\n",
       "        </tr>\n",
       "        <tr>\n",
       "            <td>3         </td> <td>2015-12-06</td> <td>1.08        </td> <td>78992.1     </td> <td>1132   </td> <td>71976.4</td> <td>72.58</td> <td>5811.16   </td> <td>5677.4    </td> <td>133.76    </td> <td>0          </td> <td>conventional</td> <td>2015</td> <td>Albany</td>\n",
       "        </tr>\n",
       "        <tr>\n",
       "            <td>4         </td> <td>2015-11-29</td> <td>1.28        </td> <td>51039.6     </td> <td>941.48 </td> <td>43838.4</td> <td>75.78</td> <td>6183.95   </td> <td>5986.26   </td> <td>197.69    </td> <td>0          </td> <td>conventional</td> <td>2015</td> <td>Albany</td>\n",
       "        </tr>\n",
       "        <tr>\n",
       "            <td>5         </td> <td>2015-11-22</td> <td>1.26        </td> <td>55979.8     </td> <td>1184.27</td> <td>48068  </td> <td>43.61</td> <td>6683.91   </td> <td>6556.47   </td> <td>127.44    </td> <td>0          </td> <td>conventional</td> <td>2015</td> <td>Albany</td>\n",
       "        </tr>\n",
       "        <tr>\n",
       "            <td>6         </td> <td>2015-11-15</td> <td>0.99        </td> <td>83453.8     </td> <td>1368.92</td> <td>73672.7</td> <td>93.26</td> <td>8318.86   </td> <td>8196.81   </td> <td>122.05    </td> <td>0          </td> <td>conventional</td> <td>2015</td> <td>Albany</td>\n",
       "        </tr>\n",
       "        <tr>\n",
       "            <td>7         </td> <td>2015-11-08</td> <td>0.98        </td> <td>109428      </td> <td>703.75 </td> <td>101815 </td> <td>80   </td> <td>6829.22   </td> <td>6266.85   </td> <td>562.37    </td> <td>0          </td> <td>conventional</td> <td>2015</td> <td>Albany</td>\n",
       "        </tr>\n",
       "        <tr>\n",
       "            <td>8         </td> <td>2015-11-01</td> <td>1.02        </td> <td>99811.4     </td> <td>1022.15</td> <td>87315.6</td> <td>85.34</td> <td>11388.4   </td> <td>11104.5   </td> <td>283.83    </td> <td>0          </td> <td>conventional</td> <td>2015</td> <td>Albany</td>\n",
       "        </tr>\n",
       "        <tr>\n",
       "            <td>9         </td> <td>2015-10-25</td> <td>1.07        </td> <td>74338.8     </td> <td>842.4  </td> <td>64757.4</td> <td>113  </td> <td>8625.92   </td> <td>8061.47   </td> <td>564.45    </td> <td>0          </td> <td>conventional</td> <td>2015</td> <td>Albany</td>\n",
       "        </tr>\n",
       "    </tbody>\n",
       "</table>\n",
       "<p>... (18239 rows omitted)</p>"
      ],
      "text/plain": [
       "Unnamed: 0 | Date       | AveragePrice | Total Volume | 4046    | 4225    | 4770  | Total Bags | Small Bags | Large Bags | XLarge Bags | type         | year | region\n",
       "0          | 2015-12-27 | 1.33         | 64236.6      | 1036.74 | 54454.8 | 48.16 | 8696.87    | 8603.62    | 93.25      | 0           | conventional | 2015 | Albany\n",
       "1          | 2015-12-20 | 1.35         | 54877        | 674.28  | 44638.8 | 58.33 | 9505.56    | 9408.07    | 97.49      | 0           | conventional | 2015 | Albany\n",
       "2          | 2015-12-13 | 0.93         | 118220       | 794.7   | 109150  | 130.5 | 8145.35    | 8042.21    | 103.14     | 0           | conventional | 2015 | Albany\n",
       "3          | 2015-12-06 | 1.08         | 78992.1      | 1132    | 71976.4 | 72.58 | 5811.16    | 5677.4     | 133.76     | 0           | conventional | 2015 | Albany\n",
       "4          | 2015-11-29 | 1.28         | 51039.6      | 941.48  | 43838.4 | 75.78 | 6183.95    | 5986.26    | 197.69     | 0           | conventional | 2015 | Albany\n",
       "5          | 2015-11-22 | 1.26         | 55979.8      | 1184.27 | 48068   | 43.61 | 6683.91    | 6556.47    | 127.44     | 0           | conventional | 2015 | Albany\n",
       "6          | 2015-11-15 | 0.99         | 83453.8      | 1368.92 | 73672.7 | 93.26 | 8318.86    | 8196.81    | 122.05     | 0           | conventional | 2015 | Albany\n",
       "7          | 2015-11-08 | 0.98         | 109428       | 703.75  | 101815  | 80    | 6829.22    | 6266.85    | 562.37     | 0           | conventional | 2015 | Albany\n",
       "8          | 2015-11-01 | 1.02         | 99811.4      | 1022.15 | 87315.6 | 85.34 | 11388.4    | 11104.5    | 283.83     | 0           | conventional | 2015 | Albany\n",
       "9          | 2015-10-25 | 1.07         | 74338.8      | 842.4   | 64757.4 | 113   | 8625.92    | 8061.47    | 564.45     | 0           | conventional | 2015 | Albany\n",
       "... (18239 rows omitted)"
      ]
     },
     "execution_count": 1,
     "metadata": {},
     "output_type": "execute_result"
    }
   ],
   "source": [
    "from datascience import *\n",
    "import numpy as np\n",
    "\n",
    "avocado = Table.read_table('avocado.csv')\n",
    "avocado"
   ]
  },
  {
   "cell_type": "markdown",
   "metadata": {},
   "source": [
    "## 2. Divide the Kaggle data set into the training and test sets\n",
    "This cell selects the 4 columns we will use from the original table (three data point columns and the type column) and shuffles the rows of the csv file and separates them into a training set, to which the avocado to be classified will be compared, and a test set, to test the accuracy of the classifer once it is built. The test set will retain its `type` column so that we know what proportion of avocados the classifier gets correct. The training set has 18,000 rows and the test set has 249."
   ]
  },
  {
   "cell_type": "code",
   "execution_count": 2,
   "metadata": {},
   "outputs": [
    {
     "data": {
      "text/html": [
       "<table border=\"1\" class=\"dataframe\">\n",
       "    <thead>\n",
       "        <tr>\n",
       "            <th>AveragePrice</th> <th>Total Volume</th> <th>Total Bags</th> <th>type</th>\n",
       "        </tr>\n",
       "    </thead>\n",
       "    <tbody>\n",
       "        <tr>\n",
       "            <td>1.06        </td> <td>15669.8     </td> <td>11247.1    </td> <td>organic     </td>\n",
       "        </tr>\n",
       "        <tr>\n",
       "            <td>0.92        </td> <td>844690      </td> <td>409948     </td> <td>conventional</td>\n",
       "        </tr>\n",
       "        <tr>\n",
       "            <td>1.11        </td> <td>128079      </td> <td>80410.8    </td> <td>organic     </td>\n",
       "        </tr>\n",
       "        <tr>\n",
       "            <td>1.11        </td> <td>140981      </td> <td>36725.7    </td> <td>conventional</td>\n",
       "        </tr>\n",
       "        <tr>\n",
       "            <td>1.01        </td> <td>3.03333e+06 </td> <td>1.15638e+06</td> <td>conventional</td>\n",
       "        </tr>\n",
       "        <tr>\n",
       "            <td>0.96        </td> <td>128078      </td> <td>20393.6    </td> <td>conventional</td>\n",
       "        </tr>\n",
       "        <tr>\n",
       "            <td>1.55        </td> <td>28095       </td> <td>6.18       </td> <td>organic     </td>\n",
       "        </tr>\n",
       "        <tr>\n",
       "            <td>1.01        </td> <td>171880      </td> <td>34792.9    </td> <td>conventional</td>\n",
       "        </tr>\n",
       "        <tr>\n",
       "            <td>1.37        </td> <td>178200      </td> <td>48896.9    </td> <td>conventional</td>\n",
       "        </tr>\n",
       "        <tr>\n",
       "            <td>1.23        </td> <td>413224      </td> <td>127142     </td> <td>conventional</td>\n",
       "        </tr>\n",
       "    </tbody>\n",
       "</table>\n",
       "<p>... (18239 rows omitted)</p>"
      ],
      "text/plain": [
       "AveragePrice | Total Volume | Total Bags  | type\n",
       "1.06         | 15669.8      | 11247.1     | organic\n",
       "0.92         | 844690       | 409948      | conventional\n",
       "1.11         | 128079       | 80410.8     | organic\n",
       "1.11         | 140981       | 36725.7     | conventional\n",
       "1.01         | 3.03333e+06  | 1.15638e+06 | conventional\n",
       "0.96         | 128078       | 20393.6     | conventional\n",
       "1.55         | 28095        | 6.18        | organic\n",
       "1.01         | 171880       | 34792.9     | conventional\n",
       "1.37         | 178200       | 48896.9     | conventional\n",
       "1.23         | 413224       | 127142      | conventional\n",
       "... (18239 rows omitted)"
      ]
     },
     "execution_count": 2,
     "metadata": {},
     "output_type": "execute_result"
    }
   ],
   "source": [
    "av = avocado.select('AveragePrice', 'Total Volume', 'Total Bags', 'type')\n",
    "av = av.sample(with_replacement=False)\n",
    "av_train = av.take(np.arange(18000))\n",
    "av_test = av.take(np.arange(18000, 18249))\n",
    "av"
   ]
  },
  {
   "cell_type": "markdown",
   "metadata": {},
   "source": [
    "## 3. Define a function to find the cartesian distances\n",
    "In this section, I will define a function that finds the 3-dimensional cartesian distant between two points. This is an application of the Pythagorean Theorem. The distance between two points $(x_1, y_1, z_1)$ and $(x_2, y_2, z_2)$ is\n",
    "\n",
    "$$d = \\sqrt{(x_2-x_1)^2 + (y_2-y_1)^2 + (z_2-z_1)^2}$$\n",
    "\n",
    "The function defined takes as arguments a table whose first 3 columns are data points and an array containing the corresponding values for the point that is being compared. It returns the table with a new column that has the distance between each row in the table and the point in the array."
   ]
  },
  {
   "cell_type": "code",
   "execution_count": 3,
   "metadata": {},
   "outputs": [],
   "source": [
    "def dist(t, arr):\n",
    "    '''Takes in a table where the 1st 3 columns are the numerical data\n",
    "    and returns the cartesian distance from an array with coincident values'''\n",
    "    dists = make_array()\n",
    "    for i in np.arange(t.num_rows):\n",
    "        dist = np.sqrt((t.column(0).item(i) - arr.item(0)) ** 2 + (t.column(1).item(i) - arr.item(1)) ** 2 + (t.column(2).item(i) - arr.item(2)) ** 2)\n",
    "        dists = np.append(dists, dist)\n",
    "    return t.with_column('distances', dists)"
   ]
  },
  {
   "cell_type": "code",
   "execution_count": 4,
   "metadata": {},
   "outputs": [
    {
     "data": {
      "text/html": [
       "<table border=\"1\" class=\"dataframe\">\n",
       "    <thead>\n",
       "        <tr>\n",
       "            <th>AveragePrice</th> <th>Total Volume</th> <th>Total Bags</th> <th>type</th> <th>distances</th>\n",
       "        </tr>\n",
       "    </thead>\n",
       "    <tbody>\n",
       "        <tr>\n",
       "            <td>1.06        </td> <td>15669.8     </td> <td>11247.1    </td> <td>organic     </td> <td>21378.2    </td>\n",
       "        </tr>\n",
       "        <tr>\n",
       "            <td>0.92        </td> <td>844690      </td> <td>409948     </td> <td>conventional</td> <td>898691     </td>\n",
       "        </tr>\n",
       "        <tr>\n",
       "            <td>1.11        </td> <td>128079      </td> <td>80410.8    </td> <td>organic     </td> <td>111238     </td>\n",
       "        </tr>\n",
       "        <tr>\n",
       "            <td>1.11        </td> <td>140981      </td> <td>36725.7    </td> <td>conventional</td> <td>106705     </td>\n",
       "        </tr>\n",
       "        <tr>\n",
       "            <td>1.01        </td> <td>3.03333e+06 </td> <td>1.15638e+06</td> <td>conventional</td> <td>3.20627e+06</td>\n",
       "        </tr>\n",
       "        <tr>\n",
       "            <td>0.96        </td> <td>128078      </td> <td>20393.6    </td> <td>conventional</td> <td>92197.2    </td>\n",
       "        </tr>\n",
       "        <tr>\n",
       "            <td>1.55        </td> <td>28095       </td> <td>6.18       </td> <td>organic     </td> <td>19739.1    </td>\n",
       "        </tr>\n",
       "        <tr>\n",
       "            <td>1.01        </td> <td>171880      </td> <td>34792.9    </td> <td>conventional</td> <td>136988     </td>\n",
       "        </tr>\n",
       "        <tr>\n",
       "            <td>1.37        </td> <td>178200      </td> <td>48896.9    </td> <td>conventional</td> <td>145579     </td>\n",
       "        </tr>\n",
       "        <tr>\n",
       "            <td>1.23        </td> <td>413224      </td> <td>127142     </td> <td>conventional</td> <td>392747     </td>\n",
       "        </tr>\n",
       "    </tbody>\n",
       "</table>\n",
       "<p>... (17990 rows omitted)</p>"
      ],
      "text/plain": [
       "AveragePrice | Total Volume | Total Bags  | type         | distances\n",
       "1.06         | 15669.8      | 11247.1     | organic      | 21378.2\n",
       "0.92         | 844690       | 409948      | conventional | 898691\n",
       "1.11         | 128079       | 80410.8     | organic      | 111238\n",
       "1.11         | 140981       | 36725.7     | conventional | 106705\n",
       "1.01         | 3.03333e+06  | 1.15638e+06 | conventional | 3.20627e+06\n",
       "0.96         | 128078       | 20393.6     | conventional | 92197.2\n",
       "1.55         | 28095        | 6.18        | organic      | 19739.1\n",
       "1.01         | 171880       | 34792.9     | conventional | 136988\n",
       "1.37         | 178200       | 48896.9     | conventional | 145579\n",
       "1.23         | 413224       | 127142      | conventional | 392747\n",
       "... (17990 rows omitted)"
      ]
     },
     "execution_count": 4,
     "metadata": {},
     "output_type": "execute_result"
    }
   ],
   "source": [
    "dist(av_train, np.array(av_test.drop('type').row(0)))"
   ]
  },
  {
   "cell_type": "markdown",
   "metadata": {},
   "source": [
    "## 4. Define a function to find the majority classification\n",
    "$k$-NN classifiers work by determining what classification a majority of the $k$ points closest to a point in question have. The function `find_majority` defined below runs the `dist` function on a table and returns that output sorted by increasing distance. The function `knn` below that selects the top $k$ rows and returns the majority classification."
   ]
  },
  {
   "cell_type": "code",
   "execution_count": 5,
   "metadata": {},
   "outputs": [
    {
     "data": {
      "text/html": [
       "<table border=\"1\" class=\"dataframe\">\n",
       "    <thead>\n",
       "        <tr>\n",
       "            <th>AveragePrice</th> <th>Total Volume</th> <th>Total Bags</th> <th>type</th> <th>distances</th>\n",
       "        </tr>\n",
       "    </thead>\n",
       "    <tbody>\n",
       "        <tr>\n",
       "            <td>1.93        </td> <td>35248.5     </td> <td>18306.9   </td> <td>organic</td> <td>682.81   </td>\n",
       "        </tr>\n",
       "        <tr>\n",
       "            <td>1.67        </td> <td>36469.4     </td> <td>17619.4   </td> <td>organic</td> <td>760.185  </td>\n",
       "        </tr>\n",
       "        <tr>\n",
       "            <td>1.75        </td> <td>36529.1     </td> <td>17569.9   </td> <td>organic</td> <td>837.672  </td>\n",
       "        </tr>\n",
       "        <tr>\n",
       "            <td>1.43        </td> <td>36082.4     </td> <td>17277.1   </td> <td>organic</td> <td>873.174  </td>\n",
       "        </tr>\n",
       "        <tr>\n",
       "            <td>2.41        </td> <td>35543.1     </td> <td>18989.7   </td> <td>organic</td> <td>931.654  </td>\n",
       "        </tr>\n",
       "        <tr>\n",
       "            <td>1.44        </td> <td>34888.7     </td> <td>18444.9   </td> <td>organic</td> <td>1066.79  </td>\n",
       "        </tr>\n",
       "        <tr>\n",
       "            <td>1.51        </td> <td>36396.9     </td> <td>17144.6   </td> <td>organic</td> <td>1102.24  </td>\n",
       "        </tr>\n",
       "        <tr>\n",
       "            <td>1.3         </td> <td>35447.5     </td> <td>16815.3   </td> <td>organic</td> <td>1395.94  </td>\n",
       "        </tr>\n",
       "        <tr>\n",
       "            <td>0.98        </td> <td>34903.1     </td> <td>19193     </td> <td>organic</td> <td>1461.26  </td>\n",
       "        </tr>\n",
       "        <tr>\n",
       "            <td>2.03        </td> <td>36228.4     </td> <td>16701.5   </td> <td>organic</td> <td>1466.61  </td>\n",
       "        </tr>\n",
       "    </tbody>\n",
       "</table>\n",
       "<p>... (17990 rows omitted)</p>"
      ],
      "text/plain": [
       "AveragePrice | Total Volume | Total Bags | type    | distances\n",
       "1.93         | 35248.5      | 18306.9    | organic | 682.81\n",
       "1.67         | 36469.4      | 17619.4    | organic | 760.185\n",
       "1.75         | 36529.1      | 17569.9    | organic | 837.672\n",
       "1.43         | 36082.4      | 17277.1    | organic | 873.174\n",
       "2.41         | 35543.1      | 18989.7    | organic | 931.654\n",
       "1.44         | 34888.7      | 18444.9    | organic | 1066.79\n",
       "1.51         | 36396.9      | 17144.6    | organic | 1102.24\n",
       "1.3          | 35447.5      | 16815.3    | organic | 1395.94\n",
       "0.98         | 34903.1      | 19193      | organic | 1461.26\n",
       "2.03         | 36228.4      | 16701.5    | organic | 1466.61\n",
       "... (17990 rows omitted)"
      ]
     },
     "execution_count": 5,
     "metadata": {},
     "output_type": "execute_result"
    }
   ],
   "source": [
    "def find_majority(t, t2, row_index):\n",
    "    '''Takes in training table (t), test table (t2), and row index of test\n",
    "    table value (row_index) and computes the cartesian distance then\n",
    "    returns the training table sorted by incrasing distance'''\n",
    "    test = np.array(t2.drop('type').row(row_index))\n",
    "    d = dist(t, test)\n",
    "    return d.sort('distances')\n",
    "\n",
    "find_majority(av_train, av_test, 0)"
   ]
  },
  {
   "cell_type": "code",
   "execution_count": 6,
   "metadata": {},
   "outputs": [],
   "source": [
    "def knn(t, t2, row, k):\n",
    "    test = np.array(t2.drop('type').row(row))\n",
    "    sort = find_majority(t, t2, row)\n",
    "    tbl = sort.take(np.arange(k)).group('type').sort(1, descending=True)\n",
    "    return tbl.column(0).item(0)"
   ]
  },
  {
   "cell_type": "code",
   "execution_count": 7,
   "metadata": {},
   "outputs": [
    {
     "data": {
      "text/plain": [
       "'organic'"
      ]
     },
     "execution_count": 7,
     "metadata": {},
     "output_type": "execute_result"
    }
   ],
   "source": [
    "knn(av_train, av_test, 0, 7)"
   ]
  },
  {
   "cell_type": "markdown",
   "metadata": {},
   "source": [
    "## 5. Test the accuracy of the 7-NN classifier\n",
    "For an example, I will text how accurate the 7-nearest neighbors classifer is. The `test_accuracy` function defined below runs the classifier on all rows of the `av_test` table (the entire test set), and then returns the proportion of rows that were correctly classified."
   ]
  },
  {
   "cell_type": "code",
   "execution_count": 8,
   "metadata": {},
   "outputs": [],
   "source": [
    "def test_accuracy(train, test, k):\n",
    "    '''Returns proportion of correct classifications from avocado classifier'''\n",
    "    classed = make_array()\n",
    "    for i in np.arange(test.num_rows):\n",
    "        cl = knn(train, test, i, k)\n",
    "        classed = np.append(classed, cl)\n",
    "    \n",
    "    classed_test = test.with_column('k-NN Class', classed)\n",
    "    return np.count_nonzero(classed_test.column('k-NN Class') == classed_test.column('type')) / classed_test.num_rows"
   ]
  },
  {
   "cell_type": "code",
   "execution_count": 9,
   "metadata": {
    "scrolled": true
   },
   "outputs": [
    {
     "data": {
      "text/plain": [
       "0.9477911646586346"
      ]
     },
     "execution_count": 9,
     "metadata": {},
     "output_type": "execute_result"
    }
   ],
   "source": [
    "test_accuracy(av_train, av_test, 7)"
   ]
  },
  {
   "cell_type": "markdown",
   "metadata": {},
   "source": [
    "## 6. Determining the optimal value of $k$\n",
    "In order to determine how many nearest neigbors would be best to run on a random avocado, this second determines the optimal value of $k$ based on the training set. It will run through the classifier for odd integer values 1 through 99, and return a table with the accuracy of each value."
   ]
  },
  {
   "cell_type": "code",
   "execution_count": 11,
   "metadata": {},
   "outputs": [
    {
     "data": {
      "text/html": [
       "<table border=\"1\" class=\"dataframe\">\n",
       "    <thead>\n",
       "        <tr>\n",
       "            <th>k</th> <th>Accuracy</th>\n",
       "        </tr>\n",
       "    </thead>\n",
       "    <tbody>\n",
       "        <tr>\n",
       "            <td>49  </td> <td>0.947791</td>\n",
       "        </tr>\n",
       "        <tr>\n",
       "            <td>13  </td> <td>0.947791</td>\n",
       "        </tr>\n",
       "        <tr>\n",
       "            <td>7   </td> <td>0.947791</td>\n",
       "        </tr>\n",
       "        <tr>\n",
       "            <td>93  </td> <td>0.943775</td>\n",
       "        </tr>\n",
       "        <tr>\n",
       "            <td>89  </td> <td>0.943775</td>\n",
       "        </tr>\n",
       "        <tr>\n",
       "            <td>87  </td> <td>0.943775</td>\n",
       "        </tr>\n",
       "        <tr>\n",
       "            <td>69  </td> <td>0.943775</td>\n",
       "        </tr>\n",
       "        <tr>\n",
       "            <td>67  </td> <td>0.943775</td>\n",
       "        </tr>\n",
       "        <tr>\n",
       "            <td>65  </td> <td>0.943775</td>\n",
       "        </tr>\n",
       "        <tr>\n",
       "            <td>63  </td> <td>0.943775</td>\n",
       "        </tr>\n",
       "    </tbody>\n",
       "</table>\n",
       "<p>... (40 rows omitted)</p>"
      ],
      "text/plain": [
       "k    | Accuracy\n",
       "49   | 0.947791\n",
       "13   | 0.947791\n",
       "7    | 0.947791\n",
       "93   | 0.943775\n",
       "89   | 0.943775\n",
       "87   | 0.943775\n",
       "69   | 0.943775\n",
       "67   | 0.943775\n",
       "65   | 0.943775\n",
       "63   | 0.943775\n",
       "... (40 rows omitted)"
      ]
     },
     "execution_count": 11,
     "metadata": {},
     "output_type": "execute_result"
    }
   ],
   "source": [
    "results = make_array()\n",
    "for i in np.arange(1, 100, 2):\n",
    "    result = test_accuracy(av_train, av_test, i)\n",
    "    results = np.append(results, result)\n",
    "    \n",
    "optimal_k = Table().with_columns(\n",
    "    'k', np.arange(1, 100, 2),\n",
    "    'Accuracy', results\n",
    ")\n",
    "optimal_k.sort('Accuracy', descending=True)"
   ]
  },
  {
   "cell_type": "markdown",
   "metadata": {},
   "source": [
    "Based on the table above, it seems that using 7, 13, or 49 for $k$ are all equally as accurate (with minor, neglible differences, presumably). "
   ]
  }
 ],
 "metadata": {
  "kernelspec": {
   "display_name": "Python 3",
   "language": "python",
   "name": "python3"
  },
  "language_info": {
   "codemirror_mode": {
    "name": "ipython",
    "version": 3
   },
   "file_extension": ".py",
   "mimetype": "text/x-python",
   "name": "python",
   "nbconvert_exporter": "python",
   "pygments_lexer": "ipython3",
   "version": "3.6.5"
  }
 },
 "nbformat": 4,
 "nbformat_minor": 2
}
