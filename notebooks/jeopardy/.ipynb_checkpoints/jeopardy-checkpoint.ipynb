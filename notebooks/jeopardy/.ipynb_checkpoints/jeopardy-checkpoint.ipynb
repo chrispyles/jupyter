{
 "cells": [
  {
   "cell_type": "code",
   "execution_count": 16,
   "metadata": {},
   "outputs": [],
   "source": [
    "from datascience import *\n",
    "import numpy as np"
   ]
  },
  {
   "cell_type": "code",
   "execution_count": 65,
   "metadata": {},
   "outputs": [],
   "source": [
    "def categories(arr, dj=False):\n",
    "    t = Table()\n",
    "    if not dj:\n",
    "        for i in np.arange(len(arr)):\n",
    "            t = t.with_column(arr.item(i), np.arange(200, 1001, 200))\n",
    "    else:\n",
    "        for i in np.arange(len(arr)):\n",
    "            t = t.with_column(arr.item(i), np.arange(400, 2001, 400))\n",
    "    return t"
   ]
  },
  {
   "cell_type": "code",
   "execution_count": 69,
   "metadata": {},
   "outputs": [
    {
     "data": {
      "text/html": [
       "<table border=\"1\" class=\"dataframe\">\n",
       "    <thead>\n",
       "        <tr>\n",
       "            <th>Cat A</th> <th>Cat B</th> <th>Cat C</th>\n",
       "        </tr>\n",
       "    </thead>\n",
       "    <tbody>\n",
       "        <tr>\n",
       "            <td>400  </td> <td>400  </td> <td>400  </td>\n",
       "        </tr>\n",
       "        <tr>\n",
       "            <td>800  </td> <td>800  </td> <td>800  </td>\n",
       "        </tr>\n",
       "        <tr>\n",
       "            <td>1200 </td> <td>1200 </td> <td>1200 </td>\n",
       "        </tr>\n",
       "        <tr>\n",
       "            <td>1600 </td> <td>1600 </td> <td>1600 </td>\n",
       "        </tr>\n",
       "        <tr>\n",
       "            <td>2000 </td> <td>2000 </td> <td>2000 </td>\n",
       "        </tr>\n",
       "    </tbody>\n",
       "</table>"
      ],
      "text/plain": [
       "Cat A | Cat B | Cat C\n",
       "400   | 400   | 400\n",
       "800   | 800   | 800\n",
       "1200  | 1200  | 1200\n",
       "1600  | 1600  | 1600\n",
       "2000  | 2000  | 2000"
      ]
     },
     "execution_count": 69,
     "metadata": {},
     "output_type": "execute_result"
    }
   ],
   "source": [
    "cat = make_array('Cat A', 'Cat B', 'Cat C')\n",
    "cats= categories(cat)\n",
    "cats\n",
    "cats2 = categories(cat, dj=True)\n",
    "cats2"
   ]
  },
  {
   "cell_type": "code",
   "execution_count": 6,
   "metadata": {},
   "outputs": [
    {
     "data": {
      "text/plain": [
       "array([0, 1, 3, 3, 4, 5, 6, 7, 8, 9])"
      ]
     },
     "execution_count": 6,
     "metadata": {},
     "output_type": "execute_result"
    }
   ],
   "source": [
    "a = np.arange(10)\n",
    "a[2] = 3\n",
    "a\n",
    "\n"
   ]
  },
  {
   "cell_type": "code",
   "execution_count": 22,
   "metadata": {},
   "outputs": [
    {
     "data": {
      "text/html": [
       "<table border=\"1\" class=\"dataframe\">\n",
       "    <thead>\n",
       "        <tr>\n",
       "            <th>price</th> <th>Cat A</th> <th>Cat B</th> <th>Cat C</th>\n",
       "        </tr>\n",
       "    </thead>\n",
       "    <tbody>\n",
       "        <tr>\n",
       "            <td>200  </td> <td>0    </td> <td>0    </td> <td>0    </td>\n",
       "        </tr>\n",
       "        <tr>\n",
       "            <td>400  </td> <td>1    </td> <td>1    </td> <td>1    </td>\n",
       "        </tr>\n",
       "        <tr>\n",
       "            <td>600  </td> <td>3    </td> <td>2    </td> <td>2    </td>\n",
       "        </tr>\n",
       "        <tr>\n",
       "            <td>800  </td> <td>3    </td> <td>3    </td> <td>3    </td>\n",
       "        </tr>\n",
       "        <tr>\n",
       "            <td>1000 </td> <td>4    </td> <td>4    </td> <td>4    </td>\n",
       "        </tr>\n",
       "    </tbody>\n",
       "</table>"
      ],
      "text/plain": [
       "price | Cat A | Cat B | Cat C\n",
       "200   | 0     | 0     | 0\n",
       "400   | 1     | 1     | 1\n",
       "600   | 3     | 2     | 2\n",
       "800   | 3     | 3     | 3\n",
       "1000  | 4     | 4     | 4"
      ]
     },
     "execution_count": 22,
     "metadata": {},
     "output_type": "execute_result"
    }
   ],
   "source": [
    "questions = Table().with_columns(\n",
    "    'price', np.arange(200, 1001, 200),\n",
    "    'Cat A', np.arange(5),\n",
    "    'Cat B', np.arange(5),\n",
    "    'Cat C', np.arange(5)\n",
    ")\n",
    "questions\n",
    "\n",
    "questions.column(1)[2] = 3\n",
    "questions"
   ]
  },
  {
   "cell_type": "code",
   "execution_count": 19,
   "metadata": {},
   "outputs": [
    {
     "data": {
      "text/html": [
       "<table border=\"1\" class=\"dataframe\">\n",
       "    <thead>\n",
       "        <tr>\n",
       "            <th>price</th> <th>index</th>\n",
       "        </tr>\n",
       "    </thead>\n",
       "    <tbody>\n",
       "        <tr>\n",
       "            <td>200  </td> <td>0    </td>\n",
       "        </tr>\n",
       "        <tr>\n",
       "            <td>400  </td> <td>1    </td>\n",
       "        </tr>\n",
       "        <tr>\n",
       "            <td>600  </td> <td>2    </td>\n",
       "        </tr>\n",
       "        <tr>\n",
       "            <td>800  </td> <td>3    </td>\n",
       "        </tr>\n",
       "        <tr>\n",
       "            <td>1000 </td> <td>4    </td>\n",
       "        </tr>\n",
       "    </tbody>\n",
       "</table>"
      ],
      "text/plain": [
       "price | index\n",
       "200   | 0\n",
       "400   | 1\n",
       "600   | 2\n",
       "800   | 3\n",
       "1000  | 4"
      ]
     },
     "execution_count": 19,
     "metadata": {},
     "output_type": "execute_result"
    }
   ],
   "source": [
    "dj=False\n",
    "if not dj:\n",
    "    price_indices = Table().with_columns(\n",
    "        'price', make_array(200, 400, 600, 800, 1000),\n",
    "        'index', np.arange(5)\n",
    "    )\n",
    "price_indices"
   ]
  },
  {
   "cell_type": "code",
   "execution_count": 63,
   "metadata": {},
   "outputs": [],
   "source": [
    "def get_answer(qs, cats, cat, price, dj=False):\n",
    "    '''qs = a table containing a column with price and a column for each category containing questions\n",
    "    cats = a table containing the categories as column labels and the prices in the columns\n",
    "    cat = the category chosen\n",
    "    price = the price chosen\n",
    "    dj = bool; double jeopardy True or False'''\n",
    "    if not dj:\n",
    "        price_indices = Table().with_columns(\n",
    "            'price', make_array(200, 400, 600, 800, 1000),\n",
    "            'index', np.arange(5)\n",
    "        )\n",
    "        price_index = price_indices.where(0, price).column(1).item(0)\n",
    "        cats.column(cat)[price_index] = 0\n",
    "        print(qs.column(cat)[price_index])\n",
    "    else:\n",
    "        price_indices = Table().with_columns(\n",
    "            'price', np.arange(400, 2001, 400),\n",
    "            'index', np.arange(5)\n",
    "        )\n",
    "        price_index = price_indices.where(0, price).column(1).item(0)\n",
    "        cats.column(cat)[price_index] = 0\n",
    "        print(qs.column(cat)[price_index])\n",
    "    return cats"
   ]
  },
  {
   "cell_type": "code",
   "execution_count": 77,
   "metadata": {},
   "outputs": [],
   "source": [
    "def s_or_dj(dj=False):\n",
    "    if not dj:\n",
    "        return False\n",
    "    else:\n",
    "        return True\n",
    "    \n",
    "    \n",
    "def begin_jeopardy(cats_arr, )"
   ]
  },
  {
   "cell_type": "code",
   "execution_count": 79,
   "metadata": {},
   "outputs": [],
   "source": [
    "dj = begin_jeopardy()"
   ]
  },
  {
   "cell_type": "code",
   "execution_count": null,
   "metadata": {},
   "outputs": [],
   "source": [
    "# daily doubles!!!"
   ]
  },
  {
   "cell_type": "code",
   "execution_count": 83,
   "metadata": {},
   "outputs": [
    {
     "data": {
      "text/html": [
       "<table border=\"1\" class=\"dataframe\">\n",
       "    <thead>\n",
       "        <tr>\n",
       "            <th>EDGAR ALLEN POE-POURRI</th> <th>HOP ON POP CULTURE</th> <th>RINGING THE OPENING BELL AT THE NYSE</th> <th>NEBRASKA, NEW YORK OR NORTH DAKOTA</th> <th>MOTHER GOOSE</th> <th>DEPARTMENT 'S'</th>\n",
       "        </tr>\n",
       "    </thead>\n",
       "    <tbody>\n",
       "        <tr>\n",
       "            <td>200                   </td> <td>200               </td> <td>200                                 </td> <td>200                               </td> <td>200         </td> <td>200           </td>\n",
       "        </tr>\n",
       "        <tr>\n",
       "            <td>400                   </td> <td>400               </td> <td>400                                 </td> <td>400                               </td> <td>400         </td> <td>400           </td>\n",
       "        </tr>\n",
       "        <tr>\n",
       "            <td>600                   </td> <td>600               </td> <td>600                                 </td> <td>600                               </td> <td>600         </td> <td>600           </td>\n",
       "        </tr>\n",
       "        <tr>\n",
       "            <td>800                   </td> <td>800               </td> <td>800                                 </td> <td>800                               </td> <td>800         </td> <td>800           </td>\n",
       "        </tr>\n",
       "        <tr>\n",
       "            <td>1000                  </td> <td>1000              </td> <td>1000                                </td> <td>1000                              </td> <td>1000        </td> <td>1000          </td>\n",
       "        </tr>\n",
       "    </tbody>\n",
       "</table>"
      ],
      "text/plain": [
       "EDGAR ALLEN POE-POURRI | HOP ON POP CULTURE | RINGING THE OPENING BELL AT THE NYSE | NEBRASKA, NEW YORK OR NORTH DAKOTA | MOTHER GOOSE | DEPARTMENT 'S'\n",
       "200                    | 200                | 200                                  | 200                                | 200          | 200\n",
       "400                    | 400                | 400                                  | 400                                | 400          | 400\n",
       "600                    | 600                | 600                                  | 600                                | 600          | 600\n",
       "800                    | 800                | 800                                  | 800                                | 800          | 800\n",
       "1000                   | 1000               | 1000                                 | 1000                               | 1000         | 1000"
      ]
     },
     "execution_count": 83,
     "metadata": {},
     "output_type": "execute_result"
    }
   ],
   "source": [
    "cats_07_22_08 = make_array('EDGAR ALLEN POE-POURRI', 'HOP ON POP CULTURE', 'RINGING THE OPENING BELL AT THE NYSE', 'NEBRASKA, NEW YORK OR NORTH DAKOTA', 'MOTHER GOOSE', \"DEPARTMENT 'S'\")\n",
    "board = categories(cats_07_22_08)\n",
    "dj = s_or_dj()"
   ]
  },
  {
   "cell_type": "code",
   "execution_count": null,
   "metadata": {},
   "outputs": [],
   "source": []
  }
 ],
 "metadata": {
  "kernelspec": {
   "display_name": "Python 3",
   "language": "python",
   "name": "python3"
  },
  "language_info": {
   "codemirror_mode": {
    "name": "ipython",
    "version": 3
   },
   "file_extension": ".py",
   "mimetype": "text/x-python",
   "name": "python",
   "nbconvert_exporter": "python",
   "pygments_lexer": "ipython3",
   "version": "3.6.5"
  }
 },
 "nbformat": 4,
 "nbformat_minor": 2
}
