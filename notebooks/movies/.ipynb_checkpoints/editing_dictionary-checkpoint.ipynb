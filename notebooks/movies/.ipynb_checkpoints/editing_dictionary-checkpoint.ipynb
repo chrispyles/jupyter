{
 "cells": [
  {
   "cell_type": "markdown",
   "metadata": {},
   "source": [
    "## Editing `dictionary.csv`\n",
    "In order to use this file as a dictionary in [`movies.ipynb`](./movies.ipynb), I had to do some editing. First, I loaded the file into a pandas DataFrame and took the unique values of the column of words:"
   ]
  },
  {
   "cell_type": "code",
   "execution_count": 1,
   "metadata": {},
   "outputs": [],
   "source": [
    "import pandas as pd\n",
    "words = pd.read_csv('dictionary.csv')['A'].unique()"
   ]
  },
  {
   "cell_type": "markdown",
   "metadata": {},
   "source": [
    "Then, to put all of the words into lowercase and remove any words with punctuation (mostly hyphens), I used the string library and the method `str.lower()` on each entry in the array `words` (created above). Then, I put the words into a dictionary, taking out all of the words replace with the empty string `''`."
   ]
  },
  {
   "cell_type": "code",
   "execution_count": 2,
   "metadata": {},
   "outputs": [],
   "source": [
    "import string\n",
    "\n",
    "dictionary = []\n",
    "for word in words:\n",
    "    word = word.lower()\n",
    "    for c in word:\n",
    "        if c not in string.ascii_letters:\n",
    "            word = ''\n",
    "    dictionary += [word]\n",
    "\n",
    "dictionary = [word for word in dictionary if word != '']"
   ]
  },
  {
   "cell_type": "markdown",
   "metadata": {},
   "source": [
    "Finally, I exported the list by putting it into a new DataFrame, renaming the column of words to `'dictionary'`, and using the `df.to_csv()` method to export it without the row indices."
   ]
  },
  {
   "cell_type": "code",
   "execution_count": 3,
   "metadata": {},
   "outputs": [],
   "source": [
    "pd.DataFrame(dictionary).rename({0:'dictionary'}, axis=1).to_csv('dict.csv', index=False)"
   ]
  }
 ],
 "metadata": {
  "kernelspec": {
   "display_name": "Python 3",
   "language": "python",
   "name": "python3"
  },
  "language_info": {
   "codemirror_mode": {
    "name": "ipython",
    "version": 3
   },
   "file_extension": ".py",
   "mimetype": "text/x-python",
   "name": "python",
   "nbconvert_exporter": "python",
   "pygments_lexer": "ipython3",
   "version": "3.6.5"
  }
 },
 "nbformat": 4,
 "nbformat_minor": 2
}
