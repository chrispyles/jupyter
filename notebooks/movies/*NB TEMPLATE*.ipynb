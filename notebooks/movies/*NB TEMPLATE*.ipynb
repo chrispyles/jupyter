{
 "cells": [
  {
   "cell_type": "code",
   "execution_count": 1,
   "metadata": {},
   "outputs": [
    {
     "data": {
      "text/html": [
       "<table border=\"1\" class=\"dataframe\">\n",
       "    <thead>\n",
       "        <tr>\n",
       "            <th>Release Year</th> <th>Title</th> <th>Origin/Ethnicity</th> <th>Director</th> <th>Cast</th> <th>Genre</th> <th>Wiki Page</th> <th>Plot</th>\n",
       "        </tr>\n",
       "    </thead>\n",
       "    <tbody>\n",
       "        <tr>\n",
       "            <td>1901        </td> <td>Kansas Saloon Smashers          </td> <td>American        </td> <td>Unknown                           </td> <td>nan      </td> <td>unknown</td> <td>https://en.wikipedia.org/wiki/Kansas_Saloon_Smashers        </td> <td>A bartender is working at a saloon, serving drinks to cu ...</td>\n",
       "        </tr>\n",
       "        <tr>\n",
       "            <td>1901        </td> <td>Love by the Light of the Moon   </td> <td>American        </td> <td>Unknown                           </td> <td>nan      </td> <td>unknown</td> <td>https://en.wikipedia.org/wiki/Love_by_the_Light_of_the_Moon </td> <td>The moon, painted with a smiling face hangs over a park  ...</td>\n",
       "        </tr>\n",
       "        <tr>\n",
       "            <td>1901        </td> <td>The Martyred Presidents         </td> <td>American        </td> <td>Unknown                           </td> <td>nan      </td> <td>unknown</td> <td>https://en.wikipedia.org/wiki/The_Martyred_Presidents       </td> <td>The film, just over a minute long, is composed of two sh ...</td>\n",
       "        </tr>\n",
       "        <tr>\n",
       "            <td>1901        </td> <td>Terrible Teddy, the Grizzly King</td> <td>American        </td> <td>Unknown                           </td> <td>nan      </td> <td>unknown</td> <td>https://en.wikipedia.org/wiki/Terrible_Teddy,_the_Grizzl ...</td> <td>Lasting just 61 seconds and consisting of two shots, the ...</td>\n",
       "        </tr>\n",
       "        <tr>\n",
       "            <td>1902        </td> <td>Jack and the Beanstalk          </td> <td>American        </td> <td>George S. Fleming, Edwin S. Porter</td> <td>nan      </td> <td>unknown</td> <td>https://en.wikipedia.org/wiki/Jack_and_the_Beanstalk_(19 ...</td> <td>The earliest known adaptation of the classic fairytale,  ...</td>\n",
       "        </tr>\n",
       "        <tr>\n",
       "            <td>1903        </td> <td>Alice in Wonderland             </td> <td>American        </td> <td>Cecil Hepworth                    </td> <td>May Clark</td> <td>unknown</td> <td>https://en.wikipedia.org/wiki/Alice_in_Wonderland_(1903_ ...</td> <td>Alice follows a large white rabbit down a \"Rabbit-hole\". ...</td>\n",
       "        </tr>\n",
       "        <tr>\n",
       "            <td>1903        </td> <td>The Great Train Robbery         </td> <td>American        </td> <td>Edwin S. Porter                   </td> <td>nan      </td> <td>western</td> <td>https://en.wikipedia.org/wiki/The_Great_Train_Robbery_(1 ...</td> <td>The film opens with two bandits breaking into a railroad ...</td>\n",
       "        </tr>\n",
       "        <tr>\n",
       "            <td>1904        </td> <td>The Suburbanite                 </td> <td>American        </td> <td>Wallace McCutcheon                </td> <td>nan      </td> <td>comedy </td> <td>https://en.wikipedia.org/wiki/The_Suburbanite               </td> <td>The film is about a family who move to the suburbs, hopi ...</td>\n",
       "        </tr>\n",
       "        <tr>\n",
       "            <td>1905        </td> <td>The Little Train Robbery        </td> <td>American        </td> <td>Edwin Stanton Porter              </td> <td>nan      </td> <td>unknown</td> <td>https://en.wikipedia.org/wiki/The_Little_Train_Robbery      </td> <td>The opening scene shows the interior of the robbers' den ...</td>\n",
       "        </tr>\n",
       "        <tr>\n",
       "            <td>1905        </td> <td>The Night Before Christmas      </td> <td>American        </td> <td>Edwin Stanton Porter              </td> <td>nan      </td> <td>unknown</td> <td>https://en.wikipedia.org/wiki/The_Night_Before_Christmas ...</td> <td>Scenes are introduced using lines of the poem.[2] Santa  ...</td>\n",
       "        </tr>\n",
       "    </tbody>\n",
       "</table>\n",
       "<p>... (34876 rows omitted)</p>"
      ],
      "text/plain": [
       "Release Year | Title                            | Origin/Ethnicity | Director                           | Cast      | Genre   | Wiki Page                                                    | Plot\n",
       "1901         | Kansas Saloon Smashers           | American         | Unknown                            | nan       | unknown | https://en.wikipedia.org/wiki/Kansas_Saloon_Smashers         | A bartender is working at a saloon, serving drinks to cu ...\n",
       "1901         | Love by the Light of the Moon    | American         | Unknown                            | nan       | unknown | https://en.wikipedia.org/wiki/Love_by_the_Light_of_the_Moon  | The moon, painted with a smiling face hangs over a park  ...\n",
       "1901         | The Martyred Presidents          | American         | Unknown                            | nan       | unknown | https://en.wikipedia.org/wiki/The_Martyred_Presidents        | The film, just over a minute long, is composed of two sh ...\n",
       "1901         | Terrible Teddy, the Grizzly King | American         | Unknown                            | nan       | unknown | https://en.wikipedia.org/wiki/Terrible_Teddy,_the_Grizzl ... | Lasting just 61 seconds and consisting of two shots, the ...\n",
       "1902         | Jack and the Beanstalk           | American         | George S. Fleming, Edwin S. Porter | nan       | unknown | https://en.wikipedia.org/wiki/Jack_and_the_Beanstalk_(19 ... | The earliest known adaptation of the classic fairytale,  ...\n",
       "1903         | Alice in Wonderland              | American         | Cecil Hepworth                     | May Clark | unknown | https://en.wikipedia.org/wiki/Alice_in_Wonderland_(1903_ ... | Alice follows a large white rabbit down a \"Rabbit-hole\". ...\n",
       "1903         | The Great Train Robbery          | American         | Edwin S. Porter                    | nan       | western | https://en.wikipedia.org/wiki/The_Great_Train_Robbery_(1 ... | The film opens with two bandits breaking into a railroad ...\n",
       "1904         | The Suburbanite                  | American         | Wallace McCutcheon                 | nan       | comedy  | https://en.wikipedia.org/wiki/The_Suburbanite                | The film is about a family who move to the suburbs, hopi ...\n",
       "1905         | The Little Train Robbery         | American         | Edwin Stanton Porter               | nan       | unknown | https://en.wikipedia.org/wiki/The_Little_Train_Robbery       | The opening scene shows the interior of the robbers' den ...\n",
       "1905         | The Night Before Christmas       | American         | Edwin Stanton Porter               | nan       | unknown | https://en.wikipedia.org/wiki/The_Night_Before_Christmas ... | Scenes are introduced using lines of the poem.[2] Santa  ...\n",
       "... (34876 rows omitted)"
      ]
     },
     "execution_count": 1,
     "metadata": {},
     "output_type": "execute_result"
    }
   ],
   "source": [
    "from datascience import *\n",
    "import numpy as np\n",
    "\n",
    "import matplotlib\n",
    "%matplotlib inline\n",
    "import matplotlib.pyplot as plt\n",
    "plt.style.use('ggplot')\n",
    "import warnings\n",
    "warnings.simplefilter('ignore', FutureWarning)\n",
    "\n",
    "# regression functions\n",
    "def standard_units(arr):\n",
    "    return (arr - np.mean(arr)) / np.std(arr)\n",
    "\n",
    "def correlation(x, y):\n",
    "    return np.mean(standard_units(x) * standard_units(y))\n",
    "\n",
    "def slope(x, y):\n",
    "    r = correlation(x, y)\n",
    "    return r * np.std(y) / np.std(x)\n",
    "\n",
    "def intercept(x, y):\n",
    "    m = slope(x, y)\n",
    "    return np.mean(y) - m * np.mean(x)\n",
    "\n",
    "# read table\n",
    "movies = Table.read_table('movie_plots.csv')\n",
    "movies"
   ]
  },
  {
   "cell_type": "code",
   "execution_count": 2,
   "metadata": {},
   "outputs": [
    {
     "data": {
      "text/html": [
       "<table border=\"1\" class=\"dataframe\">\n",
       "    <thead>\n",
       "        <tr>\n",
       "            <th>Genre</th> <th>count</th>\n",
       "        </tr>\n",
       "    </thead>\n",
       "    <tbody>\n",
       "        <tr>\n",
       "            <td>               </td> <td>28   </td>\n",
       "        </tr>\n",
       "        <tr>\n",
       "            <td> usa           </td> <td>1    </td>\n",
       "        </tr>\n",
       "        <tr>\n",
       "            <td> usa, can      </td> <td>1    </td>\n",
       "        </tr>\n",
       "        <tr>\n",
       "            <td>-              </td> <td>3    </td>\n",
       "        </tr>\n",
       "        <tr>\n",
       "            <td>16 mm film     </td> <td>1    </td>\n",
       "        </tr>\n",
       "        <tr>\n",
       "            <td>[140]          </td> <td>1    </td>\n",
       "        </tr>\n",
       "        <tr>\n",
       "            <td>[144]          </td> <td>1    </td>\n",
       "        </tr>\n",
       "        <tr>\n",
       "            <td>action         </td> <td>1098 </td>\n",
       "        </tr>\n",
       "        <tr>\n",
       "            <td>action         </td> <td>21   </td>\n",
       "        </tr>\n",
       "        <tr>\n",
       "            <td>action & comedy</td> <td>1    </td>\n",
       "        </tr>\n",
       "    </tbody>\n",
       "</table>\n",
       "<p>... (2255 rows omitted)</p>"
      ],
      "text/plain": [
       "Genre           | count\n",
       "                | 28\n",
       " usa            | 1\n",
       " usa, can       | 1\n",
       "-               | 3\n",
       "16 mm film      | 1\n",
       "[140]           | 1\n",
       "[144]           | 1\n",
       "action          | 1098\n",
       "action          | 21\n",
       "action & comedy | 1\n",
       "... (2255 rows omitted)"
      ]
     },
     "execution_count": 2,
     "metadata": {},
     "output_type": "execute_result"
    }
   ],
   "source": [
    "movies.group('Genre')"
   ]
  },
  {
   "cell_type": "code",
   "execution_count": null,
   "metadata": {},
   "outputs": [],
   "source": []
  }
 ],
 "metadata": {
  "kernelspec": {
   "display_name": "Python 3",
   "language": "python",
   "name": "python3"
  },
  "language_info": {
   "codemirror_mode": {
    "name": "ipython",
    "version": 3
   },
   "file_extension": ".py",
   "mimetype": "text/x-python",
   "name": "python",
   "nbconvert_exporter": "python",
   "pygments_lexer": "ipython3",
   "version": "3.6.5"
  }
 },
 "nbformat": 4,
 "nbformat_minor": 2
}
