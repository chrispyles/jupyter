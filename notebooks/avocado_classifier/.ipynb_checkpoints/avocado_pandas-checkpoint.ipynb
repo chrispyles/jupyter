{
 "cells": [
  {
   "cell_type": "markdown",
   "metadata": {},
   "source": [
    "# Avocado Classifier\n",
    "This Jupyter Notebook contains the code that takes in a table with information about avocados (average price, total volumne, total bags) and classifies them as either `conventional` or `organic`. This classifier is a $k$-nearest neighbors classifier using the cartesian distance between the point in question and the points in the training set. The data set is from Kaggle (https://www.kaggle.com/neuromusic/avocado-prices)."
   ]
  },
  {
   "cell_type": "markdown",
   "metadata": {},
   "source": [
    "## 1. Import datascience, numpy, and the table\n",
    "The cell below imports the `datascience` and `numpy` libraries of Python, as well as opens the csv file as a `datascience` Table object."
   ]
  },
  {
   "cell_type": "code",
   "execution_count": 47,
   "metadata": {},
   "outputs": [
    {
     "data": {
      "text/html": [
       "<div>\n",
       "<style scoped>\n",
       "    .dataframe tbody tr th:only-of-type {\n",
       "        vertical-align: middle;\n",
       "    }\n",
       "\n",
       "    .dataframe tbody tr th {\n",
       "        vertical-align: top;\n",
       "    }\n",
       "\n",
       "    .dataframe thead th {\n",
       "        text-align: right;\n",
       "    }\n",
       "</style>\n",
       "<table border=\"1\" class=\"dataframe\">\n",
       "  <thead>\n",
       "    <tr style=\"text-align: right;\">\n",
       "      <th></th>\n",
       "      <th>Date</th>\n",
       "      <th>AveragePrice</th>\n",
       "      <th>Total Volume</th>\n",
       "      <th>4046</th>\n",
       "      <th>4225</th>\n",
       "      <th>4770</th>\n",
       "      <th>Total Bags</th>\n",
       "      <th>Small Bags</th>\n",
       "      <th>Large Bags</th>\n",
       "      <th>XLarge Bags</th>\n",
       "      <th>type</th>\n",
       "      <th>year</th>\n",
       "      <th>region</th>\n",
       "    </tr>\n",
       "  </thead>\n",
       "  <tbody>\n",
       "    <tr>\n",
       "      <th>0</th>\n",
       "      <td>2015-12-27</td>\n",
       "      <td>1.33</td>\n",
       "      <td>64236.62</td>\n",
       "      <td>1036.74</td>\n",
       "      <td>54454.85</td>\n",
       "      <td>48.16</td>\n",
       "      <td>8696.87</td>\n",
       "      <td>8603.62</td>\n",
       "      <td>93.25</td>\n",
       "      <td>0.0</td>\n",
       "      <td>conventional</td>\n",
       "      <td>2015</td>\n",
       "      <td>Albany</td>\n",
       "    </tr>\n",
       "    <tr>\n",
       "      <th>1</th>\n",
       "      <td>2015-12-20</td>\n",
       "      <td>1.35</td>\n",
       "      <td>54876.98</td>\n",
       "      <td>674.28</td>\n",
       "      <td>44638.81</td>\n",
       "      <td>58.33</td>\n",
       "      <td>9505.56</td>\n",
       "      <td>9408.07</td>\n",
       "      <td>97.49</td>\n",
       "      <td>0.0</td>\n",
       "      <td>conventional</td>\n",
       "      <td>2015</td>\n",
       "      <td>Albany</td>\n",
       "    </tr>\n",
       "    <tr>\n",
       "      <th>2</th>\n",
       "      <td>2015-12-13</td>\n",
       "      <td>0.93</td>\n",
       "      <td>118220.22</td>\n",
       "      <td>794.70</td>\n",
       "      <td>109149.67</td>\n",
       "      <td>130.50</td>\n",
       "      <td>8145.35</td>\n",
       "      <td>8042.21</td>\n",
       "      <td>103.14</td>\n",
       "      <td>0.0</td>\n",
       "      <td>conventional</td>\n",
       "      <td>2015</td>\n",
       "      <td>Albany</td>\n",
       "    </tr>\n",
       "    <tr>\n",
       "      <th>3</th>\n",
       "      <td>2015-12-06</td>\n",
       "      <td>1.08</td>\n",
       "      <td>78992.15</td>\n",
       "      <td>1132.00</td>\n",
       "      <td>71976.41</td>\n",
       "      <td>72.58</td>\n",
       "      <td>5811.16</td>\n",
       "      <td>5677.40</td>\n",
       "      <td>133.76</td>\n",
       "      <td>0.0</td>\n",
       "      <td>conventional</td>\n",
       "      <td>2015</td>\n",
       "      <td>Albany</td>\n",
       "    </tr>\n",
       "    <tr>\n",
       "      <th>4</th>\n",
       "      <td>2015-11-29</td>\n",
       "      <td>1.28</td>\n",
       "      <td>51039.60</td>\n",
       "      <td>941.48</td>\n",
       "      <td>43838.39</td>\n",
       "      <td>75.78</td>\n",
       "      <td>6183.95</td>\n",
       "      <td>5986.26</td>\n",
       "      <td>197.69</td>\n",
       "      <td>0.0</td>\n",
       "      <td>conventional</td>\n",
       "      <td>2015</td>\n",
       "      <td>Albany</td>\n",
       "    </tr>\n",
       "  </tbody>\n",
       "</table>\n",
       "</div>"
      ],
      "text/plain": [
       "         Date  AveragePrice  Total Volume     4046       4225    4770  \\\n",
       "0  2015-12-27          1.33      64236.62  1036.74   54454.85   48.16   \n",
       "1  2015-12-20          1.35      54876.98   674.28   44638.81   58.33   \n",
       "2  2015-12-13          0.93     118220.22   794.70  109149.67  130.50   \n",
       "3  2015-12-06          1.08      78992.15  1132.00   71976.41   72.58   \n",
       "4  2015-11-29          1.28      51039.60   941.48   43838.39   75.78   \n",
       "\n",
       "   Total Bags  Small Bags  Large Bags  XLarge Bags          type  year  region  \n",
       "0     8696.87     8603.62       93.25          0.0  conventional  2015  Albany  \n",
       "1     9505.56     9408.07       97.49          0.0  conventional  2015  Albany  \n",
       "2     8145.35     8042.21      103.14          0.0  conventional  2015  Albany  \n",
       "3     5811.16     5677.40      133.76          0.0  conventional  2015  Albany  \n",
       "4     6183.95     5986.26      197.69          0.0  conventional  2015  Albany  "
      ]
     },
     "execution_count": 47,
     "metadata": {},
     "output_type": "execute_result"
    }
   ],
   "source": [
    "import pandas as pd\n",
    "import numpy as np\n",
    "\n",
    "avocado = pd.read_csv('avocado.csv')\n",
    "avocado.head()"
   ]
  },
  {
   "cell_type": "markdown",
   "metadata": {},
   "source": [
    "## 2. Divide the Kaggle data set into the training and test sets\n",
    "This cell selects the 4 columns we will use from the original table (three data point columns and the type column) and shuffles the rows of the csv file and separates them into a training set, to which the avocado to be classified will be compared, and a test set, to test the accuracy of the classifer once it is built. The test set will retain its `type` column so that we know what proportion of avocados the classifier gets correct. The training set has 18,000 rows and the test set has 249."
   ]
  },
  {
   "cell_type": "code",
   "execution_count": 48,
   "metadata": {},
   "outputs": [
    {
     "data": {
      "text/plain": [
       "((18000, 4), (248, 4))"
      ]
     },
     "execution_count": 48,
     "metadata": {},
     "output_type": "execute_result"
    }
   ],
   "source": [
    "av = avocado[['AveragePrice', 'Total Volume', 'Total Bags', 'type']]\n",
    "av = av.sample(n=len(av))\n",
    "av_train = av.iloc[0:18000,]\n",
    "av_test = av.iloc[18001:,]\n",
    "av_train.shape, av_test.shape"
   ]
  },
  {
   "cell_type": "markdown",
   "metadata": {},
   "source": [
    "## 3. Define a function to find the cartesian distances\n",
    "In this section, I will define a function that finds the 3-dimensional cartesian distant between two points. This is an application of the Pythagorean Theorem. The distance between two points $(x_1, y_1, z_1)$ and $(x_2, y_2, z_2)$ is\n",
    "\n",
    "$$d = \\sqrt{(x_2-x_1)^2 + (y_2-y_1)^2 + (z_2-z_1)^2}$$\n",
    "\n",
    "The function defined takes as arguments a table whose first 3 columns are data points and an array containing the corresponding values for the point that is being compared. It returns the table with a new column that has the distance between each row in the table and the point in the array."
   ]
  },
  {
   "cell_type": "code",
   "execution_count": 53,
   "metadata": {},
   "outputs": [
    {
     "data": {
      "text/html": [
       "<div>\n",
       "<style scoped>\n",
       "    .dataframe tbody tr th:only-of-type {\n",
       "        vertical-align: middle;\n",
       "    }\n",
       "\n",
       "    .dataframe tbody tr th {\n",
       "        vertical-align: top;\n",
       "    }\n",
       "\n",
       "    .dataframe thead th {\n",
       "        text-align: right;\n",
       "    }\n",
       "</style>\n",
       "<table border=\"1\" class=\"dataframe\">\n",
       "  <thead>\n",
       "    <tr style=\"text-align: right;\">\n",
       "      <th></th>\n",
       "      <th>AveragePrice</th>\n",
       "      <th>Total Volume</th>\n",
       "      <th>Total Bags</th>\n",
       "      <th>type</th>\n",
       "      <th>distances</th>\n",
       "    </tr>\n",
       "  </thead>\n",
       "  <tbody>\n",
       "    <tr>\n",
       "      <th>1009</th>\n",
       "      <td>1.21</td>\n",
       "      <td>151883.21</td>\n",
       "      <td>40114.79</td>\n",
       "      <td>conventional</td>\n",
       "      <td>6.943036e+06</td>\n",
       "    </tr>\n",
       "    <tr>\n",
       "      <th>6240</th>\n",
       "      <td>0.94</td>\n",
       "      <td>1153699.28</td>\n",
       "      <td>314531.08</td>\n",
       "      <td>conventional</td>\n",
       "      <td>2.693700e+05</td>\n",
       "    </tr>\n",
       "    <tr>\n",
       "      <th>12918</th>\n",
       "      <td>1.31</td>\n",
       "      <td>11306.09</td>\n",
       "      <td>4808.45</td>\n",
       "      <td>organic</td>\n",
       "      <td>1.015968e+05</td>\n",
       "    </tr>\n",
       "    <tr>\n",
       "      <th>12686</th>\n",
       "      <td>1.80</td>\n",
       "      <td>1680.08</td>\n",
       "      <td>366.67</td>\n",
       "      <td>organic</td>\n",
       "      <td>2.495812e+05</td>\n",
       "    </tr>\n",
       "    <tr>\n",
       "      <th>12368</th>\n",
       "      <td>2.09</td>\n",
       "      <td>27655.20</td>\n",
       "      <td>1381.67</td>\n",
       "      <td>organic</td>\n",
       "      <td>7.859218e+04</td>\n",
       "    </tr>\n",
       "  </tbody>\n",
       "</table>\n",
       "</div>"
      ],
      "text/plain": [
       "       AveragePrice  Total Volume  Total Bags          type     distances\n",
       "1009           1.21     151883.21    40114.79  conventional  6.943036e+06\n",
       "6240           0.94    1153699.28   314531.08  conventional  2.693700e+05\n",
       "12918          1.31      11306.09     4808.45       organic  1.015968e+05\n",
       "12686          1.80       1680.08      366.67       organic  2.495812e+05\n",
       "12368          2.09      27655.20     1381.67       organic  7.859218e+04"
      ]
     },
     "execution_count": 53,
     "metadata": {},
     "output_type": "execute_result"
    }
   ],
   "source": [
    "def dist(df, arr):\n",
    "    '''Takes in a table where the 1st 3 columns are the numerical data\n",
    "    and returns the cartesian distance from an array with coincident values'''\n",
    "    \n",
    "    # turn 1st 3 columns of df into arrays\n",
    "    arr_1 = np.array(df.iloc[:,0])\n",
    "    arr_2 = np.array(df.iloc[:,1])\n",
    "    arr_3 = np.array(df.iloc[:,2])\n",
    "    \n",
    "    # iterate through 3-tuples of training set data and create array of distances\n",
    "    dists = make_array()\n",
    "    for i in zip(arr_1, arr_2, arr_3):\n",
    "        dist = np.sqrt((arr[0] - i[0])**2 + (arr[1] - i[1])**2 + (arr[2] - i[2])**2)\n",
    "        dists = np.append(dists, dist)\n",
    "        \n",
    "    new_df = df.copy()\n",
    "    new_df['distances'] = pd.Series(dists)\n",
    "        \n",
    "    return df\n",
    "\n",
    "# demonstrate dist function\n",
    "dist(av_train, av_test.iloc[0,0:3].values).head()"
   ]
  },
  {
   "cell_type": "markdown",
   "metadata": {},
   "source": [
    "## 4. Define a function to find the majority classification\n",
    "$k$-NN classifiers work by determining what classification a majority of the $k$ points closest to a point in question have. The function `find_majority` defined below runs the `dist` function on a table and returns that output sorted by increasing distance. The function `knn` below that selects the top $k$ rows and returns the majority classification."
   ]
  },
  {
   "cell_type": "code",
   "execution_count": 55,
   "metadata": {},
   "outputs": [
    {
     "data": {
      "text/html": [
       "<div>\n",
       "<style scoped>\n",
       "    .dataframe tbody tr th:only-of-type {\n",
       "        vertical-align: middle;\n",
       "    }\n",
       "\n",
       "    .dataframe tbody tr th {\n",
       "        vertical-align: top;\n",
       "    }\n",
       "\n",
       "    .dataframe thead th {\n",
       "        text-align: right;\n",
       "    }\n",
       "</style>\n",
       "<table border=\"1\" class=\"dataframe\">\n",
       "  <thead>\n",
       "    <tr style=\"text-align: right;\">\n",
       "      <th></th>\n",
       "      <th>AveragePrice</th>\n",
       "      <th>Total Volume</th>\n",
       "      <th>Total Bags</th>\n",
       "      <th>type</th>\n",
       "      <th>distances</th>\n",
       "    </tr>\n",
       "  </thead>\n",
       "  <tbody>\n",
       "    <tr>\n",
       "      <th>7882</th>\n",
       "      <td>1.79</td>\n",
       "      <td>617981.91</td>\n",
       "      <td>88193.35</td>\n",
       "      <td>conventional</td>\n",
       "      <td>1222.150551</td>\n",
       "    </tr>\n",
       "    <tr>\n",
       "      <th>9031</th>\n",
       "      <td>1.07</td>\n",
       "      <td>5278752.32</td>\n",
       "      <td>1869766.58</td>\n",
       "      <td>conventional</td>\n",
       "      <td>1721.650699</td>\n",
       "    </tr>\n",
       "    <tr>\n",
       "      <th>4903</th>\n",
       "      <td>1.34</td>\n",
       "      <td>432472.11</td>\n",
       "      <td>58195.58</td>\n",
       "      <td>conventional</td>\n",
       "      <td>1803.170747</td>\n",
       "    </tr>\n",
       "    <tr>\n",
       "      <th>10941</th>\n",
       "      <td>1.77</td>\n",
       "      <td>1427.11</td>\n",
       "      <td>592.46</td>\n",
       "      <td>organic</td>\n",
       "      <td>2379.394366</td>\n",
       "    </tr>\n",
       "    <tr>\n",
       "      <th>14417</th>\n",
       "      <td>1.08</td>\n",
       "      <td>4726.65</td>\n",
       "      <td>2881.15</td>\n",
       "      <td>organic</td>\n",
       "      <td>2381.602972</td>\n",
       "    </tr>\n",
       "  </tbody>\n",
       "</table>\n",
       "</div>"
      ],
      "text/plain": [
       "       AveragePrice  Total Volume  Total Bags          type    distances\n",
       "7882           1.79     617981.91    88193.35  conventional  1222.150551\n",
       "9031           1.07    5278752.32  1869766.58  conventional  1721.650699\n",
       "4903           1.34     432472.11    58195.58  conventional  1803.170747\n",
       "10941          1.77       1427.11      592.46       organic  2379.394366\n",
       "14417          1.08       4726.65     2881.15       organic  2381.602972"
      ]
     },
     "execution_count": 55,
     "metadata": {},
     "output_type": "execute_result"
    }
   ],
   "source": [
    "def find_majority(df_train, df_test, row_index):\n",
    "    '''Takes in training table (t), test table (t2), and row index of test\n",
    "    table value (row_index) and computes the cartesian distance then\n",
    "    returns the training table sorted by incrasing distance'''\n",
    "    test = df_test.iloc[row_index,:3]\n",
    "    d = dist(df_train, test)\n",
    "    return d.sort_values('distances')\n",
    "\n",
    "find_majority(av_train, av_test, 0).head()"
   ]
  },
  {
   "cell_type": "code",
   "execution_count": 72,
   "metadata": {},
   "outputs": [
    {
     "data": {
      "text/plain": [
       "'conventional'"
      ]
     },
     "execution_count": 72,
     "metadata": {},
     "output_type": "execute_result"
    }
   ],
   "source": [
    "def knn(df_train, df_test, row_index, k):\n",
    "    sort = find_majority(df_train, df_test, row_index)\n",
    "    df = sort.iloc[:k,].groupby('type').count().sort_values('distances', ascending=False)\n",
    "    return df.index[0]\n",
    "\n",
    "knn(av_train, av_test, 0, 7)"
   ]
  },
  {
   "cell_type": "markdown",
   "metadata": {},
   "source": [
    "## 5. Test the accuracy of the 7-NN classifier\n",
    "For an example, I will text how accurate the 7-nearest neighbors classifer is. The `test_accuracy` function defined below runs the classifier on all rows of the `av_test` table (the entire test set), and then returns the proportion of rows that were correctly classified."
   ]
  },
  {
   "cell_type": "code",
   "execution_count": 8,
   "metadata": {},
   "outputs": [],
   "source": [
    "def test_accuracy(train, test, k):\n",
    "    '''Returns proportion of correct classifications from avocado classifier'''\n",
    "    classed = make_array()\n",
    "    for i in np.arange(test.num_rows):\n",
    "        cl = knn(train, test, i, k)\n",
    "        classed = np.append(classed, cl)\n",
    "    \n",
    "    classed_test = test.with_column('k-NN Class', classed)\n",
    "    return np.count_nonzero(classed_test.column('k-NN Class') == classed_test.column('type')) / classed_test.num_rows"
   ]
  },
  {
   "cell_type": "code",
   "execution_count": 9,
   "metadata": {
    "scrolled": true
   },
   "outputs": [
    {
     "data": {
      "text/plain": [
       "0.9477911646586346"
      ]
     },
     "execution_count": 9,
     "metadata": {},
     "output_type": "execute_result"
    }
   ],
   "source": [
    "test_accuracy(av_train, av_test, 7)"
   ]
  },
  {
   "cell_type": "markdown",
   "metadata": {},
   "source": [
    "## 6. Determining the optimal value of $k$\n",
    "In order to determine how many nearest neigbors would be best to run on a random avocado, this second determines the optimal value of $k$ based on the training set. It will run through the classifier for odd integer values 1 through 99, and return a table with the accuracy of each value."
   ]
  },
  {
   "cell_type": "code",
   "execution_count": 11,
   "metadata": {},
   "outputs": [
    {
     "data": {
      "text/html": [
       "<table border=\"1\" class=\"dataframe\">\n",
       "    <thead>\n",
       "        <tr>\n",
       "            <th>k</th> <th>Accuracy</th>\n",
       "        </tr>\n",
       "    </thead>\n",
       "    <tbody>\n",
       "        <tr>\n",
       "            <td>49  </td> <td>0.947791</td>\n",
       "        </tr>\n",
       "        <tr>\n",
       "            <td>13  </td> <td>0.947791</td>\n",
       "        </tr>\n",
       "        <tr>\n",
       "            <td>7   </td> <td>0.947791</td>\n",
       "        </tr>\n",
       "        <tr>\n",
       "            <td>93  </td> <td>0.943775</td>\n",
       "        </tr>\n",
       "        <tr>\n",
       "            <td>89  </td> <td>0.943775</td>\n",
       "        </tr>\n",
       "        <tr>\n",
       "            <td>87  </td> <td>0.943775</td>\n",
       "        </tr>\n",
       "        <tr>\n",
       "            <td>69  </td> <td>0.943775</td>\n",
       "        </tr>\n",
       "        <tr>\n",
       "            <td>67  </td> <td>0.943775</td>\n",
       "        </tr>\n",
       "        <tr>\n",
       "            <td>65  </td> <td>0.943775</td>\n",
       "        </tr>\n",
       "        <tr>\n",
       "            <td>63  </td> <td>0.943775</td>\n",
       "        </tr>\n",
       "    </tbody>\n",
       "</table>\n",
       "<p>... (40 rows omitted)</p>"
      ],
      "text/plain": [
       "k    | Accuracy\n",
       "49   | 0.947791\n",
       "13   | 0.947791\n",
       "7    | 0.947791\n",
       "93   | 0.943775\n",
       "89   | 0.943775\n",
       "87   | 0.943775\n",
       "69   | 0.943775\n",
       "67   | 0.943775\n",
       "65   | 0.943775\n",
       "63   | 0.943775\n",
       "... (40 rows omitted)"
      ]
     },
     "execution_count": 11,
     "metadata": {},
     "output_type": "execute_result"
    }
   ],
   "source": [
    "results = make_array()\n",
    "for i in np.arange(1, 100, 2):\n",
    "    result = test_accuracy(av_train, av_test, i)\n",
    "    results = np.append(results, result)\n",
    "    \n",
    "optimal_k = Table().with_columns(\n",
    "    'k', np.arange(1, 100, 2),\n",
    "    'Accuracy', results\n",
    ")\n",
    "optimal_k.sort('Accuracy', descending=True)"
   ]
  },
  {
   "cell_type": "markdown",
   "metadata": {},
   "source": [
    "Based on the table above, it seems that using 7, 13, or 49 for $k$ are all equally as accurate (with minor, neglible differences, presumably). "
   ]
  }
 ],
 "metadata": {
  "kernelspec": {
   "display_name": "Python 3",
   "language": "python",
   "name": "python3"
  },
  "language_info": {
   "codemirror_mode": {
    "name": "ipython",
    "version": 3
   },
   "file_extension": ".py",
   "mimetype": "text/x-python",
   "name": "python",
   "nbconvert_exporter": "python",
   "pygments_lexer": "ipython3",
   "version": "3.6.5"
  }
 },
 "nbformat": 4,
 "nbformat_minor": 2
}
