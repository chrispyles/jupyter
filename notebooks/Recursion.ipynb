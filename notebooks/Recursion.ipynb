{
 "cells": [
  {
   "cell_type": "code",
   "execution_count": 9,
   "metadata": {},
   "outputs": [],
   "source": [
    "def fibonacci(n):\n",
    "    '''Returns the nth Fibonacci number, where n >= 0'''\n",
    "    if n == 0:\n",
    "        return 0\n",
    "    elif n == 1:\n",
    "        return 1\n",
    "    return fibonacci(n-1) + fibonacci(n-2)"
   ]
  },
  {
   "cell_type": "code",
   "execution_count": 51,
   "metadata": {},
   "outputs": [],
   "source": [
    "def iremove(x, s):\n",
    "    '''Iteratively removes first instance of an item from a list s'''\n",
    "    for i in range(len(s)):\n",
    "        if x == s[i]:\n",
    "            return s[:i] + s[i+1:]\n",
    "\n",
    "def rsort(s):\n",
    "    if len(s) == 0:\n",
    "        return []\n",
    "    else:\n",
    "        minimum = rmin(s)\n",
    "        new_s = iremove(minimum, s)\n",
    "        return [minimum] + rsort(new_s)"
   ]
  },
  {
   "cell_type": "code",
   "execution_count": 52,
   "metadata": {},
   "outputs": [
    {
     "data": {
      "text/plain": [
       "[1, 1, 2, 3, 19, 29, 30, 200]"
      ]
     },
     "execution_count": 52,
     "metadata": {},
     "output_type": "execute_result"
    }
   ],
   "source": [
    "a = [3, 2, 1, 1, 19, 30, 200, 29]\n",
    "rsort(a)"
   ]
  },
  {
   "cell_type": "code",
   "execution_count": 53,
   "metadata": {},
   "outputs": [],
   "source": [
    "def rmin(s):\n",
    "    '''Recursively finds the minimum of a list of numbers s'''\n",
    "    if len(s) == 1:\n",
    "        return s[0]\n",
    "    else:\n",
    "        if s[0] >= s[1]:\n",
    "            return rmin(s[1:])\n",
    "        elif s[0] < s[1]:\n",
    "            return rmin([s[0]] + s[2:])"
   ]
  },
  {
   "cell_type": "code",
   "execution_count": 54,
   "metadata": {},
   "outputs": [
    {
     "data": {
      "text/plain": [
       "1"
      ]
     },
     "execution_count": 54,
     "metadata": {},
     "output_type": "execute_result"
    }
   ],
   "source": [
    "rmin(a)"
   ]
  },
  {
   "cell_type": "code",
   "execution_count": null,
   "metadata": {},
   "outputs": [],
   "source": []
  }
 ],
 "metadata": {
  "kernelspec": {
   "display_name": "Python 3",
   "language": "python",
   "name": "python3"
  },
  "language_info": {
   "codemirror_mode": {
    "name": "ipython",
    "version": 3
   },
   "file_extension": ".py",
   "mimetype": "text/x-python",
   "name": "python",
   "nbconvert_exporter": "python",
   "pygments_lexer": "ipython3",
   "version": "3.6.5"
  }
 },
 "nbformat": 4,
 "nbformat_minor": 2
}
