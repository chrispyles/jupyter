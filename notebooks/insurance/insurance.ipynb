{
 "cells": [
  {
   "cell_type": "markdown",
   "metadata": {},
   "source": [
    "# Insurance Data\n",
    "This Jupyter Notebook takes an insurance data set from Kaggle and looks into the relationships between the different parameters given. First, we check for a correlation (a linear relationship) between BMI and insurance charges, and then we see if being a smoker influences what you're charged by insurance companies using an A/B Test."
   ]
  },
  {
   "cell_type": "code",
   "execution_count": 1,
   "metadata": {},
   "outputs": [
    {
     "data": {
      "text/html": [
       "<table border=\"1\" class=\"dataframe\">\n",
       "    <thead>\n",
       "        <tr>\n",
       "            <th>age</th> <th>sex</th> <th>bmi</th> <th>children</th> <th>smoker</th> <th>region</th> <th>charges</th>\n",
       "        </tr>\n",
       "    </thead>\n",
       "    <tbody>\n",
       "        <tr>\n",
       "            <td>19  </td> <td>female</td> <td>27.9  </td> <td>0       </td> <td>yes   </td> <td>southwest</td> <td>16884.9</td>\n",
       "        </tr>\n",
       "        <tr>\n",
       "            <td>18  </td> <td>male  </td> <td>33.77 </td> <td>1       </td> <td>no    </td> <td>southeast</td> <td>1725.55</td>\n",
       "        </tr>\n",
       "        <tr>\n",
       "            <td>28  </td> <td>male  </td> <td>33    </td> <td>3       </td> <td>no    </td> <td>southeast</td> <td>4449.46</td>\n",
       "        </tr>\n",
       "        <tr>\n",
       "            <td>33  </td> <td>male  </td> <td>22.705</td> <td>0       </td> <td>no    </td> <td>northwest</td> <td>21984.5</td>\n",
       "        </tr>\n",
       "        <tr>\n",
       "            <td>32  </td> <td>male  </td> <td>28.88 </td> <td>0       </td> <td>no    </td> <td>northwest</td> <td>3866.86</td>\n",
       "        </tr>\n",
       "        <tr>\n",
       "            <td>31  </td> <td>female</td> <td>25.74 </td> <td>0       </td> <td>no    </td> <td>southeast</td> <td>3756.62</td>\n",
       "        </tr>\n",
       "        <tr>\n",
       "            <td>46  </td> <td>female</td> <td>33.44 </td> <td>1       </td> <td>no    </td> <td>southeast</td> <td>8240.59</td>\n",
       "        </tr>\n",
       "        <tr>\n",
       "            <td>37  </td> <td>female</td> <td>27.74 </td> <td>3       </td> <td>no    </td> <td>northwest</td> <td>7281.51</td>\n",
       "        </tr>\n",
       "        <tr>\n",
       "            <td>37  </td> <td>male  </td> <td>29.83 </td> <td>2       </td> <td>no    </td> <td>northeast</td> <td>6406.41</td>\n",
       "        </tr>\n",
       "        <tr>\n",
       "            <td>60  </td> <td>female</td> <td>25.84 </td> <td>0       </td> <td>no    </td> <td>northwest</td> <td>28923.1</td>\n",
       "        </tr>\n",
       "    </tbody>\n",
       "</table>\n",
       "<p>... (1328 rows omitted)</p>"
      ],
      "text/plain": [
       "age  | sex    | bmi    | children | smoker | region    | charges\n",
       "19   | female | 27.9   | 0        | yes    | southwest | 16884.9\n",
       "18   | male   | 33.77  | 1        | no     | southeast | 1725.55\n",
       "28   | male   | 33     | 3        | no     | southeast | 4449.46\n",
       "33   | male   | 22.705 | 0        | no     | northwest | 21984.5\n",
       "32   | male   | 28.88  | 0        | no     | northwest | 3866.86\n",
       "31   | female | 25.74  | 0        | no     | southeast | 3756.62\n",
       "46   | female | 33.44  | 1        | no     | southeast | 8240.59\n",
       "37   | female | 27.74  | 3        | no     | northwest | 7281.51\n",
       "37   | male   | 29.83  | 2        | no     | northeast | 6406.41\n",
       "60   | female | 25.84  | 0        | no     | northwest | 28923.1\n",
       "... (1328 rows omitted)"
      ]
     },
     "execution_count": 1,
     "metadata": {},
     "output_type": "execute_result"
    }
   ],
   "source": [
    "# Import datascience and numpy, define some important functions, and read the table\n",
    "\n",
    "from datascience import *\n",
    "import numpy as np\n",
    "\n",
    "import matplotlib\n",
    "%matplotlib inline\n",
    "import matplotlib.pyplot as plt\n",
    "plt.style.use('ggplot')\n",
    "import warnings\n",
    "warnings.simplefilter('ignore', FutureWarning)\n",
    "\n",
    "# regression functions\n",
    "def standard_units(arr):\n",
    "    return (arr - np.mean(arr)) / np.std(arr)\n",
    "\n",
    "def correlation(x, y):\n",
    "    return np.mean(standard_units(x) * standard_units(y))\n",
    "\n",
    "def slope(x, y):\n",
    "    r = correlation(x, y)\n",
    "    return r * np.std(y) / np.std(x)\n",
    "\n",
    "def intercept(x, y):\n",
    "    m = slope(x, y)\n",
    "    return np.mean(y) - m * np.mean(x)\n",
    "\n",
    "# read table\n",
    "insurance = Table.read_table('insurance.csv')\n",
    "insurance"
   ]
  },
  {
   "cell_type": "markdown",
   "metadata": {},
   "source": [
    "### Is there a correlation (a linear relationship) between BMI and insurance charges?\n",
    "Correlation is calculated by taking two data points, putting them in standard units, multiplying the coordinates elementwise, and then finding the mean (all of this is defined in the `correlation` function in the first cell). The value of $r$, heretofore referred to as correlation, ranges from -1 to 1; a value near 1 indicates a positive linear relationship (i.e. a line with a positive slope), near -1 indicates a negative linear relationship, and near 0 indicates little/no linear relationship."
   ]
  },
  {
   "cell_type": "code",
   "execution_count": 3,
   "metadata": {
    "scrolled": false
   },
   "outputs": [
    {
     "name": "stdout",
     "output_type": "stream",
     "text": [
      "0.1983409688336289\n"
     ]
    },
    {
     "data": {
      "image/png": "[encoded data removed]",
      "text/plain": [
       "<Figure size 360x360 with 1 Axes>"
      ]
     },
     "metadata": {},
     "output_type": "display_data"
    }
   ],
   "source": [
    "print(correlation(insurance.column('bmi'), insurance.column('charges')))\n",
    "insurance.scatter('bmi', 'charges')"
   ]
  },
  {
   "cell_type": "markdown",
   "metadata": {},
   "source": [
    "Based on the fact that the value of $r$ was around 0.2, there might be a _small_ correlation between BMI and insurance charges, but the relationship is not as strong as it could be among other data points."
   ]
  },
  {
   "cell_type": "markdown",
   "metadata": {},
   "source": [
    "### Does being a smoker affect what you're charged by the insurance company?\n",
    "**Null Hypothesis**: Being a smoker does not affect your charges; any differences in the observed values are due to random chance.\n",
    "\n",
    "**Alternative Hypothesis**: Being a smoker _does_ affect what you are charged in insurance premiums.\n",
    "\n",
    "This question, from a data science perspective, is asking whether or not the charges for the groups `smoker` and `non-smoker` come from the same underlying distribution. To find this out, we use an A/B Test, which involves shuffling up the data in question in a sample _without replacement_, computing a test statistic, and finding the p-value. By convention, if the p-value is less than .05 (meaning less than 5% of the simulated data point in the same direction as the original data set), we lean in the direction of the alternative hypothesis. In this A/B test, the test statistic will be the absolute difference between the mean charges for smokers and non-smokers."
   ]
  },
  {
   "cell_type": "code",
   "execution_count": 4,
   "metadata": {},
   "outputs": [
    {
     "data": {
      "text/html": [
       "<table border=\"1\" class=\"dataframe\">\n",
       "    <thead>\n",
       "        <tr>\n",
       "            <th>smoker</th> <th>original charges mean</th> <th>shuffled charges mean</th>\n",
       "        </tr>\n",
       "    </thead>\n",
       "    <tbody>\n",
       "        <tr>\n",
       "            <td>no    </td> <td>8434.27              </td> <td>13443.6              </td>\n",
       "        </tr>\n",
       "        <tr>\n",
       "            <td>yes   </td> <td>32050.2              </td> <td>12597.8              </td>\n",
       "        </tr>\n",
       "    </tbody>\n",
       "</table>"
      ],
      "text/plain": [
       "smoker | original charges mean | shuffled charges mean\n",
       "no     | 8434.27               | 13443.6\n",
       "yes    | 32050.2               | 12597.8"
      ]
     },
     "execution_count": 4,
     "metadata": {},
     "output_type": "execute_result"
    }
   ],
   "source": [
    "# This is a single permutation of the sample; this will be done many times later in the actual permutation test;\n",
    "# this cell is meant to give an idea of how the sample will be permuted.\n",
    "\n",
    "i = insurance.select('smoker', 'charges')\n",
    "\n",
    "shuffled = i.sample(with_replacement=False).column('charges')\n",
    "i_shuffled = i.with_column('shuffled charges', shuffled).relabeled('charges', 'original charges')\n",
    "i_shuffled.group(0, np.mean)"
   ]
  },
  {
   "cell_type": "code",
   "execution_count": 5,
   "metadata": {},
   "outputs": [
    {
     "data": {
      "text/html": [
       "<table border=\"1\" class=\"dataframe\">\n",
       "    <thead>\n",
       "        <tr>\n",
       "            <th>smoker</th> <th>original charges</th> <th>shuffled charges</th>\n",
       "        </tr>\n",
       "    </thead>\n",
       "    <tbody>\n",
       "        <tr>\n",
       "            <td>yes   </td> <td>16884.9         </td> <td>3268.85         </td>\n",
       "        </tr>\n",
       "        <tr>\n",
       "            <td>no    </td> <td>1725.55         </td> <td>10197.8         </td>\n",
       "        </tr>\n",
       "        <tr>\n",
       "            <td>no    </td> <td>4449.46         </td> <td>13390.6         </td>\n",
       "        </tr>\n",
       "        <tr>\n",
       "            <td>no    </td> <td>21984.5         </td> <td>32734.2         </td>\n",
       "        </tr>\n",
       "        <tr>\n",
       "            <td>no    </td> <td>3866.86         </td> <td>1639.56         </td>\n",
       "        </tr>\n",
       "        <tr>\n",
       "            <td>no    </td> <td>3756.62         </td> <td>8551.35         </td>\n",
       "        </tr>\n",
       "        <tr>\n",
       "            <td>no    </td> <td>8240.59         </td> <td>10118.4         </td>\n",
       "        </tr>\n",
       "        <tr>\n",
       "            <td>no    </td> <td>7281.51         </td> <td>5253.52         </td>\n",
       "        </tr>\n",
       "        <tr>\n",
       "            <td>no    </td> <td>6406.41         </td> <td>2719.28         </td>\n",
       "        </tr>\n",
       "        <tr>\n",
       "            <td>no    </td> <td>28923.1         </td> <td>44260.7         </td>\n",
       "        </tr>\n",
       "    </tbody>\n",
       "</table>\n",
       "<p>... (1328 rows omitted)</p>"
      ],
      "text/plain": [
       "smoker | original charges | shuffled charges\n",
       "yes    | 16884.9          | 3268.85\n",
       "no     | 1725.55          | 10197.8\n",
       "no     | 4449.46          | 13390.6\n",
       "no     | 21984.5          | 32734.2\n",
       "no     | 3866.86          | 1639.56\n",
       "no     | 3756.62          | 8551.35\n",
       "no     | 8240.59          | 10118.4\n",
       "no     | 7281.51          | 5253.52\n",
       "no     | 6406.41          | 2719.28\n",
       "no     | 28923.1          | 44260.7\n",
       "... (1328 rows omitted)"
      ]
     },
     "execution_count": 5,
     "metadata": {},
     "output_type": "execute_result"
    }
   ],
   "source": [
    "# for an idea of what the input of the ts function will be (see next cell)\n",
    "\n",
    "i_shuffled"
   ]
  },
  {
   "cell_type": "code",
   "execution_count": 7,
   "metadata": {},
   "outputs": [
    {
     "data": {
      "text/plain": [
       "845.821103053846"
      ]
     },
     "execution_count": 7,
     "metadata": {},
     "output_type": "execute_result"
    }
   ],
   "source": [
    "# defining the function ts that will compute the test statistic given a shuffled table like the one above\n",
    "\n",
    "def ts(tbl):\n",
    "    t = tbl.group(0, np.mean)\n",
    "    return abs(t.column(2).item(0) - t.column(2).item(1))\n",
    "\n",
    "\n",
    "# computing the test statistic on the table i_shuffled\n",
    "\n",
    "i_ts = ts(i_shuffled)\n",
    "i_ts"
   ]
  },
  {
   "cell_type": "code",
   "execution_count": 16,
   "metadata": {},
   "outputs": [],
   "source": [
    "# defining a function perm_test which does the permutation test on the data set; takes the table i (which contains\n",
    "# the smoker and charges columns from the insurance table) as an argument as well as the number of repetitions;\n",
    "# function returns the p-value\n",
    "\n",
    "def perm_test(tbl, reps):\n",
    "    stats = make_array()\n",
    "    for i in np.arange(reps):\n",
    "        shuffled = tbl.sample(with_replacement=False).column(1)\n",
    "        t = tbl.with_column('shuffled', shuffled)\n",
    "        stat = ts(t)\n",
    "        stats = np.append(stats, stat)\n",
    "        \n",
    "    observed_ts = abs(tbl.group(0, np.mean).column(1).item(0) - tbl.group(0, np.mean).column(1).item(1))\n",
    "    \n",
    "    return np.count_nonzero(stats >= observed_ts) / len(stats)"
   ]
  },
  {
   "cell_type": "code",
   "execution_count": 18,
   "metadata": {},
   "outputs": [
    {
     "data": {
      "text/plain": [
       "0.0"
      ]
     },
     "execution_count": 18,
     "metadata": {},
     "output_type": "execute_result"
    }
   ],
   "source": [
    "perm_test(i, 10000)"
   ]
  },
  {
   "cell_type": "markdown",
   "metadata": {},
   "source": [
    "**Conclusion**: Because the p-value is 0, we know that _none_ of the shuffled sets were as far or farther in the direction of the alternative hypothesis than was the original data set; this means that in all likelihood, the observed differences are _not_ due to random chance. Thus, we lean in the direction of the alternative hypothesis: that being a smoker affects what you're charged by insurance companies. Conventional wisdom, I know, but it is still nice to have it proven empirically."
   ]
  }
 ],
 "metadata": {
  "kernelspec": {
   "display_name": "Python 3",
   "language": "python",
   "name": "python3"
  },
  "language_info": {
   "codemirror_mode": {
    "name": "ipython",
    "version": 3
   },
   "file_extension": ".py",
   "mimetype": "text/x-python",
   "name": "python",
   "nbconvert_exporter": "python",
   "pygments_lexer": "ipython3",
   "version": "3.6.5"
  }
 },
 "nbformat": 4,
 "nbformat_minor": 2
}
