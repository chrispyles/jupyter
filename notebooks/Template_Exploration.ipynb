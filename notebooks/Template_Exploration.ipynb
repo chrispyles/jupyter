{
 "cells": [
  {
   "cell_type": "code",
   "execution_count": 1,
   "metadata": {},
   "outputs": [],
   "source": [
    "from datascience import *\n",
    "import numpy as np\n",
    "\n",
    "import matplotlib\n",
    "%matplotlib inline\n",
    "import matplotlib.pyplot as plt\n",
    "plt.style.use('ggplot')\n",
    "import warnings\n",
    "warnings.simplefilter('ignore', FutureWarning)\n",
    "\n",
    "# regression functions\n",
    "def standard_units(arr):\n",
    "    return (arr - np.mean(arr)) / np.std(arr)\n",
    "\n",
    "def correlation(x, y):\n",
    "    return np.mean(standard_units(x) * standard_units(y))\n",
    "\n",
    "def slope(x, y):\n",
    "    r = correlation(x, y)\n",
    "    return r * np.std(y) / np.std(x)\n",
    "\n",
    "def intercept(x, y):\n",
    "    m = slope(x, y)\n",
    "    return np.mean(y) - m * np.mean(x)\n",
    "\n",
    "# read table\n"
   ]
  },
  {
   "cell_type": "code",
   "execution_count": 2,
   "metadata": {},
   "outputs": [
    {
     "data": {
      "text/html": [
       "<table border=\"1\" class=\"dataframe\">\n",
       "    <thead>\n",
       "        <tr>\n",
       "            <th>SUBJECT</th> <th>Subject</th> <th>LOCATION</th> <th>Country</th> <th>FREQUENCY</th> <th>Frequency</th> <th>TIME</th> <th>Time</th> <th>Unit Code</th> <th>Unit</th> <th>PowerCode Code</th> <th>PowerCode</th> <th>Reference Period Code</th> <th>Reference Period</th> <th>Value</th> <th>Flag Codes</th> <th>Flags</th>\n",
       "        </tr>\n",
       "    </thead>\n",
       "    <tbody>\n",
       "        <tr>\n",
       "            <td>IRLT   </td> <td>Long-term interest rates, Per cent per annum</td> <td>AUS     </td> <td>Australia</td> <td>A        </td> <td>Annual   </td> <td>2015   </td> <td>2015   </td> <td>PC       </td> <td>Percentage</td> <td>0             </td> <td>Units    </td> <td>nan                  </td> <td>nan             </td> <td>2.71083</td> <td>nan       </td> <td>nan  </td>\n",
       "        </tr>\n",
       "        <tr>\n",
       "            <td>IRLT   </td> <td>Long-term interest rates, Per cent per annum</td> <td>AUS     </td> <td>Australia</td> <td>A        </td> <td>Annual   </td> <td>2016   </td> <td>2016   </td> <td>PC       </td> <td>Percentage</td> <td>0             </td> <td>Units    </td> <td>nan                  </td> <td>nan             </td> <td>2.33667</td> <td>nan       </td> <td>nan  </td>\n",
       "        </tr>\n",
       "        <tr>\n",
       "            <td>IRLT   </td> <td>Long-term interest rates, Per cent per annum</td> <td>AUS     </td> <td>Australia</td> <td>A        </td> <td>Annual   </td> <td>2017   </td> <td>2017   </td> <td>PC       </td> <td>Percentage</td> <td>0             </td> <td>Units    </td> <td>nan                  </td> <td>nan             </td> <td>2.63917</td> <td>nan       </td> <td>nan  </td>\n",
       "        </tr>\n",
       "        <tr>\n",
       "            <td>IRLT   </td> <td>Long-term interest rates, Per cent per annum</td> <td>AUS     </td> <td>Australia</td> <td>Q        </td> <td>Quarterly</td> <td>2015-Q1</td> <td>Q1-2015</td> <td>PC       </td> <td>Percentage</td> <td>0             </td> <td>Units    </td> <td>nan                  </td> <td>nan             </td> <td>2.54   </td> <td>nan       </td> <td>nan  </td>\n",
       "        </tr>\n",
       "        <tr>\n",
       "            <td>IRLT   </td> <td>Long-term interest rates, Per cent per annum</td> <td>AUS     </td> <td>Australia</td> <td>Q        </td> <td>Quarterly</td> <td>2015-Q2</td> <td>Q2-2015</td> <td>PC       </td> <td>Percentage</td> <td>0             </td> <td>Units    </td> <td>nan                  </td> <td>nan             </td> <td>2.75667</td> <td>nan       </td> <td>nan  </td>\n",
       "        </tr>\n",
       "        <tr>\n",
       "            <td>IRLT   </td> <td>Long-term interest rates, Per cent per annum</td> <td>AUS     </td> <td>Australia</td> <td>Q        </td> <td>Quarterly</td> <td>2015-Q3</td> <td>Q3-2015</td> <td>PC       </td> <td>Percentage</td> <td>0             </td> <td>Units    </td> <td>nan                  </td> <td>nan             </td> <td>2.77333</td> <td>nan       </td> <td>nan  </td>\n",
       "        </tr>\n",
       "        <tr>\n",
       "            <td>IRLT   </td> <td>Long-term interest rates, Per cent per annum</td> <td>AUS     </td> <td>Australia</td> <td>Q        </td> <td>Quarterly</td> <td>2015-Q4</td> <td>Q4-2015</td> <td>PC       </td> <td>Percentage</td> <td>0             </td> <td>Units    </td> <td>nan                  </td> <td>nan             </td> <td>2.77333</td> <td>nan       </td> <td>nan  </td>\n",
       "        </tr>\n",
       "        <tr>\n",
       "            <td>IRLT   </td> <td>Long-term interest rates, Per cent per annum</td> <td>AUS     </td> <td>Australia</td> <td>Q        </td> <td>Quarterly</td> <td>2016-Q1</td> <td>Q1-2016</td> <td>PC       </td> <td>Percentage</td> <td>0             </td> <td>Units    </td> <td>nan                  </td> <td>nan             </td> <td>2.59333</td> <td>nan       </td> <td>nan  </td>\n",
       "        </tr>\n",
       "        <tr>\n",
       "            <td>IRLT   </td> <td>Long-term interest rates, Per cent per annum</td> <td>AUS     </td> <td>Australia</td> <td>Q        </td> <td>Quarterly</td> <td>2016-Q2</td> <td>Q2-2016</td> <td>PC       </td> <td>Percentage</td> <td>0             </td> <td>Units    </td> <td>nan                  </td> <td>nan             </td> <td>2.32   </td> <td>nan       </td> <td>nan  </td>\n",
       "        </tr>\n",
       "        <tr>\n",
       "            <td>IRLT   </td> <td>Long-term interest rates, Per cent per annum</td> <td>AUS     </td> <td>Australia</td> <td>Q        </td> <td>Quarterly</td> <td>2016-Q3</td> <td>Q3-2016</td> <td>PC       </td> <td>Percentage</td> <td>0             </td> <td>Units    </td> <td>nan                  </td> <td>nan             </td> <td>1.93333</td> <td>nan       </td> <td>nan  </td>\n",
       "        </tr>\n",
       "    </tbody>\n",
       "</table>\n",
       "<p>... (6789 rows omitted)</p>"
      ],
      "text/plain": [
       "SUBJECT | Subject                                      | LOCATION | Country   | FREQUENCY | Frequency | TIME    | Time    | Unit Code | Unit       | PowerCode Code | PowerCode | Reference Period Code | Reference Period | Value   | Flag Codes | Flags\n",
       "IRLT    | Long-term interest rates, Per cent per annum | AUS      | Australia | A         | Annual    | 2015    | 2015    | PC        | Percentage | 0              | Units     | nan                   | nan              | 2.71083 | nan        | nan\n",
       "IRLT    | Long-term interest rates, Per cent per annum | AUS      | Australia | A         | Annual    | 2016    | 2016    | PC        | Percentage | 0              | Units     | nan                   | nan              | 2.33667 | nan        | nan\n",
       "IRLT    | Long-term interest rates, Per cent per annum | AUS      | Australia | A         | Annual    | 2017    | 2017    | PC        | Percentage | 0              | Units     | nan                   | nan              | 2.63917 | nan        | nan\n",
       "IRLT    | Long-term interest rates, Per cent per annum | AUS      | Australia | Q         | Quarterly | 2015-Q1 | Q1-2015 | PC        | Percentage | 0              | Units     | nan                   | nan              | 2.54    | nan        | nan\n",
       "IRLT    | Long-term interest rates, Per cent per annum | AUS      | Australia | Q         | Quarterly | 2015-Q2 | Q2-2015 | PC        | Percentage | 0              | Units     | nan                   | nan              | 2.75667 | nan        | nan\n",
       "IRLT    | Long-term interest rates, Per cent per annum | AUS      | Australia | Q         | Quarterly | 2015-Q3 | Q3-2015 | PC        | Percentage | 0              | Units     | nan                   | nan              | 2.77333 | nan        | nan\n",
       "IRLT    | Long-term interest rates, Per cent per annum | AUS      | Australia | Q         | Quarterly | 2015-Q4 | Q4-2015 | PC        | Percentage | 0              | Units     | nan                   | nan              | 2.77333 | nan        | nan\n",
       "IRLT    | Long-term interest rates, Per cent per annum | AUS      | Australia | Q         | Quarterly | 2016-Q1 | Q1-2016 | PC        | Percentage | 0              | Units     | nan                   | nan              | 2.59333 | nan        | nan\n",
       "IRLT    | Long-term interest rates, Per cent per annum | AUS      | Australia | Q         | Quarterly | 2016-Q2 | Q2-2016 | PC        | Percentage | 0              | Units     | nan                   | nan              | 2.32    | nan        | nan\n",
       "IRLT    | Long-term interest rates, Per cent per annum | AUS      | Australia | Q         | Quarterly | 2016-Q3 | Q3-2016 | PC        | Percentage | 0              | Units     | nan                   | nan              | 1.93333 | nan        | nan\n",
       "... (6789 rows omitted)"
      ]
     },
     "execution_count": 2,
     "metadata": {},
     "output_type": "execute_result"
    }
   ],
   "source": [
    "Table.read_table('mei.csv')"
   ]
  },
  {
   "cell_type": "code",
   "execution_count": null,
   "metadata": {},
   "outputs": [],
   "source": []
  }
 ],
 "metadata": {
  "kernelspec": {
   "display_name": "Python 3",
   "language": "python",
   "name": "python3"
  },
  "language_info": {
   "codemirror_mode": {
    "name": "ipython",
    "version": 3
   },
   "file_extension": ".py",
   "mimetype": "text/x-python",
   "name": "python",
   "nbconvert_exporter": "python",
   "pygments_lexer": "ipython3",
   "version": "3.6.5"
  }
 },
 "nbformat": 4,
 "nbformat_minor": 2
}
